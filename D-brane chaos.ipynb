{
 "cells": [
  {
   "cell_type": "code",
   "execution_count": 1,
   "id": "5bb6502a",
   "metadata": {},
   "outputs": [],
   "source": [
    "import sympy as sp\n",
    "import numpy as np\n",
    "import time \n",
    "\n",
    "N = 3\n",
    "g = sp.Symbol(\"g\", real = True)"
   ]
  },
  {
   "cell_type": "markdown",
   "id": "6b56a04e",
   "metadata": {},
   "source": [
    "## Creating X coordinates (using sp.Matrix for the 4th stack)"
   ]
  },
  {
   "cell_type": "code",
   "execution_count": 2,
   "id": "f982a33e",
   "metadata": {},
   "outputs": [],
   "source": [
    "# Creating a dictionary to store the X coordinates\n",
    "X = {}\n",
    "for i in np.arange(1,4):\n",
    "    for j in np.arange(1,10):\n",
    "        X[str(i)+str(j)] = sp.Symbol(\"X\"+str(i)+str(j), real = True)\n",
    "            \n",
    "for i in np.arange(1,10):\n",
    "    #initialise a matrix of correct shape\n",
    "    X_init = []\n",
    "    for j in np.arange(1,N+1):\n",
    "        row = []\n",
    "        for k in np.arange(1,N+1):\n",
    "            row.append(sp.Symbol(\"a_{\"+str(j)+str(k)+\"}\"))\n",
    "        X_init.append(row)\n",
    "    X[\"4\"+str(i)] = sp.Matrix(X_init)\n",
    "    \n",
    "    for j in np.arange(N):\n",
    "        for k in np.arange(N):\n",
    "            if j == k:\n",
    "                X[\"4\"+str(i)][j,k] = sp.Symbol(\"X4\"+str(i)+\"(\"+str(j)+\",\"+str(k)+\")\",real = True)\n",
    "            elif j > k:\n",
    "                continue\n",
    "            else:\n",
    "                x_ij = sp.Symbol(\"X4\"+str(i)+\"(\"+str(j)+\",\"+str(k)+\").real()\",real = True)\n",
    "                y_ij = sp.Symbol(\"X4\"+str(i)+\"(\"+str(j)+\",\"+str(k)+\").imag()\",real = True)\n",
    "                X[\"4\"+str(i)][j,k] = x_ij + sp.I*y_ij\n",
    "                X[\"4\"+str(i)][k,j] = x_ij - sp.I*y_ij"
   ]
  },
  {
   "cell_type": "markdown",
   "id": "96a10da2",
   "metadata": {},
   "source": [
    "## V coordinates (X_dot)"
   ]
  },
  {
   "cell_type": "code",
   "execution_count": 10,
   "id": "eb117fda",
   "metadata": {},
   "outputs": [],
   "source": [
    "# Creating a dictionary to store the V (X_dot) coordinates\n",
    "V = {}\n",
    "for i in np.arange(1,4):\n",
    "    for j in np.arange(1,10):\n",
    "        V[str(i)+str(j)] = sp.Symbol(\"V\"+str(i)+str(j), real = True)\n",
    "            \n",
    "for i in np.arange(1,10):\n",
    "    #initialise a matrix of correct shape\n",
    "    V_init = []\n",
    "    for j in np.arange(1,N+1):\n",
    "        row = []\n",
    "        for k in np.arange(1,N+1):\n",
    "            row.append(sp.Symbol(\"a_{\"+str(j)+str(k)+\"}\"))\n",
    "        V_init.append(row)\n",
    "    V[\"4\"+str(i)] = sp.Matrix(V_init)\n",
    "    \n",
    "    for j in np.arange(N):\n",
    "        for k in np.arange(N):\n",
    "            if j == k:\n",
    "                V[\"4\"+str(i)][j,k] = sp.Symbol(\"V4\"+str(i)+\"(\"+str(j)+\",\"+str(k)+\")\",real = True)\n",
    "            elif j > k:\n",
    "                continue\n",
    "            else:\n",
    "                x_ij = sp.Symbol(\"V4\"+str(i)+\"(\"+str(j)+\",\"+str(k)+\").real()\",real = True)\n",
    "                y_ij = sp.Symbol(\"V4\"+str(i)+\"(\"+str(j)+\",\"+str(k)+\").imag()\",real = True)\n",
    "                V[\"4\"+str(i)][j,k] = x_ij + sp.I*y_ij\n",
    "                V[\"4\"+str(i)][k,j] = x_ij - sp.I*y_ij"
   ]
  },
  {
   "cell_type": "markdown",
   "id": "4a16d0ee",
   "metadata": {},
   "source": [
    "## Creating X coordinates (using sp.MatrixSymbol for the 4th stack)"
   ]
  },
  {
   "cell_type": "code",
   "execution_count": 4,
   "id": "e9ce397b",
   "metadata": {},
   "outputs": [],
   "source": [
    "# Creating a dictionary to store the X coordinates\n",
    "X = {}\n",
    "for i in np.arange(1,5):\n",
    "    for j in np.arange(1,10):\n",
    "        if i != 4:\n",
    "            X[str(i)+str(j)] = sp.Symbol(\"X^{\"+str(i)+\"}_\"+str(j), real = True)\n",
    "        else:\n",
    "            X[str(i)+str(j)] = sp.MatrixSymbol(\"X^{\"+str(i)+\"}_\"+str(j),N,N)"
   ]
  },
  {
   "cell_type": "markdown",
   "id": "607747e6",
   "metadata": {},
   "source": [
    "## Creating the $\\phi$'s and $\\phi^{\\dagger}$'s and $\\phi^{(ij)}$"
   ]
  },
  {
   "cell_type": "code",
   "execution_count": 19,
   "id": "c1702ab2",
   "metadata": {},
   "outputs": [],
   "source": [
    "phi = {}\n",
    "phi_ = {}\n",
    "phi_dag = {}\n",
    "for i in np.arange(1,5):\n",
    "    phi[str(i)+\"1\"] = 1/sp.sqrt(2) * (X[str(i)+\"4\"] + sp.I * X[str(i)+\"5\"])\n",
    "    phi[str(i)+\"2\"] = 1/sp.sqrt(2) * (X[str(i)+\"6\"] + sp.I * X[str(i)+\"7\"])\n",
    "    phi[str(i)+\"3\"] = 1/sp.sqrt(2) * (X[str(i)+\"8\"] + sp.I * X[str(i)+\"9\"])\n",
    "    \n",
    "    phi_dag[str(i)+\"1\"] = 1/sp.sqrt(2) * ( X[str(i)+\"4\"] - sp.I * X[str(i)+\"5\"])\n",
    "    phi_dag[str(i)+\"2\"] = 1/sp.sqrt(2) * (X[str(i)+\"6\"] - sp.I * X[str(i)+\"7\"])\n",
    "    phi_dag[str(i)+\"3\"] = 1/sp.sqrt(2) * (X[str(i)+\"8\"] - sp.I * X[str(i)+\"9\"])\n",
    "    \n",
    "phi_[\"12\"] = phi[\"13\"] - phi[\"23\"]\n",
    "phi_[\"23\"] = phi[\"21\"] - phi[\"31\"]\n",
    "phi_[\"31\"] = phi[\"32\"] - phi[\"12\"]"
   ]
  },
  {
   "cell_type": "markdown",
   "id": "ad124cfc",
   "metadata": {},
   "source": [
    "## Creating Z coordinates"
   ]
  },
  {
   "cell_type": "code",
   "execution_count": 20,
   "id": "992433af",
   "metadata": {},
   "outputs": [],
   "source": [
    "# Building the Z-dictionary\n",
    "Z = {}\n",
    "for i in np.arange(1,4):\n",
    "    #Scalars here\n",
    "    for j in np.arange(1,4):\n",
    "        if i == j: \n",
    "            continue\n",
    "        else:\n",
    "            P = sp.Symbol(\"P\"+str(i) + str(j), real = True)\n",
    "            Q = sp.Symbol(\"Q\"+str(i) + str(j), real = True)\n",
    "            Z[str(i) + str(j)] = (P + sp.I * Q)\n",
    "    \n",
    "    #Vectors here\n",
    "    store_current_4i = []\n",
    "    store_current_i4 = []\n",
    "    for j in np.arange(N):\n",
    "        P4i = sp.Symbol(\"P\"+str(4)+str(i)+\"(\"+str(j)+\")\", real = True)\n",
    "        Q4i = sp.Symbol(\"Q\"+str(4)+str(i)+\"(\"+str(j)+\")\", real = True)\n",
    "        Pi4 = sp.Symbol(\"P\"+str(i)+str(4)+\"(\"+str(j)+\")\", real = True)\n",
    "        Qi4 = sp.Symbol(\"Q\"+str(i)+str(4)+\"(\"+str(j)+\")\", real = True)\n",
    "        store_current_4i.append([P4i + sp.I * Q4i])\n",
    "        store_current_i4.append([Pi4 + sp.I * Qi4])\n",
    "    Z[\"4\"+str(i)] = sp.Matrix(store_current_4i)\n",
    "    Z[str(i) + \"4\"] = sp.Matrix(store_current_i4).transpose()"
   ]
  },
  {
   "cell_type": "markdown",
   "id": "136b37c0",
   "metadata": {},
   "source": [
    "## Z_dots (U + iW)"
   ]
  },
  {
   "cell_type": "code",
   "execution_count": 25,
   "id": "caa3b9c0",
   "metadata": {},
   "outputs": [],
   "source": [
    "# Call P_dot and Q_dot U and W respectively\n",
    "Z_dot = {}\n",
    "for i in np.arange(1,4):\n",
    "    #Scalars here\n",
    "    for j in np.arange(1,4):\n",
    "        if i == j: \n",
    "            continue\n",
    "        else:\n",
    "            U = sp.Symbol(\"U\"+str(i) + str(j), real = True)\n",
    "            W = sp.Symbol(\"W\"+str(i) + str(j), real = True)\n",
    "            Z_dot[str(i) + str(j)] = (P + sp.I * Q)\n",
    "    \n",
    "    #Vectors here\n",
    "    store_current_4i = []\n",
    "    store_current_i4 = []\n",
    "    for j in np.arange(N):\n",
    "        U4i = sp.Symbol(\"U\"+str(4)+str(i)+\"(\"+str(j)+\")\", real = True)\n",
    "        W4i = sp.Symbol(\"W\"+str(4)+str(i)+\"(\"+str(j)+\")\", real = True)\n",
    "        Ui4 = sp.Symbol(\"U\"+str(i)+str(4)+\"(\"+str(j)+\")\", real = True)\n",
    "        Wi4 = sp.Symbol(\"W\"+str(i)+str(4)+\"(\"+str(j)+\")\", real = True)\n",
    "        store_current_4i.append([U4i + sp.I * W4i])\n",
    "        store_current_i4.append([Ui4 + sp.I * Wi4])\n",
    "    Z_dot[\"4\"+str(i)] = sp.Matrix(store_current_4i)\n",
    "    Z_dot[str(i) + \"4\"] = sp.Matrix(store_current_i4).transpose()"
   ]
  },
  {
   "cell_type": "markdown",
   "id": "cdf980ca",
   "metadata": {},
   "source": [
    "## Adding Kinetic"
   ]
  },
  {
   "cell_type": "code",
   "execution_count": 37,
   "id": "04f0d4d4",
   "metadata": {},
   "outputs": [
    {
     "name": "stdout",
     "output_type": "stream",
     "text": [
      "Abs(X31)\n"
     ]
    }
   ],
   "source": [
    "print(sp.Abs(X[\"31\"]))"
   ]
  },
  {
   "cell_type": "markdown",
   "id": "34c0b5dd",
   "metadata": {},
   "source": [
    "## Creating the F variables"
   ]
  },
  {
   "cell_type": "code",
   "execution_count": 6,
   "id": "5d075d7f",
   "metadata": {},
   "outputs": [],
   "source": [
    "F = {}\n",
    "\n",
    "#Scalars\n",
    "for i in np.arange(1,4):\n",
    "    for j in np.arange(1,5):\n",
    "        if i == j:\n",
    "            continue\n",
    "        if j == 4:\n",
    "            F[str(i)+str(j)] = (Z[str(i)+str(j)] * Z[str(j)+str(i)])[0] + N*sp.Symbol(\"c\"+str(i)+str(j))/g**2\n",
    "        else:\n",
    "            F[str(i)+str(j)] = Z[str(i)+str(j)] * Z[str(j)+str(i)] + sp.Symbol(\"c\"+str(i)+str(j))/g**2 \n",
    "\n",
    "F[\"41\"] = Z[\"41\"]*Z[\"14\"] + (sp.Symbol(\"c41\")/g**2)*sp.eye(N) +  phi[\"42\"]*phi[\"43\"] - phi[\"43\"]*phi[\"42\"]\n",
    "F[\"42\"] = Z[\"42\"]*Z[\"24\"] + (sp.Symbol(\"c42\")/g**2)*sp.eye(N) +  phi[\"43\"]*phi[\"41\"] - phi[\"41\"]*phi[\"43\"]\n",
    "F[\"43\"] = Z[\"43\"]*Z[\"34\"] + (sp.Symbol(\"c43\")/g**2)*sp.eye(N) -  phi[\"42\"]*phi[\"41\"] + phi[\"41\"]*phi[\"42\"]"
   ]
  },
  {
   "cell_type": "markdown",
   "id": "7f16420c",
   "metadata": {},
   "source": [
    "## Writing in the G's"
   ]
  },
  {
   "cell_type": "code",
   "execution_count": 7,
   "id": "efda841f",
   "metadata": {},
   "outputs": [],
   "source": [
    "G = {}\n",
    "\n",
    "G[\"21\"] = phi_[\"12\"]*Z[\"21\"] + Z[\"23\"]*Z[\"31\"] + (Z[\"24\"]*Z[\"41\"])[0]\n",
    "G[\"12\"] = phi_[\"12\"]*Z[\"12\"] + Z[\"13\"]*Z[\"32\"] + (Z[\"14\"]*Z[\"42\"])[0]\n",
    "\n",
    "G[\"31\"] = phi_[\"31\"]*Z[\"31\"] + Z[\"32\"]*Z[\"21\"] - (Z[\"34\"]*Z[\"41\"])[0]\n",
    "G[\"13\"] = phi_[\"31\"]*Z[\"13\"] + Z[\"12\"]*Z[\"23\"] + (Z[\"14\"]*Z[\"43\"])[0]\n",
    "\n",
    "G[\"32\"] = phi_[\"23\"]*Z[\"32\"] + Z[\"31\"]*Z[\"12\"] + (Z[\"34\"]*Z[\"42\"])[0]\n",
    "G[\"23\"] = phi_[\"23\"]*Z[\"23\"] + Z[\"21\"]*Z[\"13\"] + (Z[\"24\"]*Z[\"43\"])[0]\n",
    "\n",
    "G[\"41\"] = -phi[\"41\"]*Z[\"41\"] + Z[\"42\"]*Z[\"21\"] + Z[\"43\"]*Z[\"31\"]\n",
    "G[\"14\"] = -Z[\"14\"]*phi[\"41\"] + Z[\"12\"]*Z[\"24\"] - Z[\"13\"]*Z[\"34\"]\n",
    "\n",
    "G[\"42\"] = -phi[\"42\"]*Z[\"42\"] + Z[\"43\"]*Z[\"32\"] + Z[\"41\"]*Z[\"12\"]\n",
    "G[\"24\"] = -Z[\"24\"]*phi[\"42\"] + Z[\"21\"]*Z[\"14\"] + Z[\"23\"]*Z[\"34\"]\n",
    "\n",
    "G[\"43\"] = -phi[\"43\"]*Z[\"43\"] - Z[\"41\"]*Z[\"13\"] + Z[\"42\"]*Z[\"23\"]\n",
    "G[\"34\"] = -Z[\"34\"]*phi[\"43\"] + Z[\"31\"]*Z[\"14\"] + Z[\"32\"]*Z[\"24\"]\n",
    "\n",
    "scalar_G = [G[\"12\"],G[\"21\"],G[\"13\"],G[\"31\"],G[\"23\"],G[\"32\"]]"
   ]
  },
  {
   "cell_type": "markdown",
   "id": "667d9bcc",
   "metadata": {},
   "source": [
    "## Creating $V_F$"
   ]
  },
  {
   "cell_type": "code",
   "execution_count": 8,
   "id": "51aac96d",
   "metadata": {},
   "outputs": [
    {
     "name": "stdout",
     "output_type": "stream",
     "text": [
      "2.6112191677093506\n"
     ]
    }
   ],
   "source": [
    "start = time.time()\n",
    "Fsum1 = sp.Symbol(\"\",real = True)\n",
    "Fsum2 = sp.Symbol(\"\",real = True)\n",
    "Fsum3 = sp.Symbol(\"\",real = True)\n",
    "Gsum1 = sp.Symbol(\"\",real = True)\n",
    "Gsum2 = sp.Symbol(\"\",real = True)\n",
    "Gsum3 = sp.Symbol(\"\",real = True)\n",
    "\n",
    "#Term 1\n",
    "for i in np.arange(1,4):\n",
    "    for j in np.arange(1,4):\n",
    "        if i == j:\n",
    "            continue\n",
    "        else:\n",
    "            Fsum1+= sp.re(F[str(i)+str(j)])**2 + sp.im(F[str(i)+str(j)])**2\n",
    "#Term 2\n",
    "for i in np.arange(1,4):\n",
    "    Fsum2 += sp.re(F[str(i)+\"4\"])**2 + sp.im(F[str(i)+\"4\"])**2\n",
    "    \n",
    "#Term 3\n",
    "for i in np.arange(1,4):\n",
    "    for j in np.arange(N):\n",
    "        for k in np.arange(N):\n",
    "            Fsum3 += sp.re(F[\"4\"+str(i)][j,k])**2 + sp.im(F[\"4\"+str(i)][j,k])**2\n",
    "            \n",
    "#Term 4\n",
    "for i in np.arange(6):\n",
    "    Gsum1 += (sp.re(scalar_G[i]))**2 + (sp.im(scalar_G[i]))**2\n",
    "    \n",
    "#Term 5\n",
    "for i in np.arange(1,4):\n",
    "    for j in np.arange(N):\n",
    "        Gsum2 += (sp.re(G[str(i)+\"4\"][j]))**2 + (sp.im(G[str(i)+\"4\"][j]))**2\n",
    "\n",
    "#Term 6\n",
    "for i in np.arange(1,4):\n",
    "    for j in np.arange(N):\n",
    "        Gsum3 += (sp.re(G[str(i)+\"4\"][j]))**2 + (sp.im(G[str(i)+\"4\"][j]))**2\n",
    "        \n",
    "V_F = Fsum1 + Fsum2 + Fsum3 + Gsum1 + Gsum2 + Gsum3\n",
    "\n",
    "print(time.time() - start)"
   ]
  },
  {
   "cell_type": "code",
   "execution_count": 27,
   "id": "8f1ef8c3",
   "metadata": {
    "scrolled": false
   },
   "outputs": [
    {
     "name": "stdout",
     "output_type": "stream",
     "text": [
      "-4*P13*(P12*P24(2) - P13*P34(2) - Q12*Q24(2) + Q13*Q34(2) + sqrt(2)*(-P14(2)*X44(2,2) + Q14(2)*X45(2,2))/2 + sqrt(2)*(-P14(0)*X44(0,2).real() + P14(0)*X45(0,2).imag() + Q14(0)*X44(0,2).imag() + Q14(0)*X45(0,2).real())/2 + sqrt(2)*(-P14(1)*X44(1,2).real() + P14(1)*X45(1,2).imag() + Q14(1)*X44(1,2).imag() + Q14(1)*X45(1,2).real())/2) + 4*P23*(P14(2)*P21 + P23*P34(2) - Q14(2)*Q21 - Q23*Q34(2) + sqrt(2)*(-P24(2)*X46(2,2) + Q24(2)*X47(2,2))/2 + sqrt(2)*(-P24(0)*X46(0,2).real() + P24(0)*X47(0,2).imag() + Q24(0)*X46(0,2).imag() + Q24(0)*X47(0,2).real())/2 + sqrt(2)*(-P24(1)*X46(1,2).real() + P24(1)*X47(1,2).imag() + Q24(1)*X46(1,2).imag() + Q24(1)*X47(1,2).real())/2) - 2*P41(2)*(P21*P32 - sqrt(2)*P31*X16/2 + sqrt(2)*P31*X36/2 - P34(0)*P41(0) - P34(1)*P41(1) - P34(2)*P41(2) - Q21*Q32 + sqrt(2)*Q31*X17/2 - sqrt(2)*Q31*X37/2 + Q34(0)*Q41(0) + Q34(1)*Q41(1) + Q34(2)*Q41(2)) + 2*P42(2)*(P12*P31 + sqrt(2)*P32*X24/2 - sqrt(2)*P32*X34/2 + P34(0)*P42(0) + P34(1)*P42(1) + P34(2)*P42(2) - Q12*Q31 - sqrt(2)*Q32*X25/2 + sqrt(2)*Q32*X35/2 - Q34(0)*Q42(0) - Q34(1)*Q42(1) - Q34(2)*Q42(2)) + 2*P43(0)*(P34(2)*P43(0) - Q34(2)*Q43(0) + X44(0,0)*X46(0,2).real()/2 - X44(0,0)*X47(0,2).imag()/2 - X44(0,1).imag()*X46(1,2).imag()/2 - X44(0,1).imag()*X47(1,2).real()/2 + X44(0,1).real()*X46(1,2).real()/2 - X44(0,1).real()*X47(1,2).imag()/2 + X44(0,2).imag()*X47(0,0)/2 - X44(0,2).imag()*X47(2,2)/2 - X44(0,2).real()*X46(0,0)/2 + X44(0,2).real()*X46(2,2)/2 + X44(1,2).imag()*X46(0,1).imag()/2 + X44(1,2).imag()*X47(0,1).real()/2 - X44(1,2).real()*X46(0,1).real()/2 + X44(1,2).real()*X47(0,1).imag()/2 - X44(2,2)*X46(0,2).real()/2 + X44(2,2)*X47(0,2).imag()/2 - X45(0,0)*X46(0,2).imag()/2 - X45(0,0)*X47(0,2).real()/2 - X45(0,1).imag()*X46(1,2).real()/2 + X45(0,1).imag()*X47(1,2).imag()/2 - X45(0,1).real()*X46(1,2).imag()/2 - X45(0,1).real()*X47(1,2).real()/2 + X45(0,2).imag()*X46(0,0)/2 - X45(0,2).imag()*X46(2,2)/2 + X45(0,2).real()*X47(0,0)/2 - X45(0,2).real()*X47(2,2)/2 + X45(1,2).imag()*X46(0,1).real()/2 - X45(1,2).imag()*X47(0,1).imag()/2 + X45(1,2).real()*X46(0,1).imag()/2 + X45(1,2).real()*X47(0,1).real()/2 + X45(2,2)*X46(0,2).imag()/2 + X45(2,2)*X47(0,2).real()/2) + 2*P43(1)*(P34(2)*P43(1) - Q34(2)*Q43(1) + X44(0,1).imag()*X46(0,2).imag()/2 + X44(0,1).imag()*X47(0,2).real()/2 + X44(0,1).real()*X46(0,2).real()/2 - X44(0,1).real()*X47(0,2).imag()/2 - X44(0,2).imag()*X46(0,1).imag()/2 + X44(0,2).imag()*X47(0,1).real()/2 - X44(0,2).real()*X46(0,1).real()/2 - X44(0,2).real()*X47(0,1).imag()/2 + X44(1,1)*X46(1,2).real()/2 - X44(1,1)*X47(1,2).imag()/2 + X44(1,2).imag()*X47(1,1)/2 - X44(1,2).imag()*X47(2,2)/2 - X44(1,2).real()*X46(1,1)/2 + X44(1,2).real()*X46(2,2)/2 - X44(2,2)*X46(1,2).real()/2 + X44(2,2)*X47(1,2).imag()/2 + X45(0,1).imag()*X46(0,2).real()/2 - X45(0,1).imag()*X47(0,2).imag()/2 - X45(0,1).real()*X46(0,2).imag()/2 - X45(0,1).real()*X47(0,2).real()/2 + X45(0,2).imag()*X46(0,1).real()/2 + X45(0,2).imag()*X47(0,1).imag()/2 - X45(0,2).real()*X46(0,1).imag()/2 + X45(0,2).real()*X47(0,1).real()/2 - X45(1,1)*X46(1,2).imag()/2 - X45(1,1)*X47(1,2).real()/2 + X45(1,2).imag()*X46(1,1)/2 - X45(1,2).imag()*X46(2,2)/2 + X45(1,2).real()*X47(1,1)/2 - X45(1,2).real()*X47(2,2)/2 + X45(2,2)*X46(1,2).imag()/2 + X45(2,2)*X47(1,2).real()/2) + 2*P43(2)*(P34(0)*P43(0) + P34(1)*P43(1) + P34(2)*P43(2) - Q34(0)*Q43(0) - Q34(1)*Q43(1) - Q34(2)*Q43(2) + 3*re(c34)/g**2) + 2*P43(2)*(P34(2)*P43(2) - Q34(2)*Q43(2) + X44(0,2).imag()*X47(0,2).real() - X44(0,2).real()*X47(0,2).imag() + X44(1,2).imag()*X47(1,2).real() - X44(1,2).real()*X47(1,2).imag() + X45(0,2).imag()*X46(0,2).real() - X45(0,2).real()*X46(0,2).imag() + X45(1,2).imag()*X46(1,2).real() - X45(1,2).real()*X46(1,2).imag() + re(c43)/g**2) - 4*Q13*(P12*Q24(2) - P13*Q34(2) + P24(2)*Q12 - P34(2)*Q13 + sqrt(2)*(-P14(2)*X45(2,2) - Q14(2)*X44(2,2))/2 + sqrt(2)*(-P14(0)*X44(0,2).imag() - P14(0)*X45(0,2).real() - Q14(0)*X44(0,2).real() + Q14(0)*X45(0,2).imag())/2 + sqrt(2)*(-P14(1)*X44(1,2).imag() - P14(1)*X45(1,2).real() - Q14(1)*X44(1,2).real() + Q14(1)*X45(1,2).imag())/2) + 4*Q23*(P14(2)*Q21 + P21*Q14(2) + P23*Q34(2) + P34(2)*Q23 + sqrt(2)*(-P24(2)*X47(2,2) - Q24(2)*X46(2,2))/2 + sqrt(2)*(-P24(0)*X46(0,2).imag() - P24(0)*X47(0,2).real() - Q24(0)*X46(0,2).real() + Q24(0)*X47(0,2).imag())/2 + sqrt(2)*(-P24(1)*X46(1,2).imag() - P24(1)*X47(1,2).real() - Q24(1)*X46(1,2).real() + Q24(1)*X47(1,2).imag())/2) - 2*Q41(2)*(P21*Q32 - sqrt(2)*P31*X17/2 + sqrt(2)*P31*X37/2 + P32*Q21 - P34(0)*Q41(0) - P34(1)*Q41(1) - P34(2)*Q41(2) - P41(0)*Q34(0) - P41(1)*Q34(1) - P41(2)*Q34(2) - sqrt(2)*Q31*X16/2 + sqrt(2)*Q31*X36/2) + 2*Q42(2)*(P12*Q31 + P31*Q12 + sqrt(2)*P32*X25/2 - sqrt(2)*P32*X35/2 + P34(0)*Q42(0) + P34(1)*Q42(1) + P34(2)*Q42(2) + P42(0)*Q34(0) + P42(1)*Q34(1) + P42(2)*Q34(2) + sqrt(2)*Q32*X24/2 - sqrt(2)*Q32*X34/2) + 2*Q43(0)*(P34(2)*Q43(0) + P43(0)*Q34(2) + X44(0,0)*X46(0,2).imag()/2 + X44(0,0)*X47(0,2).real()/2 + X44(0,1).imag()*X46(1,2).real()/2 - X44(0,1).imag()*X47(1,2).imag()/2 + X44(0,1).real()*X46(1,2).imag()/2 + X44(0,1).real()*X47(1,2).real()/2 - X44(0,2).imag()*X46(0,0)/2 + X44(0,2).imag()*X46(2,2)/2 - X44(0,2).real()*X47(0,0)/2 + X44(0,2).real()*X47(2,2)/2 - X44(1,2).imag()*X46(0,1).real()/2 + X44(1,2).imag()*X47(0,1).imag()/2 - X44(1,2).real()*X46(0,1).imag()/2 - X44(1,2).real()*X47(0,1).real()/2 - X44(2,2)*X46(0,2).imag()/2 - X44(2,2)*X47(0,2).real()/2 + X45(0,0)*X46(0,2).real()/2 - X45(0,0)*X47(0,2).imag()/2 - X45(0,1).imag()*X46(1,2).imag()/2 - X45(0,1).imag()*X47(1,2).real()/2 + X45(0,1).real()*X46(1,2).real()/2 - X45(0,1).real()*X47(1,2).imag()/2 + X45(0,2).imag()*X47(0,0)/2 - X45(0,2).imag()*X47(2,2)/2 - X45(0,2).real()*X46(0,0)/2 + X45(0,2).real()*X46(2,2)/2 + X45(1,2).imag()*X46(0,1).imag()/2 + X45(1,2).imag()*X47(0,1).real()/2 - X45(1,2).real()*X46(0,1).real()/2 + X45(1,2).real()*X47(0,1).imag()/2 - X45(2,2)*X46(0,2).real()/2 + X45(2,2)*X47(0,2).imag()/2) + 2*Q43(1)*(P34(2)*Q43(1) + P43(1)*Q34(2) - X44(0,1).imag()*X46(0,2).real()/2 + X44(0,1).imag()*X47(0,2).imag()/2 + X44(0,1).real()*X46(0,2).imag()/2 + X44(0,1).real()*X47(0,2).real()/2 - X44(0,2).imag()*X46(0,1).real()/2 - X44(0,2).imag()*X47(0,1).imag()/2 + X44(0,2).real()*X46(0,1).imag()/2 - X44(0,2).real()*X47(0,1).real()/2 + X44(1,1)*X46(1,2).imag()/2 + X44(1,1)*X47(1,2).real()/2 - X44(1,2).imag()*X46(1,1)/2 + X44(1,2).imag()*X46(2,2)/2 - X44(1,2).real()*X47(1,1)/2 + X44(1,2).real()*X47(2,2)/2 - X44(2,2)*X46(1,2).imag()/2 - X44(2,2)*X47(1,2).real()/2 + X45(0,1).imag()*X46(0,2).imag()/2 + X45(0,1).imag()*X47(0,2).real()/2 + X45(0,1).real()*X46(0,2).real()/2 - X45(0,1).real()*X47(0,2).imag()/2 - X45(0,2).imag()*X46(0,1).imag()/2 + X45(0,2).imag()*X47(0,1).real()/2 - X45(0,2).real()*X46(0,1).real()/2 - X45(0,2).real()*X47(0,1).imag()/2 + X45(1,1)*X46(1,2).real()/2 - X45(1,1)*X47(1,2).imag()/2 + X45(1,2).imag()*X47(1,1)/2 - X45(1,2).imag()*X47(2,2)/2 - X45(1,2).real()*X46(1,1)/2 + X45(1,2).real()*X46(2,2)/2 - X45(2,2)*X46(1,2).real()/2 + X45(2,2)*X47(1,2).imag()/2) + 2*Q43(2)*(P34(0)*Q43(0) + P34(1)*Q43(1) + P34(2)*Q43(2) + P43(0)*Q34(0) + P43(1)*Q34(1) + P43(2)*Q34(2) + 3*im(c34)/g**2) + 2*Q43(2)*(P34(2)*Q43(2) + P43(2)*Q34(2) - X44(0,2).imag()*X46(0,2).real() + X44(0,2).real()*X46(0,2).imag() - X44(1,2).imag()*X46(1,2).real() + X44(1,2).real()*X46(1,2).imag() + X45(0,2).imag()*X47(0,2).real() - X45(0,2).real()*X47(0,2).imag() + X45(1,2).imag()*X47(1,2).real() - X45(1,2).real()*X47(1,2).imag() + im(c43)/g**2) - 2*sqrt(2)*X48(2,2)*(P14(2)*P31 + P24(2)*P32 - Q14(2)*Q31 - Q24(2)*Q32 + sqrt(2)*(-P34(2)*X48(2,2) + Q34(2)*X49(2,2))/2 + sqrt(2)*(-P34(0)*X48(0,2).real() + P34(0)*X49(0,2).imag() + Q34(0)*X48(0,2).imag() + Q34(0)*X49(0,2).real())/2 + sqrt(2)*(-P34(1)*X48(1,2).real() + P34(1)*X49(1,2).imag() + Q34(1)*X48(1,2).imag() + Q34(1)*X49(1,2).real())/2) - 2*sqrt(2)*X49(2,2)*(P14(2)*Q31 + P24(2)*Q32 + P31*Q14(2) + P32*Q24(2) + sqrt(2)*(-P34(2)*X49(2,2) - Q34(2)*X48(2,2))/2 + sqrt(2)*(-P34(0)*X48(0,2).imag() - P34(0)*X49(0,2).real() - Q34(0)*X48(0,2).real() + Q34(0)*X49(0,2).imag())/2 + sqrt(2)*(-P34(1)*X48(1,2).imag() - P34(1)*X49(1,2).real() - Q34(1)*X48(1,2).real() + Q34(1)*X49(1,2).imag())/2) + 2*sqrt(2)*(X48(0,2).imag() - X49(0,2).real())*(P14(0)*Q31 + P24(0)*Q32 + P31*Q14(0) + P32*Q24(0) + sqrt(2)*(-P34(0)*X49(0,0) - Q34(0)*X48(0,0))/2 + sqrt(2)*(P34(1)*X48(0,1).imag() - P34(1)*X49(0,1).real() - Q34(1)*X48(0,1).real() - Q34(1)*X49(0,1).imag())/2 + sqrt(2)*(P34(2)*X48(0,2).imag() - P34(2)*X49(0,2).real() - Q34(2)*X48(0,2).real() - Q34(2)*X49(0,2).imag())/2) + 2*sqrt(2)*(-X48(0,2).real() - X49(0,2).imag())*(P14(0)*P31 + P24(0)*P32 - Q14(0)*Q31 - Q24(0)*Q32 + sqrt(2)*(-P34(0)*X48(0,0) + Q34(0)*X49(0,0))/2 + sqrt(2)*(-P34(1)*X48(0,1).real() - P34(1)*X49(0,1).imag() - Q34(1)*X48(0,1).imag() + Q34(1)*X49(0,1).real())/2 + sqrt(2)*(-P34(2)*X48(0,2).real() - P34(2)*X49(0,2).imag() - Q34(2)*X48(0,2).imag() + Q34(2)*X49(0,2).real())/2) + 2*sqrt(2)*(X48(1,2).imag() - X49(1,2).real())*(P14(1)*Q31 + P24(1)*Q32 + P31*Q14(1) + P32*Q24(1) + sqrt(2)*(-P34(1)*X49(1,1) - Q34(1)*X48(1,1))/2 + sqrt(2)*(-P34(0)*X48(0,1).imag() - P34(0)*X49(0,1).real() - Q34(0)*X48(0,1).real() + Q34(0)*X49(0,1).imag())/2 + sqrt(2)*(P34(2)*X48(1,2).imag() - P34(2)*X49(1,2).real() - Q34(2)*X48(1,2).real() - Q34(2)*X49(1,2).imag())/2) + 2*sqrt(2)*(-X48(1,2).real() - X49(1,2).imag())*(P14(1)*P31 + P24(1)*P32 - Q14(1)*Q31 - Q24(1)*Q32 + sqrt(2)*(-P34(1)*X48(1,1) + Q34(1)*X49(1,1))/2 + sqrt(2)*(-P34(0)*X48(0,1).real() + P34(0)*X49(0,1).imag() + Q34(0)*X48(0,1).imag() + Q34(0)*X49(0,1).real())/2 + sqrt(2)*(-P34(2)*X48(1,2).real() - P34(2)*X49(1,2).imag() - Q34(2)*X48(1,2).imag() + Q34(2)*X49(1,2).real())/2)\n"
     ]
    }
   ],
   "source": [
    "print(V_F.diff(sp.re(Z[\"14\"]))[0])"
   ]
  },
  {
   "cell_type": "code",
   "execution_count": null,
   "id": "00a80db2",
   "metadata": {},
   "outputs": [],
   "source": []
  }
 ],
 "metadata": {
  "kernelspec": {
   "display_name": "Python 3",
   "language": "python",
   "name": "python3"
  },
  "language_info": {
   "codemirror_mode": {
    "name": "ipython",
    "version": 3
   },
   "file_extension": ".py",
   "mimetype": "text/x-python",
   "name": "python",
   "nbconvert_exporter": "python",
   "pygments_lexer": "ipython3",
   "version": "3.8.8"
  }
 },
 "nbformat": 4,
 "nbformat_minor": 5
}
