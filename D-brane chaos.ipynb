{
 "cells": [
  {
   "cell_type": "code",
   "execution_count": 4,
   "id": "5bb6502a",
   "metadata": {},
   "outputs": [],
   "source": [
    "import sympy as sp\n",
    "import numpy as np\n",
    "import time \n",
    "\n",
    "N = 3\n",
    "g = sp.Symbol(\"g\", real = True)"
   ]
  },
  {
   "cell_type": "markdown",
   "id": "6b56a04e",
   "metadata": {},
   "source": [
    "## Creating X coordinates (using sp.Matrix for the 4th stack)"
   ]
  },
  {
   "cell_type": "code",
   "execution_count": 5,
   "id": "f982a33e",
   "metadata": {},
   "outputs": [],
   "source": [
    "# Creating a dictionary to store the X coordinates\n",
    "X = {}\n",
    "for i in np.arange(1,4):\n",
    "    for j in np.arange(1,10):\n",
    "        X[str(i)+str(j)] = sp.Symbol(\"X^{\"+str(i)+\"}_\"+str(j), real = True)\n",
    "            \n",
    "for i in np.arange(1,10):\n",
    "    #initialise a matrix of correct shape\n",
    "    X_init = []\n",
    "    for j in np.arange(1,N+1):\n",
    "        row = []\n",
    "        for k in np.arange(1,N+1):\n",
    "            row.append(sp.Symbol(\"a_{\"+str(j)+str(k)+\"}\"))\n",
    "        X_init.append(row)\n",
    "    X[\"4\"+str(i)] = sp.Matrix(X_init)\n",
    "    \n",
    "    for j in np.arange(N):\n",
    "        for k in np.arange(N):\n",
    "            if j == k:\n",
    "                X[\"4\"+str(i)][j,k] = sp.Symbol(\"x^{4\"+str(i)+\"}_{\"+str(j+1)+str(k+1)+\"}\",real = True)\n",
    "            elif j > k:\n",
    "                continue\n",
    "            else:\n",
    "                x_ij = sp.Symbol(\"x^{4\"+str(i)+\"}_{\"+str(j+1)+str(k+1)+\"}\",real = True)\n",
    "                y_ij = sp.Symbol(\"y^{4\"+str(i)+\"}_{\"+str(j+1)+str(k+1)+\"}\",real = True)\n",
    "                X[\"4\"+str(i)][j,k] = x_ij + sp.I*y_ij\n",
    "                X[\"4\"+str(i)][k,j] = x_ij - sp.I*y_ij"
   ]
  },
  {
   "cell_type": "markdown",
   "id": "4a16d0ee",
   "metadata": {},
   "source": [
    "## Creating X coordinates (using sp.MatrixSymbol for the 4th stack)"
   ]
  },
  {
   "cell_type": "code",
   "execution_count": 3,
   "id": "e9ce397b",
   "metadata": {},
   "outputs": [],
   "source": [
    "# Creating a dictionary to store the X coordinates\n",
    "X = {}\n",
    "for i in np.arange(1,5):\n",
    "    for j in np.arange(1,10):\n",
    "        if i != 4:\n",
    "            X[str(i)+str(j)] = sp.Symbol(\"X^{\"+str(i)+\"}_\"+str(j), real = True)\n",
    "        else:\n",
    "            X[str(i)+str(j)] = sp.MatrixSymbol(\"X^{\"+str(i)+\"}_\"+str(j),N,N)"
   ]
  },
  {
   "cell_type": "markdown",
   "id": "607747e6",
   "metadata": {},
   "source": [
    "## Creating the $\\phi$'s and $\\phi^{\\dagger}$'s and $\\phi^{(ij)}$"
   ]
  },
  {
   "cell_type": "code",
   "execution_count": 6,
   "id": "c1702ab2",
   "metadata": {},
   "outputs": [],
   "source": [
    "phi = {}\n",
    "phi_ = {}\n",
    "phi_dag = {}\n",
    "for i in np.arange(1,5):\n",
    "    phi[str(i)+\"1\"] = 1/sp.sqrt(2) * (X[str(i)+\"4\"] + sp.I * X[str(i)+\"5\"])\n",
    "    phi[str(i)+\"2\"] = 1/sp.sqrt(2) * (X[str(i)+\"6\"] + sp.I * X[str(i)+\"7\"])\n",
    "    phi[str(i)+\"3\"] = 1/sp.sqrt(2) * (X[str(i)+\"8\"] + sp.I * X[str(i)+\"9\"])\n",
    "    \n",
    "    phi_dag[str(i)+\"1\"] = 1/sp.sqrt(2) * ( X[str(i)+\"4\"] - sp.I * X[str(i)+\"5\"])\n",
    "    phi_dag[str(i)+\"2\"] = 1/sp.sqrt(2) * (X[str(i)+\"6\"] - sp.I * X[str(i)+\"7\"])\n",
    "    phi_dag[str(i)+\"3\"] = 1/sp.sqrt(2) * (X[str(i)+\"8\"] - sp.I * X[str(i)+\"9\"])\n",
    "    \n",
    "phi_[\"12\"] = phi[\"13\"] - phi[\"23\"]\n",
    "phi_[\"23\"] = phi[\"21\"] - phi[\"31\"]\n",
    "phi_[\"31\"] = phi[\"32\"] - phi[\"12\"]"
   ]
  },
  {
   "cell_type": "markdown",
   "id": "ad124cfc",
   "metadata": {},
   "source": [
    "## Creating Z coordinates"
   ]
  },
  {
   "cell_type": "code",
   "execution_count": 7,
   "id": "992433af",
   "metadata": {},
   "outputs": [],
   "source": [
    "# Building the Z-dictionary\n",
    "Z = {}\n",
    "for i in np.arange(1,4):\n",
    "    #Scalars here\n",
    "    for j in np.arange(1,4):\n",
    "        if i == j: \n",
    "            continue\n",
    "        else:\n",
    "            P = sp.Symbol(\"P^{\"+str(i) + str(j) +\"}\", real = True)\n",
    "            Q = sp.Symbol(\"Q^{\"+str(i) + str(j) +\"}\", real = True)\n",
    "            Z[str(i) + str(j)] = (P + sp.I * Q)\n",
    "    \n",
    "    #Vectors here\n",
    "    store_current_4i = []\n",
    "    store_current_i4 = []\n",
    "    for j in np.arange(1,N+1):\n",
    "        P4i = sp.Symbol(\"P^{\"+str(4)+str(i)+\"}_\"+str(j), real = True)\n",
    "        Q4i = sp.Symbol(\"Q^{\"+str(4)+str(i)+\"}_\"+str(j), real = True)\n",
    "        Pi4 = sp.Symbol(\"P^{\"+str(i)+str(4)+\"}_\"+str(j), real = True)\n",
    "        Qi4 = sp.Symbol(\"Q^{\"+str(i)+str(4)+\"}_\"+str(j), real = True)\n",
    "        store_current_4i.append([P4i + sp.I * Q4i])\n",
    "        store_current_i4.append([Pi4 + sp.I * Qi4])\n",
    "    Z[\"4\"+str(i)] = sp.Matrix(store_current_4i)\n",
    "    Z[str(i) + \"4\"] = sp.Matrix(store_current_i4).transpose()"
   ]
  },
  {
   "cell_type": "markdown",
   "id": "34c0b5dd",
   "metadata": {},
   "source": [
    "## Creating the F variables"
   ]
  },
  {
   "cell_type": "code",
   "execution_count": 11,
   "id": "5d075d7f",
   "metadata": {},
   "outputs": [],
   "source": [
    "F = {}\n",
    "\n",
    "#Scalars\n",
    "for i in np.arange(1,4):\n",
    "    for j in np.arange(1,5):\n",
    "        if i == j:\n",
    "            continue\n",
    "        if j == 4:\n",
    "            F[str(i)+str(j)] = (Z[str(i)+str(j)] * Z[str(j)+str(i)])[0] + N*sp.Symbol(\"c^{\"+str(i)+str(j)+\"}\")/g**2\n",
    "        else:\n",
    "            F[str(i)+str(j)] = Z[str(i)+str(j)] * Z[str(j)+str(i)] + sp.Symbol(\"c^{\"+str(i)+str(j)+\"}\")/g**2 \n",
    "\n",
    "F[\"41\"] = Z[\"41\"]*Z[\"14\"] + (sp.Symbol(\"c^{41}\")/g**2)*sp.eye(N) +  phi[\"42\"]*phi[\"43\"] - phi[\"43\"]*phi[\"42\"]\n",
    "F[\"42\"] = Z[\"42\"]*Z[\"24\"] + (sp.Symbol(\"c^{42}\")/g**2)*sp.eye(N) +  phi[\"43\"]*phi[\"41\"] - phi[\"41\"]*phi[\"43\"]\n",
    "F[\"43\"] = Z[\"43\"]*Z[\"34\"] + (sp.Symbol(\"c^{43}\")/g**2)*sp.eye(N) -  phi[\"42\"]*phi[\"41\"] + phi[\"41\"]*phi[\"42\"]"
   ]
  },
  {
   "cell_type": "markdown",
   "id": "7f16420c",
   "metadata": {},
   "source": [
    "## Writing in the G's"
   ]
  },
  {
   "cell_type": "code",
   "execution_count": 21,
   "id": "efda841f",
   "metadata": {},
   "outputs": [],
   "source": [
    "G = {}\n",
    "\n",
    "G[\"21\"] = phi_[\"12\"]*Z[\"21\"] + Z[\"23\"]*Z[\"31\"] + (Z[\"24\"]*Z[\"41\"])[0]\n",
    "G[\"12\"] = phi_[\"12\"]*Z[\"12\"] + Z[\"13\"]*Z[\"32\"] + (Z[\"14\"]*Z[\"42\"])[0]\n",
    "\n",
    "G[\"31\"] = phi_[\"31\"]*Z[\"31\"] + Z[\"32\"]*Z[\"21\"] - (Z[\"34\"]*Z[\"41\"])[0]\n",
    "G[\"13\"] = phi_[\"31\"]*Z[\"13\"] + Z[\"12\"]*Z[\"23\"] + (Z[\"14\"]*Z[\"43\"])[0]\n",
    "\n",
    "G[\"32\"] = phi_[\"23\"]*Z[\"32\"] + Z[\"31\"]*Z[\"12\"] + (Z[\"34\"]*Z[\"42\"])[0]\n",
    "G[\"23\"] = phi_[\"23\"]*Z[\"23\"] + Z[\"21\"]*Z[\"13\"] + (Z[\"24\"]*Z[\"43\"])[0]\n",
    "\n",
    "G[\"41\"] = -phi[\"41\"]*Z[\"41\"] + Z[\"42\"]*Z[\"21\"] + Z[\"43\"]*Z[\"31\"]\n",
    "G[\"14\"] = -Z[\"14\"]*phi[\"41\"] + Z[\"12\"]*Z[\"24\"] - Z[\"13\"]*Z[\"34\"]\n",
    "\n",
    "G[\"42\"] = -phi[\"42\"]*Z[\"42\"] + Z[\"43\"]*Z[\"32\"] + Z[\"41\"]*Z[\"12\"]\n",
    "G[\"24\"] = -Z[\"24\"]*phi[\"42\"] + Z[\"21\"]*Z[\"14\"] + Z[\"23\"]*Z[\"34\"]\n",
    "\n",
    "G[\"43\"] = -phi[\"43\"]*Z[\"43\"] - Z[\"41\"]*Z[\"13\"] + Z[\"42\"]*Z[\"23\"]\n",
    "G[\"34\"] = -Z[\"34\"]*phi[\"43\"] + Z[\"31\"]*Z[\"14\"] + Z[\"32\"]*Z[\"24\"]\n",
    "\n",
    "scalar_G = [G[\"12\"],G[\"21\"],G[\"13\"],G[\"31\"],G[\"23\"],G[\"32\"]]"
   ]
  },
  {
   "cell_type": "markdown",
   "id": "667d9bcc",
   "metadata": {},
   "source": [
    "## Creating $V_F$"
   ]
  },
  {
   "cell_type": "code",
   "execution_count": 41,
   "id": "51aac96d",
   "metadata": {},
   "outputs": [
    {
     "name": "stdout",
     "output_type": "stream",
     "text": [
      "0.059001922607421875\n"
     ]
    }
   ],
   "source": [
    "start = time.time()\n",
    "Fsum1 = sp.Symbol(\"\",real = True)\n",
    "Fsum2 = sp.Symbol(\"\",real = True)\n",
    "Fsum3 = sp.Symbol(\"\",real = True)\n",
    "Gsum1 = sp.Symbol(\"\",real = True)\n",
    "Gsum2 = sp.Symbol(\"\",real = True)\n",
    "Gsum3 = sp.Symbol(\"\",real = True)\n",
    "\n",
    "#Term 1\n",
    "for i in np.arange(1,4):\n",
    "    for j in np.arange(1,4):\n",
    "        if i == j:\n",
    "            continue\n",
    "        else:\n",
    "            Fsum1+= sp.re(F[str(i)+str(j)])**2 + sp.im(F[str(i)+str(j)])**2\n",
    "#Term 2\n",
    "for i in np.arange(1,4):\n",
    "    Fsum2 += sp.re(F[str(i)+\"4\"])**2 + sp.im(F[str(i)+\"4\"])**2\n",
    "    \n",
    "#Term 3\n",
    "for i in np.arange(1,4):\n",
    "    for j in np.arange(N):\n",
    "        for k in np.arange(N):\n",
    "            Fsum3 += sp.re(F[\"4\"+str(i)][j,k])**2 + sp.im(F[\"4\"+str(i)][j,k])**2\n",
    "            \n",
    "#Term 4\n",
    "for i in np.arange(6):\n",
    "    Gsum1 += (sp.re(scalar_G[i]))**2 + (sp.im(scalar_G[i]))**2\n",
    "    \n",
    "#Term 5\n",
    "for i in np.arange(1,4):\n",
    "    for j in np.arange(N):\n",
    "        Gsum2 += (sp.re(G[str(i)+\"4\"][j]))**2 + (sp.im(G[str(i)+\"4\"][j]))**2\n",
    "\n",
    "#Term 6\n",
    "for i in np.arange(1,4):\n",
    "    for j in np.arange(N):\n",
    "        Gsum3 += (sp.re(G[str(i)+\"4\"][j]))**2 + (sp.im(G[str(i)+\"4\"][j]))**2\n",
    "        \n",
    "V_F = Fsum1 + Fsum2 + Fsum3 + Gsum1 + Gsum2 + Gsum3\n",
    "\n",
    "print(time.time() - start)"
   ]
  },
  {
   "cell_type": "code",
   "execution_count": 47,
   "id": "8f1ef8c3",
   "metadata": {
    "scrolled": false
   },
   "outputs": [
    {
     "data": {
      "text/latex": [
       "$\\displaystyle 2 P^{21} \\left(P^{12} P^{21} - Q^{12} Q^{21} + \\frac{\\operatorname{re}{\\left(c^{12}\\right)}}{g^{2}}\\right) + 2 P^{21} \\left(P^{12} P^{21} - Q^{12} Q^{21} + \\frac{\\operatorname{re}{\\left(c^{21}\\right)}}{g^{2}}\\right) + 2 P^{23} \\left(P^{12} P^{23} - \\frac{\\sqrt{2} P^{13} X^{1}_6}{2} + \\frac{\\sqrt{2} P^{13} X^{3}_6}{2} + P^{14}_1 P^{43}_1 + P^{14}_2 P^{43}_2 + P^{14}_3 P^{43}_3 - Q^{12} Q^{23} + \\frac{\\sqrt{2} Q^{13} X^{1}_7}{2} - \\frac{\\sqrt{2} Q^{13} X^{3}_7}{2} - Q^{14}_1 Q^{43}_1 - Q^{14}_2 Q^{43}_2 - Q^{14}_3 Q^{43}_3\\right) + 4 P^{24}_1 \\left(P^{12} P^{24}_1 - P^{13} P^{34}_1 - Q^{12} Q^{24}_1 + Q^{13} Q^{34}_1 + \\frac{\\sqrt{2} \\left(- P^{14}_1 x^{44}_{11} + Q^{14}_1 x^{45}_{11}\\right)}{2} + \\frac{\\sqrt{2} \\left(- P^{14}_2 x^{44}_{12} - P^{14}_2 y^{45}_{12} + Q^{14}_2 x^{45}_{12} - Q^{14}_2 y^{44}_{12}\\right)}{2} + \\frac{\\sqrt{2} \\left(- P^{14}_3 x^{44}_{13} - P^{14}_3 y^{45}_{13} + Q^{14}_3 x^{45}_{13} - Q^{14}_3 y^{44}_{13}\\right)}{2}\\right) + 4 P^{24}_2 \\left(P^{12} P^{24}_2 - P^{13} P^{34}_2 - Q^{12} Q^{24}_2 + Q^{13} Q^{34}_2 + \\frac{\\sqrt{2} \\left(- P^{14}_2 x^{44}_{22} + Q^{14}_2 x^{45}_{22}\\right)}{2} + \\frac{\\sqrt{2} \\left(- P^{14}_1 x^{44}_{12} + P^{14}_1 y^{45}_{12} + Q^{14}_1 x^{45}_{12} + Q^{14}_1 y^{44}_{12}\\right)}{2} + \\frac{\\sqrt{2} \\left(- P^{14}_3 x^{44}_{23} - P^{14}_3 y^{45}_{23} + Q^{14}_3 x^{45}_{23} - Q^{14}_3 y^{44}_{23}\\right)}{2}\\right) + 4 P^{24}_3 \\left(P^{12} P^{24}_3 - P^{13} P^{34}_3 - Q^{12} Q^{24}_3 + Q^{13} Q^{34}_3 + \\frac{\\sqrt{2} \\left(- P^{14}_3 x^{44}_{33} + Q^{14}_3 x^{45}_{33}\\right)}{2} + \\frac{\\sqrt{2} \\left(- P^{14}_1 x^{44}_{13} + P^{14}_1 y^{45}_{13} + Q^{14}_1 x^{45}_{13} + Q^{14}_1 y^{44}_{13}\\right)}{2} + \\frac{\\sqrt{2} \\left(- P^{14}_2 x^{44}_{23} + P^{14}_2 y^{45}_{23} + Q^{14}_2 x^{45}_{23} + Q^{14}_2 y^{44}_{23}\\right)}{2}\\right) + 2 P^{31} \\left(P^{12} P^{31} + \\frac{\\sqrt{2} P^{32} X^{2}_4}{2} - \\frac{\\sqrt{2} P^{32} X^{3}_4}{2} + P^{34}_1 P^{42}_1 + P^{34}_2 P^{42}_2 + P^{34}_3 P^{42}_3 - Q^{12} Q^{31} - \\frac{\\sqrt{2} Q^{32} X^{2}_5}{2} + \\frac{\\sqrt{2} Q^{32} X^{3}_5}{2} - Q^{34}_1 Q^{42}_1 - Q^{34}_2 Q^{42}_2 - Q^{34}_3 Q^{42}_3\\right) + 2 Q^{21} \\left(P^{12} Q^{21} + P^{21} Q^{12} + \\frac{\\operatorname{im}{\\left(c^{12}\\right)}}{g^{2}}\\right) + 2 Q^{21} \\left(P^{12} Q^{21} + P^{21} Q^{12} + \\frac{\\operatorname{im}{\\left(c^{21}\\right)}}{g^{2}}\\right) + 2 Q^{23} \\left(P^{12} Q^{23} - \\frac{\\sqrt{2} P^{13} X^{1}_7}{2} + \\frac{\\sqrt{2} P^{13} X^{3}_7}{2} + P^{14}_1 Q^{43}_1 + P^{14}_2 Q^{43}_2 + P^{14}_3 Q^{43}_3 + P^{23} Q^{12} + P^{43}_1 Q^{14}_1 + P^{43}_2 Q^{14}_2 + P^{43}_3 Q^{14}_3 - \\frac{\\sqrt{2} Q^{13} X^{1}_6}{2} + \\frac{\\sqrt{2} Q^{13} X^{3}_6}{2}\\right) + 4 Q^{24}_1 \\left(P^{12} Q^{24}_1 - P^{13} Q^{34}_1 + P^{24}_1 Q^{12} - P^{34}_1 Q^{13} + \\frac{\\sqrt{2} \\left(- P^{14}_1 x^{45}_{11} - Q^{14}_1 x^{44}_{11}\\right)}{2} + \\frac{\\sqrt{2} \\left(- P^{14}_2 x^{45}_{12} + P^{14}_2 y^{44}_{12} - Q^{14}_2 x^{44}_{12} - Q^{14}_2 y^{45}_{12}\\right)}{2} + \\frac{\\sqrt{2} \\left(- P^{14}_3 x^{45}_{13} + P^{14}_3 y^{44}_{13} - Q^{14}_3 x^{44}_{13} - Q^{14}_3 y^{45}_{13}\\right)}{2}\\right) + 4 Q^{24}_2 \\left(P^{12} Q^{24}_2 - P^{13} Q^{34}_2 + P^{24}_2 Q^{12} - P^{34}_2 Q^{13} + \\frac{\\sqrt{2} \\left(- P^{14}_2 x^{45}_{22} - Q^{14}_2 x^{44}_{22}\\right)}{2} + \\frac{\\sqrt{2} \\left(- P^{14}_1 x^{45}_{12} - P^{14}_1 y^{44}_{12} - Q^{14}_1 x^{44}_{12} + Q^{14}_1 y^{45}_{12}\\right)}{2} + \\frac{\\sqrt{2} \\left(- P^{14}_3 x^{45}_{23} + P^{14}_3 y^{44}_{23} - Q^{14}_3 x^{44}_{23} - Q^{14}_3 y^{45}_{23}\\right)}{2}\\right) + 4 Q^{24}_3 \\left(P^{12} Q^{24}_3 - P^{13} Q^{34}_3 + P^{24}_3 Q^{12} - P^{34}_3 Q^{13} + \\frac{\\sqrt{2} \\left(- P^{14}_3 x^{45}_{33} - Q^{14}_3 x^{44}_{33}\\right)}{2} + \\frac{\\sqrt{2} \\left(- P^{14}_1 x^{45}_{13} - P^{14}_1 y^{44}_{13} - Q^{14}_1 x^{44}_{13} + Q^{14}_1 y^{45}_{13}\\right)}{2} + \\frac{\\sqrt{2} \\left(- P^{14}_2 x^{45}_{23} - P^{14}_2 y^{44}_{23} - Q^{14}_2 x^{44}_{23} + Q^{14}_2 y^{45}_{23}\\right)}{2}\\right) + 2 Q^{31} \\left(P^{12} Q^{31} + P^{31} Q^{12} + \\frac{\\sqrt{2} P^{32} X^{2}_5}{2} - \\frac{\\sqrt{2} P^{32} X^{3}_5}{2} + P^{34}_1 Q^{42}_1 + P^{34}_2 Q^{42}_2 + P^{34}_3 Q^{42}_3 + P^{42}_1 Q^{34}_1 + P^{42}_2 Q^{34}_2 + P^{42}_3 Q^{34}_3 + \\frac{\\sqrt{2} Q^{32} X^{2}_4}{2} - \\frac{\\sqrt{2} Q^{32} X^{3}_4}{2}\\right) + \\left(\\sqrt{2} X^{1}_8 - \\sqrt{2} X^{2}_8\\right) \\left(\\frac{\\sqrt{2} P^{12} X^{1}_8}{2} - \\frac{\\sqrt{2} P^{12} X^{2}_8}{2} + P^{13} P^{32} + P^{14}_1 P^{42}_1 + P^{14}_2 P^{42}_2 + P^{14}_3 P^{42}_3 - \\frac{\\sqrt{2} Q^{12} X^{1}_9}{2} + \\frac{\\sqrt{2} Q^{12} X^{2}_9}{2} - Q^{13} Q^{32} - Q^{14}_1 Q^{42}_1 - Q^{14}_2 Q^{42}_2 - Q^{14}_3 Q^{42}_3\\right) + \\left(\\sqrt{2} X^{1}_9 - \\sqrt{2} X^{2}_9\\right) \\left(\\frac{\\sqrt{2} P^{12} X^{1}_9}{2} - \\frac{\\sqrt{2} P^{12} X^{2}_9}{2} + P^{13} Q^{32} + P^{14}_1 Q^{42}_1 + P^{14}_2 Q^{42}_2 + P^{14}_3 Q^{42}_3 + P^{32} Q^{13} + P^{42}_1 Q^{14}_1 + P^{42}_2 Q^{14}_2 + P^{42}_3 Q^{14}_3 + \\frac{\\sqrt{2} Q^{12} X^{1}_8}{2} - \\frac{\\sqrt{2} Q^{12} X^{2}_8}{2}\\right)$"
      ],
      "text/plain": [
       "2*P^{21}*(P^{12}*P^{21} - Q^{12}*Q^{21} + re(c^{12})/g**2) + 2*P^{21}*(P^{12}*P^{21} - Q^{12}*Q^{21} + re(c^{21})/g**2) + 2*P^{23}*(P^{12}*P^{23} - sqrt(2)*P^{13}*X^{1}_6/2 + sqrt(2)*P^{13}*X^{3}_6/2 + P^{14}_1*P^{43}_1 + P^{14}_2*P^{43}_2 + P^{14}_3*P^{43}_3 - Q^{12}*Q^{23} + sqrt(2)*Q^{13}*X^{1}_7/2 - sqrt(2)*Q^{13}*X^{3}_7/2 - Q^{14}_1*Q^{43}_1 - Q^{14}_2*Q^{43}_2 - Q^{14}_3*Q^{43}_3) + 4*P^{24}_1*(P^{12}*P^{24}_1 - P^{13}*P^{34}_1 - Q^{12}*Q^{24}_1 + Q^{13}*Q^{34}_1 + sqrt(2)*(-P^{14}_1*x^{44}_{11} + Q^{14}_1*x^{45}_{11})/2 + sqrt(2)*(-P^{14}_2*x^{44}_{12} - P^{14}_2*y^{45}_{12} + Q^{14}_2*x^{45}_{12} - Q^{14}_2*y^{44}_{12})/2 + sqrt(2)*(-P^{14}_3*x^{44}_{13} - P^{14}_3*y^{45}_{13} + Q^{14}_3*x^{45}_{13} - Q^{14}_3*y^{44}_{13})/2) + 4*P^{24}_2*(P^{12}*P^{24}_2 - P^{13}*P^{34}_2 - Q^{12}*Q^{24}_2 + Q^{13}*Q^{34}_2 + sqrt(2)*(-P^{14}_2*x^{44}_{22} + Q^{14}_2*x^{45}_{22})/2 + sqrt(2)*(-P^{14}_1*x^{44}_{12} + P^{14}_1*y^{45}_{12} + Q^{14}_1*x^{45}_{12} + Q^{14}_1*y^{44}_{12})/2 + sqrt(2)*(-P^{14}_3*x^{44}_{23} - P^{14}_3*y^{45}_{23} + Q^{14}_3*x^{45}_{23} - Q^{14}_3*y^{44}_{23})/2) + 4*P^{24}_3*(P^{12}*P^{24}_3 - P^{13}*P^{34}_3 - Q^{12}*Q^{24}_3 + Q^{13}*Q^{34}_3 + sqrt(2)*(-P^{14}_3*x^{44}_{33} + Q^{14}_3*x^{45}_{33})/2 + sqrt(2)*(-P^{14}_1*x^{44}_{13} + P^{14}_1*y^{45}_{13} + Q^{14}_1*x^{45}_{13} + Q^{14}_1*y^{44}_{13})/2 + sqrt(2)*(-P^{14}_2*x^{44}_{23} + P^{14}_2*y^{45}_{23} + Q^{14}_2*x^{45}_{23} + Q^{14}_2*y^{44}_{23})/2) + 2*P^{31}*(P^{12}*P^{31} + sqrt(2)*P^{32}*X^{2}_4/2 - sqrt(2)*P^{32}*X^{3}_4/2 + P^{34}_1*P^{42}_1 + P^{34}_2*P^{42}_2 + P^{34}_3*P^{42}_3 - Q^{12}*Q^{31} - sqrt(2)*Q^{32}*X^{2}_5/2 + sqrt(2)*Q^{32}*X^{3}_5/2 - Q^{34}_1*Q^{42}_1 - Q^{34}_2*Q^{42}_2 - Q^{34}_3*Q^{42}_3) + 2*Q^{21}*(P^{12}*Q^{21} + P^{21}*Q^{12} + im(c^{12})/g**2) + 2*Q^{21}*(P^{12}*Q^{21} + P^{21}*Q^{12} + im(c^{21})/g**2) + 2*Q^{23}*(P^{12}*Q^{23} - sqrt(2)*P^{13}*X^{1}_7/2 + sqrt(2)*P^{13}*X^{3}_7/2 + P^{14}_1*Q^{43}_1 + P^{14}_2*Q^{43}_2 + P^{14}_3*Q^{43}_3 + P^{23}*Q^{12} + P^{43}_1*Q^{14}_1 + P^{43}_2*Q^{14}_2 + P^{43}_3*Q^{14}_3 - sqrt(2)*Q^{13}*X^{1}_6/2 + sqrt(2)*Q^{13}*X^{3}_6/2) + 4*Q^{24}_1*(P^{12}*Q^{24}_1 - P^{13}*Q^{34}_1 + P^{24}_1*Q^{12} - P^{34}_1*Q^{13} + sqrt(2)*(-P^{14}_1*x^{45}_{11} - Q^{14}_1*x^{44}_{11})/2 + sqrt(2)*(-P^{14}_2*x^{45}_{12} + P^{14}_2*y^{44}_{12} - Q^{14}_2*x^{44}_{12} - Q^{14}_2*y^{45}_{12})/2 + sqrt(2)*(-P^{14}_3*x^{45}_{13} + P^{14}_3*y^{44}_{13} - Q^{14}_3*x^{44}_{13} - Q^{14}_3*y^{45}_{13})/2) + 4*Q^{24}_2*(P^{12}*Q^{24}_2 - P^{13}*Q^{34}_2 + P^{24}_2*Q^{12} - P^{34}_2*Q^{13} + sqrt(2)*(-P^{14}_2*x^{45}_{22} - Q^{14}_2*x^{44}_{22})/2 + sqrt(2)*(-P^{14}_1*x^{45}_{12} - P^{14}_1*y^{44}_{12} - Q^{14}_1*x^{44}_{12} + Q^{14}_1*y^{45}_{12})/2 + sqrt(2)*(-P^{14}_3*x^{45}_{23} + P^{14}_3*y^{44}_{23} - Q^{14}_3*x^{44}_{23} - Q^{14}_3*y^{45}_{23})/2) + 4*Q^{24}_3*(P^{12}*Q^{24}_3 - P^{13}*Q^{34}_3 + P^{24}_3*Q^{12} - P^{34}_3*Q^{13} + sqrt(2)*(-P^{14}_3*x^{45}_{33} - Q^{14}_3*x^{44}_{33})/2 + sqrt(2)*(-P^{14}_1*x^{45}_{13} - P^{14}_1*y^{44}_{13} - Q^{14}_1*x^{44}_{13} + Q^{14}_1*y^{45}_{13})/2 + sqrt(2)*(-P^{14}_2*x^{45}_{23} - P^{14}_2*y^{44}_{23} - Q^{14}_2*x^{44}_{23} + Q^{14}_2*y^{45}_{23})/2) + 2*Q^{31}*(P^{12}*Q^{31} + P^{31}*Q^{12} + sqrt(2)*P^{32}*X^{2}_5/2 - sqrt(2)*P^{32}*X^{3}_5/2 + P^{34}_1*Q^{42}_1 + P^{34}_2*Q^{42}_2 + P^{34}_3*Q^{42}_3 + P^{42}_1*Q^{34}_1 + P^{42}_2*Q^{34}_2 + P^{42}_3*Q^{34}_3 + sqrt(2)*Q^{32}*X^{2}_4/2 - sqrt(2)*Q^{32}*X^{3}_4/2) + (sqrt(2)*X^{1}_8 - sqrt(2)*X^{2}_8)*(sqrt(2)*P^{12}*X^{1}_8/2 - sqrt(2)*P^{12}*X^{2}_8/2 + P^{13}*P^{32} + P^{14}_1*P^{42}_1 + P^{14}_2*P^{42}_2 + P^{14}_3*P^{42}_3 - sqrt(2)*Q^{12}*X^{1}_9/2 + sqrt(2)*Q^{12}*X^{2}_9/2 - Q^{13}*Q^{32} - Q^{14}_1*Q^{42}_1 - Q^{14}_2*Q^{42}_2 - Q^{14}_3*Q^{42}_3) + (sqrt(2)*X^{1}_9 - sqrt(2)*X^{2}_9)*(sqrt(2)*P^{12}*X^{1}_9/2 - sqrt(2)*P^{12}*X^{2}_9/2 + P^{13}*Q^{32} + P^{14}_1*Q^{42}_1 + P^{14}_2*Q^{42}_2 + P^{14}_3*Q^{42}_3 + P^{32}*Q^{13} + P^{42}_1*Q^{14}_1 + P^{42}_2*Q^{14}_2 + P^{42}_3*Q^{14}_3 + sqrt(2)*Q^{12}*X^{1}_8/2 - sqrt(2)*Q^{12}*X^{2}_8/2)"
      ]
     },
     "execution_count": 47,
     "metadata": {},
     "output_type": "execute_result"
    }
   ],
   "source": [
    "(V_F.diff(sp.re(Z[\"12\"])))"
   ]
  }
 ],
 "metadata": {
  "kernelspec": {
   "display_name": "Python 3 (ipykernel)",
   "language": "python",
   "name": "python3"
  },
  "language_info": {
   "codemirror_mode": {
    "name": "ipython",
    "version": 3
   },
   "file_extension": ".py",
   "mimetype": "text/x-python",
   "name": "python",
   "nbconvert_exporter": "python",
   "pygments_lexer": "ipython3",
   "version": "3.10.9"
  }
 },
 "nbformat": 4,
 "nbformat_minor": 5
}
