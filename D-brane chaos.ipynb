{
 "cells": [
  {
   "cell_type": "code",
   "execution_count": 290,
   "id": "5bb6502a",
   "metadata": {},
   "outputs": [],
   "source": [
    "import sympy as sp\n",
    "import numpy as np\n",
    "import time \n",
    "\n",
    "N = 3\n",
    "g = sp.Symbol(\"g\", real = True)"
   ]
  },
  {
   "cell_type": "markdown",
   "id": "6b56a04e",
   "metadata": {},
   "source": [
    "## Creating X coordinates (using sp.Matrix for the 4th stack)"
   ]
  },
  {
   "cell_type": "code",
   "execution_count": 139,
   "id": "f982a33e",
   "metadata": {},
   "outputs": [],
   "source": [
    "# Creating a dictionary to store the X coordinates\n",
    "X = {}\n",
    "for i in np.arange(1,4):\n",
    "    for j in np.arange(1,10):\n",
    "        X[str(i)+str(j)] = sp.Symbol(\"X^{\"+str(i)+\"}_\"+str(j), real = True)\n",
    "            \n",
    "for i in np.arange(1,10):\n",
    "    #initialise a matrix of correct shape\n",
    "    X_init = []\n",
    "    for j in np.arange(1,N+1):\n",
    "        row = []\n",
    "        for k in np.arange(1,N+1):\n",
    "            row.append(sp.Symbol(\"a_{\"+str(j)+str(k)+\"}\"))\n",
    "        X_init.append(row)\n",
    "    X[\"4\"+str(i)] = sp.Matrix(X_init)\n",
    "    \n",
    "    for j in np.arange(N):\n",
    "        for k in np.arange(N):\n",
    "            if j == k:\n",
    "                X[\"4\"+str(i)][j,k] = sp.Symbol(\"x^{4\"+str(i)+\"}_{\"+str(j+1)+str(k+1)+\"}\",real = True)\n",
    "            elif j > k:\n",
    "                continue\n",
    "            else:\n",
    "                x_ij = sp.Symbol(\"x^{4\"+str(i)+\"}_{\"+str(j+1)+str(k+1)+\"}\",real = True)\n",
    "                y_ij = sp.Symbol(\"y^{4\"+str(i)+\"}_{\"+str(j+1)+str(k+1)+\"}\",real = True)\n",
    "                X[\"4\"+str(i)][j,k] = x_ij + sp.I*y_ij\n",
    "                X[\"4\"+str(i)][k,j] = x_ij - sp.I*y_ij"
   ]
  },
  {
   "cell_type": "markdown",
   "id": "4a16d0ee",
   "metadata": {},
   "source": [
    "## Creating X coordinates (using sp.MatrixSymbol for the 4th stack)"
   ]
  },
  {
   "cell_type": "code",
   "execution_count": 291,
   "id": "e9ce397b",
   "metadata": {},
   "outputs": [],
   "source": [
    "# Creating a dictionary to store the X coordinates\n",
    "X = {}\n",
    "for i in np.arange(1,5):\n",
    "    for j in np.arange(1,10):\n",
    "        if i != 4:\n",
    "            X[str(i)+str(j)] = sp.Symbol(\"X^{\"+str(i)+\"}_\"+str(j), real = True)\n",
    "        else:\n",
    "            X[str(i)+str(j)] = sp.MatrixSymbol(\"X^{\"+str(i)+\"}_\"+str(j),N,N)"
   ]
  },
  {
   "cell_type": "markdown",
   "id": "607747e6",
   "metadata": {},
   "source": [
    "## Creating the $\\phi$'s and $\\phi^{\\dagger}$'s and $\\phi^{(ij)}$"
   ]
  },
  {
   "cell_type": "code",
   "execution_count": 292,
   "id": "c1702ab2",
   "metadata": {},
   "outputs": [],
   "source": [
    "phi = {}\n",
    "phi_ = {}\n",
    "phi_dag = {}\n",
    "for i in np.arange(1,5):\n",
    "    phi[str(i)+\"1\"] = 1/sp.sqrt(2) * (X[str(i)+\"4\"] + sp.I * X[str(i)+\"5\"])\n",
    "    phi[str(i)+\"2\"] = 1/sp.sqrt(2) * (X[str(i)+\"6\"] + sp.I * X[str(i)+\"7\"])\n",
    "    phi[str(i)+\"3\"] = 1/sp.sqrt(2) * (X[str(i)+\"8\"] + sp.I * X[str(i)+\"9\"])\n",
    "    \n",
    "    phi_dag[str(i)+\"1\"] = 1/sp.sqrt(2) * ( X[str(i)+\"4\"] - sp.I * X[str(i)+\"5\"])\n",
    "    phi_dag[str(i)+\"2\"] = 1/sp.sqrt(2) * (X[str(i)+\"6\"] - sp.I * X[str(i)+\"7\"])\n",
    "    phi_dag[str(i)+\"3\"] = 1/sp.sqrt(2) * (X[str(i)+\"8\"] - sp.I * X[str(i)+\"9\"])\n",
    "    \n",
    "phi_[\"12\"] = phi[\"13\"] - phi[\"23\"]\n",
    "phi_[\"23\"] = phi[\"21\"] - phi[\"31\"]\n",
    "phi_[\"31\"] = phi[\"32\"] - phi[\"12\"]"
   ]
  },
  {
   "cell_type": "markdown",
   "id": "ad124cfc",
   "metadata": {},
   "source": [
    "## Creating Z coordinates"
   ]
  },
  {
   "cell_type": "code",
   "execution_count": 293,
   "id": "992433af",
   "metadata": {},
   "outputs": [],
   "source": [
    "# Building the Z-dictionary\n",
    "Z = {}\n",
    "for i in np.arange(1,4):\n",
    "    #Scalars here\n",
    "    for j in np.arange(1,4):\n",
    "        if i == j: \n",
    "            continue\n",
    "        else:\n",
    "            P = sp.Symbol(\"P^{\"+str(i) + str(j) +\"}\", real = True)\n",
    "            Q = sp.Symbol(\"Q^{\"+str(i) + str(j) +\"}\", real = True)\n",
    "            Z[str(i) + str(j)] = (P + sp.I * Q)\n",
    "    \n",
    "    #Vectors here\n",
    "    store_current_4i = []\n",
    "    store_current_i4 = []\n",
    "    for j in np.arange(1,N+1):\n",
    "        P4i = sp.Symbol(\"P^{\"+str(4)+str(i)+\"}_\"+str(j), real = True)\n",
    "        Q4i = sp.Symbol(\"Q^{\"+str(4)+str(i)+\"}_\"+str(j), real = True)\n",
    "        Pi4 = sp.Symbol(\"P^{\"+str(i)+str(4)+\"}_\"+str(j), real = True)\n",
    "        Qi4 = sp.Symbol(\"Q^{\"+str(i)+str(4)+\"}_\"+str(j), real = True)\n",
    "        store_current_4i.append([P4i + sp.I * Q4i])\n",
    "        store_current_i4.append([Pi4 + sp.I * Qi4])\n",
    "    Z[\"4\"+str(i)] = sp.Matrix(store_current_4i)\n",
    "    Z[str(i) + \"4\"] = sp.Matrix(store_current_i4).transpose()"
   ]
  },
  {
   "cell_type": "markdown",
   "id": "34c0b5dd",
   "metadata": {},
   "source": [
    "## Creating the F variables"
   ]
  },
  {
   "cell_type": "code",
   "execution_count": 294,
   "id": "5d075d7f",
   "metadata": {},
   "outputs": [],
   "source": [
    "F = {}\n",
    "\n",
    "#Scalars\n",
    "for i in np.arange(1,4):\n",
    "    for j in np.arange(1,5):\n",
    "        if i == j:\n",
    "            continue\n",
    "        if j == 4:\n",
    "            F[str(i)+str(j)] = (Z[str(i)+str(j)] * Z[str(j)+str(i)])[0] + N*sp.Symbol(\"c^{\"+str(i)+str(j)+\"}\")/g**2\n",
    "        else:\n",
    "            F[str(i)+str(j)] = Z[str(i)+str(j)] * Z[str(j)+str(i)] + sp.Symbol(\"c^{\"+str(i)+str(j)+\"}\")/g**2 \n",
    "\n",
    "F[\"41\"] = Z[\"41\"]*Z[\"14\"] + (sp.Symbol(\"c^{41}\")/g**2)*sp.eye(N) +  phi[\"42\"]*phi[\"43\"] - phi[\"43\"]*phi[\"42\"]\n",
    "F[\"42\"] = Z[\"42\"]*Z[\"24\"] + (sp.Symbol(\"c^{42}\")/g**2)*sp.eye(N) +  phi[\"43\"]*phi[\"41\"] - phi[\"41\"]*phi[\"43\"]\n",
    "F[\"43\"] = Z[\"43\"]*Z[\"34\"] + (sp.Symbol(\"c^{43}\")/g**2)*sp.eye(N) -  phi[\"42\"]*phi[\"41\"] + phi[\"41\"]*phi[\"42\"]"
   ]
  },
  {
   "cell_type": "markdown",
   "id": "7f16420c",
   "metadata": {},
   "source": [
    "## Writing in the G's"
   ]
  },
  {
   "cell_type": "code",
   "execution_count": 295,
   "id": "efda841f",
   "metadata": {},
   "outputs": [],
   "source": [
    "G = {}\n",
    "\n",
    "G[\"21\"] = phi_[\"12\"]*Z[\"21\"] + Z[\"23\"]*Z[\"31\"] + (Z[\"24\"]*Z[\"41\"])[0]\n",
    "G[\"12\"] = phi_[\"12\"]*Z[\"12\"] + Z[\"13\"]*Z[\"32\"] + (Z[\"14\"]*Z[\"42\"])[0]\n",
    "\n",
    "G[\"31\"] = phi_[\"31\"]*Z[\"31\"] + Z[\"32\"]*Z[\"21\"] - (Z[\"34\"]*Z[\"41\"])[0]\n",
    "G[\"13\"] = phi_[\"31\"]*Z[\"13\"] + Z[\"12\"]*Z[\"23\"] + (Z[\"14\"]*Z[\"43\"])[0]\n",
    "\n",
    "G[\"32\"] = phi_[\"23\"]*Z[\"32\"] + Z[\"31\"]*Z[\"12\"] + (Z[\"34\"]*Z[\"42\"])[0]\n",
    "G[\"23\"] = phi_[\"23\"]*Z[\"23\"] + Z[\"21\"]*Z[\"13\"] + (Z[\"24\"]*Z[\"43\"])[0]\n",
    "\n",
    "G[\"41\"] = -phi[\"41\"]*Z[\"41\"] + Z[\"42\"]*Z[\"21\"] + Z[\"43\"]*Z[\"31\"]\n",
    "G[\"14\"] = -Z[\"14\"]*phi[\"41\"] + Z[\"12\"]*Z[\"24\"] - Z[\"13\"]*Z[\"34\"]\n",
    "\n",
    "G[\"42\"] = -phi[\"42\"]*Z[\"42\"] + Z[\"43\"]*Z[\"32\"] + Z[\"41\"]*Z[\"12\"]\n",
    "G[\"24\"] = -Z[\"24\"]*phi[\"42\"] + Z[\"21\"]*Z[\"14\"] + Z[\"23\"]*Z[\"34\"]\n",
    "\n",
    "G[\"43\"] = -phi[\"43\"]*Z[\"43\"] - Z[\"41\"]*Z[\"13\"] + Z[\"42\"]*Z[\"23\"]\n",
    "G[\"34\"] = -Z[\"34\"]*phi[\"43\"] + Z[\"31\"]*Z[\"14\"] + Z[\"32\"]*Z[\"24\"]"
   ]
  },
  {
   "cell_type": "markdown",
   "id": "667d9bcc",
   "metadata": {},
   "source": [
    "## Creating $V_F$"
   ]
  },
  {
   "cell_type": "code",
   "execution_count": 303,
   "id": "51aac96d",
   "metadata": {},
   "outputs": [
    {
     "name": "stdout",
     "output_type": "stream",
     "text": [
      "9.367836475372314\n"
     ]
    }
   ],
   "source": [
    "start = time.time()\n",
    "Fsum1 = sp.Symbol(\"\",real = True)\n",
    "Fsum2 = sp.Symbol(\"\",real = True)\n",
    "Fsum3 = sp.Symbol(\"\",real = True)\n",
    "#Term 1\n",
    "for i in np.arange(1,4):\n",
    "    for j in np.arange(1,4):\n",
    "        if i == j:\n",
    "            continue\n",
    "        else:\n",
    "            Fsum1+= sp.re(F[str(i)+str(j)])**2 + sp.im(F[str(i)+str(j)])**2\n",
    "#Term 2\n",
    "for i in np.arange(1,4):\n",
    "    Fsum2 += sp.re(F[str(i)+\"4\"])**2 + sp.im(F[str(i)+\"4\"])**2\n",
    "    \n",
    "#Term 3\n",
    "for i in np.arange(1,4):\n",
    "    for j in np.arange(N):\n",
    "        for k in np.arange(N):\n",
    "            Fsum3 += sp.re(F[\"4\"+str(i)][j,k])**2 + sp.im(F[\"4\"+str(i)][j,k])**2\n",
    "            \n",
    "print(time.time() - start)"
   ]
  },
  {
   "cell_type": "code",
   "execution_count": 306,
   "id": "27122d67",
   "metadata": {},
   "outputs": [],
   "source": [
    "Fsum3 = sp.Symbol(\"\")\n",
    "for i in np.arange(1,4):\n",
    "    Fsum3 += sp.trace(F[\"4\"+str(i)].adjoint()*F[\"4\"+str(i)])"
   ]
  },
  {
   "cell_type": "code",
   "execution_count": 313,
   "id": "ee6aa740",
   "metadata": {},
   "outputs": [
    {
     "data": {
      "text/latex": [
       "$\\displaystyle 2 \\left(X^{4}_1\\right)^{T}$"
      ],
      "text/plain": [
       "2*X^{4}_1.T"
      ]
     },
     "execution_count": 313,
     "metadata": {},
     "output_type": "execute_result"
    }
   ],
   "source": [
    "(sp.trace(X[\"41\"]*X[\"41\"])).diff(X[\"41\"])"
   ]
  },
  {
   "cell_type": "code",
   "execution_count": 321,
   "id": "396a0887",
   "metadata": {},
   "outputs": [
    {
     "data": {
      "text/latex": [
       "$\\displaystyle P^{43}_1$"
      ],
      "text/plain": [
       "P^{43}_1"
      ]
     },
     "execution_count": 321,
     "metadata": {},
     "output_type": "execute_result"
    }
   ],
   "source": [
    "sp.re(Z[\"43\"][0])"
   ]
  },
  {
   "cell_type": "code",
   "execution_count": 316,
   "id": "09780519",
   "metadata": {
    "scrolled": true
   },
   "outputs": [
    {
     "data": {
      "text/latex": [
       "$\\displaystyle  + \\operatorname{tr}\\left(\\left(- \\frac{1}{2} \\left(\\left(X^{4}_4\\right)^{\\dagger} + - i \\left(X^{4}_5\\right)^{\\dagger}\\right) \\left(\\left(X^{4}_6\\right)^{\\dagger} + - i \\left(X^{4}_7\\right)^{\\dagger}\\right) + \\left(\\frac{1}{2}\\right) \\left(\\left(X^{4}_6\\right)^{\\dagger} + - i \\left(X^{4}_7\\right)^{\\dagger}\\right) \\left(\\left(X^{4}_4\\right)^{\\dagger} + - i \\left(X^{4}_5\\right)^{\\dagger}\\right) + \\left[\\begin{matrix}\\left(P^{34}_1 - i Q^{34}_1\\right) \\left(P^{43}_1 - i Q^{43}_1\\right) + \\frac{\\overline{c^{43}}}{g^{2}} & \\left(P^{34}_1 - i Q^{34}_1\\right) \\left(P^{43}_2 - i Q^{43}_2\\right) & \\left(P^{34}_1 - i Q^{34}_1\\right) \\left(P^{43}_3 - i Q^{43}_3\\right)\\\\\\left(P^{34}_2 - i Q^{34}_2\\right) \\left(P^{43}_1 - i Q^{43}_1\\right) & \\left(P^{34}_2 - i Q^{34}_2\\right) \\left(P^{43}_2 - i Q^{43}_2\\right) + \\frac{\\overline{c^{43}}}{g^{2}} & \\left(P^{34}_2 - i Q^{34}_2\\right) \\left(P^{43}_3 - i Q^{43}_3\\right)\\\\\\left(P^{34}_3 - i Q^{34}_3\\right) \\left(P^{43}_1 - i Q^{43}_1\\right) & \\left(P^{34}_3 - i Q^{34}_3\\right) \\left(P^{43}_2 - i Q^{43}_2\\right) & \\left(P^{34}_3 - i Q^{34}_3\\right) \\left(P^{43}_3 - i Q^{43}_3\\right) + \\frac{\\overline{c^{43}}}{g^{2}}\\end{matrix}\\right]\\right) \\left(\\left(\\frac{1}{2}\\right) \\left(X^{4}_4 + i X^{4}_5\\right) \\left(X^{4}_6 + i X^{4}_7\\right) - \\left(\\frac{1}{2}\\right) \\left(X^{4}_6 + i X^{4}_7\\right) \\left(X^{4}_4 + i X^{4}_5\\right) + \\left[\\begin{matrix}\\frac{c^{43}}{g^{2}} + \\left(P^{34}_1 + i Q^{34}_1\\right) \\left(P^{43}_1 + i Q^{43}_1\\right) & \\left(P^{34}_2 + i Q^{34}_2\\right) \\left(P^{43}_1 + i Q^{43}_1\\right) & \\left(P^{34}_3 + i Q^{34}_3\\right) \\left(P^{43}_1 + i Q^{43}_1\\right)\\\\\\left(P^{34}_1 + i Q^{34}_1\\right) \\left(P^{43}_2 + i Q^{43}_2\\right) & \\frac{c^{43}}{g^{2}} + \\left(P^{34}_2 + i Q^{34}_2\\right) \\left(P^{43}_2 + i Q^{43}_2\\right) & \\left(P^{34}_3 + i Q^{34}_3\\right) \\left(P^{43}_2 + i Q^{43}_2\\right)\\\\\\left(P^{34}_1 + i Q^{34}_1\\right) \\left(P^{43}_3 + i Q^{43}_3\\right) & \\left(P^{34}_2 + i Q^{34}_2\\right) \\left(P^{43}_3 + i Q^{43}_3\\right) & \\frac{c^{43}}{g^{2}} + \\left(P^{34}_3 + i Q^{34}_3\\right) \\left(P^{43}_3 + i Q^{43}_3\\right)\\end{matrix}\\right]\\right) \\right) + \\operatorname{tr}\\left(\\left(- \\frac{1}{2} \\left(\\left(X^{4}_6\\right)^{\\dagger} + - i \\left(X^{4}_7\\right)^{\\dagger}\\right) \\left(\\left(X^{4}_8\\right)^{\\dagger} + - i \\left(X^{4}_9\\right)^{\\dagger}\\right) + \\left(\\frac{1}{2}\\right) \\left(\\left(X^{4}_8\\right)^{\\dagger} + - i \\left(X^{4}_9\\right)^{\\dagger}\\right) \\left(\\left(X^{4}_6\\right)^{\\dagger} + - i \\left(X^{4}_7\\right)^{\\dagger}\\right) + \\left[\\begin{matrix}\\left(P^{14}_1 - i Q^{14}_1\\right) \\left(P^{41}_1 - i Q^{41}_1\\right) + \\frac{\\overline{c^{41}}}{g^{2}} & \\left(P^{14}_1 - i Q^{14}_1\\right) \\left(P^{41}_2 - i Q^{41}_2\\right) & \\left(P^{14}_1 - i Q^{14}_1\\right) \\left(P^{41}_3 - i Q^{41}_3\\right)\\\\\\left(P^{14}_2 - i Q^{14}_2\\right) \\left(P^{41}_1 - i Q^{41}_1\\right) & \\left(P^{14}_2 - i Q^{14}_2\\right) \\left(P^{41}_2 - i Q^{41}_2\\right) + \\frac{\\overline{c^{41}}}{g^{2}} & \\left(P^{14}_2 - i Q^{14}_2\\right) \\left(P^{41}_3 - i Q^{41}_3\\right)\\\\\\left(P^{14}_3 - i Q^{14}_3\\right) \\left(P^{41}_1 - i Q^{41}_1\\right) & \\left(P^{14}_3 - i Q^{14}_3\\right) \\left(P^{41}_2 - i Q^{41}_2\\right) & \\left(P^{14}_3 - i Q^{14}_3\\right) \\left(P^{41}_3 - i Q^{41}_3\\right) + \\frac{\\overline{c^{41}}}{g^{2}}\\end{matrix}\\right]\\right) \\left(\\left(\\frac{1}{2}\\right) \\left(X^{4}_6 + i X^{4}_7\\right) \\left(X^{4}_8 + i X^{4}_9\\right) - \\left(\\frac{1}{2}\\right) \\left(X^{4}_8 + i X^{4}_9\\right) \\left(X^{4}_6 + i X^{4}_7\\right) + \\left[\\begin{matrix}\\frac{c^{41}}{g^{2}} + \\left(P^{14}_1 + i Q^{14}_1\\right) \\left(P^{41}_1 + i Q^{41}_1\\right) & \\left(P^{14}_2 + i Q^{14}_2\\right) \\left(P^{41}_1 + i Q^{41}_1\\right) & \\left(P^{14}_3 + i Q^{14}_3\\right) \\left(P^{41}_1 + i Q^{41}_1\\right)\\\\\\left(P^{14}_1 + i Q^{14}_1\\right) \\left(P^{41}_2 + i Q^{41}_2\\right) & \\frac{c^{41}}{g^{2}} + \\left(P^{14}_2 + i Q^{14}_2\\right) \\left(P^{41}_2 + i Q^{41}_2\\right) & \\left(P^{14}_3 + i Q^{14}_3\\right) \\left(P^{41}_2 + i Q^{41}_2\\right)\\\\\\left(P^{14}_1 + i Q^{14}_1\\right) \\left(P^{41}_3 + i Q^{41}_3\\right) & \\left(P^{14}_2 + i Q^{14}_2\\right) \\left(P^{41}_3 + i Q^{41}_3\\right) & \\frac{c^{41}}{g^{2}} + \\left(P^{14}_3 + i Q^{14}_3\\right) \\left(P^{41}_3 + i Q^{41}_3\\right)\\end{matrix}\\right]\\right) \\right) + \\operatorname{tr}\\left(\\left(\\left(\\frac{1}{2}\\right) \\left(\\left(X^{4}_4\\right)^{\\dagger} + - i \\left(X^{4}_5\\right)^{\\dagger}\\right) \\left(\\left(X^{4}_8\\right)^{\\dagger} + - i \\left(X^{4}_9\\right)^{\\dagger}\\right) - \\left(\\frac{1}{2}\\right) \\left(\\left(X^{4}_8\\right)^{\\dagger} + - i \\left(X^{4}_9\\right)^{\\dagger}\\right) \\left(\\left(X^{4}_4\\right)^{\\dagger} + - i \\left(X^{4}_5\\right)^{\\dagger}\\right) + \\left[\\begin{matrix}\\left(P^{24}_1 - i Q^{24}_1\\right) \\left(P^{42}_1 - i Q^{42}_1\\right) + \\frac{\\overline{c^{42}}}{g^{2}} & \\left(P^{24}_1 - i Q^{24}_1\\right) \\left(P^{42}_2 - i Q^{42}_2\\right) & \\left(P^{24}_1 - i Q^{24}_1\\right) \\left(P^{42}_3 - i Q^{42}_3\\right)\\\\\\left(P^{24}_2 - i Q^{24}_2\\right) \\left(P^{42}_1 - i Q^{42}_1\\right) & \\left(P^{24}_2 - i Q^{24}_2\\right) \\left(P^{42}_2 - i Q^{42}_2\\right) + \\frac{\\overline{c^{42}}}{g^{2}} & \\left(P^{24}_2 - i Q^{24}_2\\right) \\left(P^{42}_3 - i Q^{42}_3\\right)\\\\\\left(P^{24}_3 - i Q^{24}_3\\right) \\left(P^{42}_1 - i Q^{42}_1\\right) & \\left(P^{24}_3 - i Q^{24}_3\\right) \\left(P^{42}_2 - i Q^{42}_2\\right) & \\left(P^{24}_3 - i Q^{24}_3\\right) \\left(P^{42}_3 - i Q^{42}_3\\right) + \\frac{\\overline{c^{42}}}{g^{2}}\\end{matrix}\\right]\\right) \\left(- \\frac{1}{2} \\left(X^{4}_4 + i X^{4}_5\\right) \\left(X^{4}_8 + i X^{4}_9\\right) + \\left(\\frac{1}{2}\\right) \\left(X^{4}_8 + i X^{4}_9\\right) \\left(X^{4}_4 + i X^{4}_5\\right) + \\left[\\begin{matrix}\\frac{c^{42}}{g^{2}} + \\left(P^{24}_1 + i Q^{24}_1\\right) \\left(P^{42}_1 + i Q^{42}_1\\right) & \\left(P^{24}_2 + i Q^{24}_2\\right) \\left(P^{42}_1 + i Q^{42}_1\\right) & \\left(P^{24}_3 + i Q^{24}_3\\right) \\left(P^{42}_1 + i Q^{42}_1\\right)\\\\\\left(P^{24}_1 + i Q^{24}_1\\right) \\left(P^{42}_2 + i Q^{42}_2\\right) & \\frac{c^{42}}{g^{2}} + \\left(P^{24}_2 + i Q^{24}_2\\right) \\left(P^{42}_2 + i Q^{42}_2\\right) & \\left(P^{24}_3 + i Q^{24}_3\\right) \\left(P^{42}_2 + i Q^{42}_2\\right)\\\\\\left(P^{24}_1 + i Q^{24}_1\\right) \\left(P^{42}_3 + i Q^{42}_3\\right) & \\left(P^{24}_2 + i Q^{24}_2\\right) \\left(P^{42}_3 + i Q^{42}_3\\right) & \\frac{c^{42}}{g^{2}} + \\left(P^{24}_3 + i Q^{24}_3\\right) \\left(P^{42}_3 + i Q^{42}_3\\right)\\end{matrix}\\right]\\right) \\right)$"
      ],
      "text/plain": [
       " + Trace((-(1/2)*(Adjoint(X^{4}_4) - I*Adjoint(X^{4}_5))*(Adjoint(X^{4}_6) - I*Adjoint(X^{4}_7)) + (1/2)*(Adjoint(X^{4}_6) - I*Adjoint(X^{4}_7))*(Adjoint(X^{4}_4) - I*Adjoint(X^{4}_5)) + Matrix([\n",
       "[(P^{34}_1 - I*Q^{34}_1)*(P^{43}_1 - I*Q^{43}_1) + conjugate(c^{43})/g**2,                          (P^{34}_1 - I*Q^{34}_1)*(P^{43}_2 - I*Q^{43}_2),                          (P^{34}_1 - I*Q^{34}_1)*(P^{43}_3 - I*Q^{43}_3)],\n",
       "[                         (P^{34}_2 - I*Q^{34}_2)*(P^{43}_1 - I*Q^{43}_1), (P^{34}_2 - I*Q^{34}_2)*(P^{43}_2 - I*Q^{43}_2) + conjugate(c^{43})/g**2,                          (P^{34}_2 - I*Q^{34}_2)*(P^{43}_3 - I*Q^{43}_3)],\n",
       "[                         (P^{34}_3 - I*Q^{34}_3)*(P^{43}_1 - I*Q^{43}_1),                          (P^{34}_3 - I*Q^{34}_3)*(P^{43}_2 - I*Q^{43}_2), (P^{34}_3 - I*Q^{34}_3)*(P^{43}_3 - I*Q^{43}_3) + conjugate(c^{43})/g**2]]))*((1/2)*(X^{4}_4 + I*X^{4}_5)*(X^{4}_6 + I*X^{4}_7) - (1/2)*(X^{4}_6 + I*X^{4}_7)*(X^{4}_4 + I*X^{4}_5) + Matrix([\n",
       "[c^{43}/g**2 + (P^{34}_1 + I*Q^{34}_1)*(P^{43}_1 + I*Q^{43}_1),               (P^{34}_2 + I*Q^{34}_2)*(P^{43}_1 + I*Q^{43}_1),               (P^{34}_3 + I*Q^{34}_3)*(P^{43}_1 + I*Q^{43}_1)],\n",
       "[              (P^{34}_1 + I*Q^{34}_1)*(P^{43}_2 + I*Q^{43}_2), c^{43}/g**2 + (P^{34}_2 + I*Q^{34}_2)*(P^{43}_2 + I*Q^{43}_2),               (P^{34}_3 + I*Q^{34}_3)*(P^{43}_2 + I*Q^{43}_2)],\n",
       "[              (P^{34}_1 + I*Q^{34}_1)*(P^{43}_3 + I*Q^{43}_3),               (P^{34}_2 + I*Q^{34}_2)*(P^{43}_3 + I*Q^{43}_3), c^{43}/g**2 + (P^{34}_3 + I*Q^{34}_3)*(P^{43}_3 + I*Q^{43}_3)]]))) + Trace((-(1/2)*(Adjoint(X^{4}_6) - I*Adjoint(X^{4}_7))*(Adjoint(X^{4}_8) - I*Adjoint(X^{4}_9)) + (1/2)*(Adjoint(X^{4}_8) - I*Adjoint(X^{4}_9))*(Adjoint(X^{4}_6) - I*Adjoint(X^{4}_7)) + Matrix([\n",
       "[(P^{14}_1 - I*Q^{14}_1)*(P^{41}_1 - I*Q^{41}_1) + conjugate(c^{41})/g**2,                          (P^{14}_1 - I*Q^{14}_1)*(P^{41}_2 - I*Q^{41}_2),                          (P^{14}_1 - I*Q^{14}_1)*(P^{41}_3 - I*Q^{41}_3)],\n",
       "[                         (P^{14}_2 - I*Q^{14}_2)*(P^{41}_1 - I*Q^{41}_1), (P^{14}_2 - I*Q^{14}_2)*(P^{41}_2 - I*Q^{41}_2) + conjugate(c^{41})/g**2,                          (P^{14}_2 - I*Q^{14}_2)*(P^{41}_3 - I*Q^{41}_3)],\n",
       "[                         (P^{14}_3 - I*Q^{14}_3)*(P^{41}_1 - I*Q^{41}_1),                          (P^{14}_3 - I*Q^{14}_3)*(P^{41}_2 - I*Q^{41}_2), (P^{14}_3 - I*Q^{14}_3)*(P^{41}_3 - I*Q^{41}_3) + conjugate(c^{41})/g**2]]))*((1/2)*(X^{4}_6 + I*X^{4}_7)*(X^{4}_8 + I*X^{4}_9) - (1/2)*(X^{4}_8 + I*X^{4}_9)*(X^{4}_6 + I*X^{4}_7) + Matrix([\n",
       "[c^{41}/g**2 + (P^{14}_1 + I*Q^{14}_1)*(P^{41}_1 + I*Q^{41}_1),               (P^{14}_2 + I*Q^{14}_2)*(P^{41}_1 + I*Q^{41}_1),               (P^{14}_3 + I*Q^{14}_3)*(P^{41}_1 + I*Q^{41}_1)],\n",
       "[              (P^{14}_1 + I*Q^{14}_1)*(P^{41}_2 + I*Q^{41}_2), c^{41}/g**2 + (P^{14}_2 + I*Q^{14}_2)*(P^{41}_2 + I*Q^{41}_2),               (P^{14}_3 + I*Q^{14}_3)*(P^{41}_2 + I*Q^{41}_2)],\n",
       "[              (P^{14}_1 + I*Q^{14}_1)*(P^{41}_3 + I*Q^{41}_3),               (P^{14}_2 + I*Q^{14}_2)*(P^{41}_3 + I*Q^{41}_3), c^{41}/g**2 + (P^{14}_3 + I*Q^{14}_3)*(P^{41}_3 + I*Q^{41}_3)]]))) + Trace(((1/2)*(Adjoint(X^{4}_4) - I*Adjoint(X^{4}_5))*(Adjoint(X^{4}_8) - I*Adjoint(X^{4}_9)) - (1/2)*(Adjoint(X^{4}_8) - I*Adjoint(X^{4}_9))*(Adjoint(X^{4}_4) - I*Adjoint(X^{4}_5)) + Matrix([\n",
       "[(P^{24}_1 - I*Q^{24}_1)*(P^{42}_1 - I*Q^{42}_1) + conjugate(c^{42})/g**2,                          (P^{24}_1 - I*Q^{24}_1)*(P^{42}_2 - I*Q^{42}_2),                          (P^{24}_1 - I*Q^{24}_1)*(P^{42}_3 - I*Q^{42}_3)],\n",
       "[                         (P^{24}_2 - I*Q^{24}_2)*(P^{42}_1 - I*Q^{42}_1), (P^{24}_2 - I*Q^{24}_2)*(P^{42}_2 - I*Q^{42}_2) + conjugate(c^{42})/g**2,                          (P^{24}_2 - I*Q^{24}_2)*(P^{42}_3 - I*Q^{42}_3)],\n",
       "[                         (P^{24}_3 - I*Q^{24}_3)*(P^{42}_1 - I*Q^{42}_1),                          (P^{24}_3 - I*Q^{24}_3)*(P^{42}_2 - I*Q^{42}_2), (P^{24}_3 - I*Q^{24}_3)*(P^{42}_3 - I*Q^{42}_3) + conjugate(c^{42})/g**2]]))*(-(1/2)*(X^{4}_4 + I*X^{4}_5)*(X^{4}_8 + I*X^{4}_9) + (1/2)*(X^{4}_8 + I*X^{4}_9)*(X^{4}_4 + I*X^{4}_5) + Matrix([\n",
       "[c^{42}/g**2 + (P^{24}_1 + I*Q^{24}_1)*(P^{42}_1 + I*Q^{42}_1),               (P^{24}_2 + I*Q^{24}_2)*(P^{42}_1 + I*Q^{42}_1),               (P^{24}_3 + I*Q^{24}_3)*(P^{42}_1 + I*Q^{42}_1)],\n",
       "[              (P^{24}_1 + I*Q^{24}_1)*(P^{42}_2 + I*Q^{42}_2), c^{42}/g**2 + (P^{24}_2 + I*Q^{24}_2)*(P^{42}_2 + I*Q^{42}_2),               (P^{24}_3 + I*Q^{24}_3)*(P^{42}_2 + I*Q^{42}_2)],\n",
       "[              (P^{24}_1 + I*Q^{24}_1)*(P^{42}_3 + I*Q^{42}_3),               (P^{24}_2 + I*Q^{24}_2)*(P^{42}_3 + I*Q^{42}_3), c^{42}/g**2 + (P^{24}_3 + I*Q^{24}_3)*(P^{42}_3 + I*Q^{42}_3)]])))"
      ]
     },
     "execution_count": 316,
     "metadata": {},
     "output_type": "execute_result"
    }
   ],
   "source": [
    "Fsum3"
   ]
  },
  {
   "cell_type": "code",
   "execution_count": 319,
   "id": "93718b3c",
   "metadata": {},
   "outputs": [
    {
     "ename": "NotImplementedError",
     "evalue": "",
     "output_type": "error",
     "traceback": [
      "\u001b[1;31m---------------------------------------------------------------------------\u001b[0m",
      "\u001b[1;31mNotImplementedError\u001b[0m                       Traceback (most recent call last)",
      "Cell \u001b[1;32mIn[319], line 1\u001b[0m\n\u001b[1;32m----> 1\u001b[0m \u001b[43mFsum3\u001b[49m\u001b[38;5;241;43m.\u001b[39;49m\u001b[43mdiff\u001b[49m\u001b[43m(\u001b[49m\u001b[43msp\u001b[49m\u001b[38;5;241;43m.\u001b[39;49m\u001b[43mre\u001b[49m\u001b[43m(\u001b[49m\u001b[43mZ\u001b[49m\u001b[43m[\u001b[49m\u001b[38;5;124;43m\"\u001b[39;49m\u001b[38;5;124;43m43\u001b[39;49m\u001b[38;5;124;43m\"\u001b[39;49m\u001b[43m]\u001b[49m\u001b[43m[\u001b[49m\u001b[38;5;241;43m0\u001b[39;49m\u001b[43m]\u001b[49m\u001b[43m)\u001b[49m\u001b[43m)\u001b[49m\n",
      "File \u001b[1;32m~\\anaconda3\\lib\\site-packages\\sympy\\core\\expr.py:3555\u001b[0m, in \u001b[0;36mExpr.diff\u001b[1;34m(self, *symbols, **assumptions)\u001b[0m\n\u001b[0;32m   3553\u001b[0m \u001b[38;5;28;01mdef\u001b[39;00m \u001b[38;5;21mdiff\u001b[39m(\u001b[38;5;28mself\u001b[39m, \u001b[38;5;241m*\u001b[39msymbols, \u001b[38;5;241m*\u001b[39m\u001b[38;5;241m*\u001b[39massumptions):\n\u001b[0;32m   3554\u001b[0m     assumptions\u001b[38;5;241m.\u001b[39msetdefault(\u001b[38;5;124m\"\u001b[39m\u001b[38;5;124mevaluate\u001b[39m\u001b[38;5;124m\"\u001b[39m, \u001b[38;5;28;01mTrue\u001b[39;00m)\n\u001b[1;32m-> 3555\u001b[0m     \u001b[38;5;28;01mreturn\u001b[39;00m _derivative_dispatch(\u001b[38;5;28mself\u001b[39m, \u001b[38;5;241m*\u001b[39msymbols, \u001b[38;5;241m*\u001b[39m\u001b[38;5;241m*\u001b[39massumptions)\n",
      "File \u001b[1;32m~\\anaconda3\\lib\\site-packages\\sympy\\core\\function.py:1914\u001b[0m, in \u001b[0;36m_derivative_dispatch\u001b[1;34m(expr, *variables, **kwargs)\u001b[0m\n\u001b[0;32m   1912\u001b[0m     \u001b[38;5;28;01mfrom\u001b[39;00m \u001b[38;5;21;01msympy\u001b[39;00m\u001b[38;5;21;01m.\u001b[39;00m\u001b[38;5;21;01mtensor\u001b[39;00m\u001b[38;5;21;01m.\u001b[39;00m\u001b[38;5;21;01marray\u001b[39;00m\u001b[38;5;21;01m.\u001b[39;00m\u001b[38;5;21;01marray_derivatives\u001b[39;00m \u001b[38;5;28;01mimport\u001b[39;00m ArrayDerivative\n\u001b[0;32m   1913\u001b[0m     \u001b[38;5;28;01mreturn\u001b[39;00m ArrayDerivative(expr, \u001b[38;5;241m*\u001b[39mvariables, \u001b[38;5;241m*\u001b[39m\u001b[38;5;241m*\u001b[39mkwargs)\n\u001b[1;32m-> 1914\u001b[0m \u001b[38;5;28;01mreturn\u001b[39;00m Derivative(expr, \u001b[38;5;241m*\u001b[39mvariables, \u001b[38;5;241m*\u001b[39m\u001b[38;5;241m*\u001b[39mkwargs)\n",
      "File \u001b[1;32m~\\anaconda3\\lib\\site-packages\\sympy\\core\\function.py:1442\u001b[0m, in \u001b[0;36mDerivative.__new__\u001b[1;34m(cls, expr, *variables, **kwargs)\u001b[0m\n\u001b[0;32m   1435\u001b[0m     \u001b[38;5;28;01mif\u001b[39;00m \u001b[38;5;129;01mnot\u001b[39;00m old_v\u001b[38;5;241m.\u001b[39mis_scalar \u001b[38;5;129;01mand\u001b[39;00m \u001b[38;5;129;01mnot\u001b[39;00m \u001b[38;5;28mhasattr\u001b[39m(\n\u001b[0;32m   1436\u001b[0m             old_v, \u001b[38;5;124m'\u001b[39m\u001b[38;5;124m_eval_derivative\u001b[39m\u001b[38;5;124m'\u001b[39m):\n\u001b[0;32m   1437\u001b[0m         \u001b[38;5;66;03m# special hack providing evaluation for classes\u001b[39;00m\n\u001b[0;32m   1438\u001b[0m         \u001b[38;5;66;03m# that have defined is_scalar=True but have no\u001b[39;00m\n\u001b[0;32m   1439\u001b[0m         \u001b[38;5;66;03m# _eval_derivative defined\u001b[39;00m\n\u001b[0;32m   1440\u001b[0m         expr \u001b[38;5;241m*\u001b[39m\u001b[38;5;241m=\u001b[39m old_v\u001b[38;5;241m.\u001b[39mdiff(old_v)\n\u001b[1;32m-> 1442\u001b[0m obj \u001b[38;5;241m=\u001b[39m \u001b[38;5;28;43mcls\u001b[39;49m\u001b[38;5;241;43m.\u001b[39;49m\u001b[43m_dispatch_eval_derivative_n_times\u001b[49m\u001b[43m(\u001b[49m\u001b[43mexpr\u001b[49m\u001b[43m,\u001b[49m\u001b[43m \u001b[49m\u001b[43mv\u001b[49m\u001b[43m,\u001b[49m\u001b[43m \u001b[49m\u001b[43mcount\u001b[49m\u001b[43m)\u001b[49m\n\u001b[0;32m   1443\u001b[0m \u001b[38;5;28;01mif\u001b[39;00m obj \u001b[38;5;129;01mis\u001b[39;00m \u001b[38;5;129;01mnot\u001b[39;00m \u001b[38;5;28;01mNone\u001b[39;00m \u001b[38;5;129;01mand\u001b[39;00m obj\u001b[38;5;241m.\u001b[39mis_zero:\n\u001b[0;32m   1444\u001b[0m     \u001b[38;5;28;01mreturn\u001b[39;00m obj\n",
      "File \u001b[1;32m~\\anaconda3\\lib\\site-packages\\sympy\\core\\function.py:1903\u001b[0m, in \u001b[0;36mDerivative._dispatch_eval_derivative_n_times\u001b[1;34m(cls, expr, v, count)\u001b[0m\n\u001b[0;32m   1897\u001b[0m \u001b[38;5;129m@classmethod\u001b[39m\n\u001b[0;32m   1898\u001b[0m \u001b[38;5;28;01mdef\u001b[39;00m \u001b[38;5;21m_dispatch_eval_derivative_n_times\u001b[39m(\u001b[38;5;28mcls\u001b[39m, expr, v, count):\n\u001b[0;32m   1899\u001b[0m     \u001b[38;5;66;03m# Evaluate the derivative `n` times.  If\u001b[39;00m\n\u001b[0;32m   1900\u001b[0m     \u001b[38;5;66;03m# `_eval_derivative_n_times` is not overridden by the current\u001b[39;00m\n\u001b[0;32m   1901\u001b[0m     \u001b[38;5;66;03m# object, the default in `Basic` will call a loop over\u001b[39;00m\n\u001b[0;32m   1902\u001b[0m     \u001b[38;5;66;03m# `_eval_derivative`:\u001b[39;00m\n\u001b[1;32m-> 1903\u001b[0m     \u001b[38;5;28;01mreturn\u001b[39;00m \u001b[43mexpr\u001b[49m\u001b[38;5;241;43m.\u001b[39;49m\u001b[43m_eval_derivative_n_times\u001b[49m\u001b[43m(\u001b[49m\u001b[43mv\u001b[49m\u001b[43m,\u001b[49m\u001b[43m \u001b[49m\u001b[43mcount\u001b[49m\u001b[43m)\u001b[49m\n",
      "File \u001b[1;32m~\\anaconda3\\lib\\site-packages\\sympy\\core\\basic.py:1785\u001b[0m, in \u001b[0;36mBasic._eval_derivative_n_times\u001b[1;34m(self, s, n)\u001b[0m\n\u001b[0;32m   1783\u001b[0m obj \u001b[38;5;241m=\u001b[39m \u001b[38;5;28mself\u001b[39m\n\u001b[0;32m   1784\u001b[0m \u001b[38;5;28;01mfor\u001b[39;00m i \u001b[38;5;129;01min\u001b[39;00m \u001b[38;5;28mrange\u001b[39m(n):\n\u001b[1;32m-> 1785\u001b[0m     obj2 \u001b[38;5;241m=\u001b[39m \u001b[43mobj\u001b[49m\u001b[38;5;241;43m.\u001b[39;49m\u001b[43m_eval_derivative\u001b[49m\u001b[43m(\u001b[49m\u001b[43ms\u001b[49m\u001b[43m)\u001b[49m\n\u001b[0;32m   1786\u001b[0m     \u001b[38;5;28;01mif\u001b[39;00m obj \u001b[38;5;241m==\u001b[39m obj2 \u001b[38;5;129;01mor\u001b[39;00m obj2 \u001b[38;5;129;01mis\u001b[39;00m \u001b[38;5;28;01mNone\u001b[39;00m:\n\u001b[0;32m   1787\u001b[0m         \u001b[38;5;28;01mbreak\u001b[39;00m\n",
      "File \u001b[1;32m~\\anaconda3\\lib\\site-packages\\sympy\\core\\cache.py:70\u001b[0m, in \u001b[0;36m__cacheit.<locals>.func_wrapper.<locals>.wrapper\u001b[1;34m(*args, **kwargs)\u001b[0m\n\u001b[0;32m     67\u001b[0m \u001b[38;5;129m@wraps\u001b[39m(func)\n\u001b[0;32m     68\u001b[0m \u001b[38;5;28;01mdef\u001b[39;00m \u001b[38;5;21mwrapper\u001b[39m(\u001b[38;5;241m*\u001b[39margs, \u001b[38;5;241m*\u001b[39m\u001b[38;5;241m*\u001b[39mkwargs):\n\u001b[0;32m     69\u001b[0m     \u001b[38;5;28;01mtry\u001b[39;00m:\n\u001b[1;32m---> 70\u001b[0m         retval \u001b[38;5;241m=\u001b[39m cfunc(\u001b[38;5;241m*\u001b[39margs, \u001b[38;5;241m*\u001b[39m\u001b[38;5;241m*\u001b[39mkwargs)\n\u001b[0;32m     71\u001b[0m     \u001b[38;5;28;01mexcept\u001b[39;00m \u001b[38;5;167;01mTypeError\u001b[39;00m \u001b[38;5;28;01mas\u001b[39;00m e:\n\u001b[0;32m     72\u001b[0m         \u001b[38;5;28;01mif\u001b[39;00m \u001b[38;5;129;01mnot\u001b[39;00m e\u001b[38;5;241m.\u001b[39margs \u001b[38;5;129;01mor\u001b[39;00m \u001b[38;5;129;01mnot\u001b[39;00m e\u001b[38;5;241m.\u001b[39margs[\u001b[38;5;241m0\u001b[39m]\u001b[38;5;241m.\u001b[39mstartswith(\u001b[38;5;124m'\u001b[39m\u001b[38;5;124munhashable type:\u001b[39m\u001b[38;5;124m'\u001b[39m):\n",
      "File \u001b[1;32m~\\anaconda3\\lib\\site-packages\\sympy\\core\\add.py:508\u001b[0m, in \u001b[0;36mAdd._eval_derivative\u001b[1;34m(self, s)\u001b[0m\n\u001b[0;32m    506\u001b[0m \u001b[38;5;129m@cacheit\u001b[39m\n\u001b[0;32m    507\u001b[0m \u001b[38;5;28;01mdef\u001b[39;00m \u001b[38;5;21m_eval_derivative\u001b[39m(\u001b[38;5;28mself\u001b[39m, s):\n\u001b[1;32m--> 508\u001b[0m     \u001b[38;5;28;01mreturn\u001b[39;00m \u001b[38;5;28mself\u001b[39m\u001b[38;5;241m.\u001b[39mfunc(\u001b[38;5;241m*\u001b[39m[a\u001b[38;5;241m.\u001b[39mdiff(s) \u001b[38;5;28;01mfor\u001b[39;00m a \u001b[38;5;129;01min\u001b[39;00m \u001b[38;5;28mself\u001b[39m\u001b[38;5;241m.\u001b[39margs])\n",
      "File \u001b[1;32m~\\anaconda3\\lib\\site-packages\\sympy\\core\\add.py:508\u001b[0m, in \u001b[0;36m<listcomp>\u001b[1;34m(.0)\u001b[0m\n\u001b[0;32m    506\u001b[0m \u001b[38;5;129m@cacheit\u001b[39m\n\u001b[0;32m    507\u001b[0m \u001b[38;5;28;01mdef\u001b[39;00m \u001b[38;5;21m_eval_derivative\u001b[39m(\u001b[38;5;28mself\u001b[39m, s):\n\u001b[1;32m--> 508\u001b[0m     \u001b[38;5;28;01mreturn\u001b[39;00m \u001b[38;5;28mself\u001b[39m\u001b[38;5;241m.\u001b[39mfunc(\u001b[38;5;241m*\u001b[39m[\u001b[43ma\u001b[49m\u001b[38;5;241;43m.\u001b[39;49m\u001b[43mdiff\u001b[49m\u001b[43m(\u001b[49m\u001b[43ms\u001b[49m\u001b[43m)\u001b[49m \u001b[38;5;28;01mfor\u001b[39;00m a \u001b[38;5;129;01min\u001b[39;00m \u001b[38;5;28mself\u001b[39m\u001b[38;5;241m.\u001b[39margs])\n",
      "File \u001b[1;32m~\\anaconda3\\lib\\site-packages\\sympy\\core\\expr.py:3555\u001b[0m, in \u001b[0;36mExpr.diff\u001b[1;34m(self, *symbols, **assumptions)\u001b[0m\n\u001b[0;32m   3553\u001b[0m \u001b[38;5;28;01mdef\u001b[39;00m \u001b[38;5;21mdiff\u001b[39m(\u001b[38;5;28mself\u001b[39m, \u001b[38;5;241m*\u001b[39msymbols, \u001b[38;5;241m*\u001b[39m\u001b[38;5;241m*\u001b[39massumptions):\n\u001b[0;32m   3554\u001b[0m     assumptions\u001b[38;5;241m.\u001b[39msetdefault(\u001b[38;5;124m\"\u001b[39m\u001b[38;5;124mevaluate\u001b[39m\u001b[38;5;124m\"\u001b[39m, \u001b[38;5;28;01mTrue\u001b[39;00m)\n\u001b[1;32m-> 3555\u001b[0m     \u001b[38;5;28;01mreturn\u001b[39;00m _derivative_dispatch(\u001b[38;5;28mself\u001b[39m, \u001b[38;5;241m*\u001b[39msymbols, \u001b[38;5;241m*\u001b[39m\u001b[38;5;241m*\u001b[39massumptions)\n",
      "File \u001b[1;32m~\\anaconda3\\lib\\site-packages\\sympy\\core\\function.py:1914\u001b[0m, in \u001b[0;36m_derivative_dispatch\u001b[1;34m(expr, *variables, **kwargs)\u001b[0m\n\u001b[0;32m   1912\u001b[0m     \u001b[38;5;28;01mfrom\u001b[39;00m \u001b[38;5;21;01msympy\u001b[39;00m\u001b[38;5;21;01m.\u001b[39;00m\u001b[38;5;21;01mtensor\u001b[39;00m\u001b[38;5;21;01m.\u001b[39;00m\u001b[38;5;21;01marray\u001b[39;00m\u001b[38;5;21;01m.\u001b[39;00m\u001b[38;5;21;01marray_derivatives\u001b[39;00m \u001b[38;5;28;01mimport\u001b[39;00m ArrayDerivative\n\u001b[0;32m   1913\u001b[0m     \u001b[38;5;28;01mreturn\u001b[39;00m ArrayDerivative(expr, \u001b[38;5;241m*\u001b[39mvariables, \u001b[38;5;241m*\u001b[39m\u001b[38;5;241m*\u001b[39mkwargs)\n\u001b[1;32m-> 1914\u001b[0m \u001b[38;5;28;01mreturn\u001b[39;00m Derivative(expr, \u001b[38;5;241m*\u001b[39mvariables, \u001b[38;5;241m*\u001b[39m\u001b[38;5;241m*\u001b[39mkwargs)\n",
      "File \u001b[1;32m~\\anaconda3\\lib\\site-packages\\sympy\\core\\function.py:1442\u001b[0m, in \u001b[0;36mDerivative.__new__\u001b[1;34m(cls, expr, *variables, **kwargs)\u001b[0m\n\u001b[0;32m   1435\u001b[0m     \u001b[38;5;28;01mif\u001b[39;00m \u001b[38;5;129;01mnot\u001b[39;00m old_v\u001b[38;5;241m.\u001b[39mis_scalar \u001b[38;5;129;01mand\u001b[39;00m \u001b[38;5;129;01mnot\u001b[39;00m \u001b[38;5;28mhasattr\u001b[39m(\n\u001b[0;32m   1436\u001b[0m             old_v, \u001b[38;5;124m'\u001b[39m\u001b[38;5;124m_eval_derivative\u001b[39m\u001b[38;5;124m'\u001b[39m):\n\u001b[0;32m   1437\u001b[0m         \u001b[38;5;66;03m# special hack providing evaluation for classes\u001b[39;00m\n\u001b[0;32m   1438\u001b[0m         \u001b[38;5;66;03m# that have defined is_scalar=True but have no\u001b[39;00m\n\u001b[0;32m   1439\u001b[0m         \u001b[38;5;66;03m# _eval_derivative defined\u001b[39;00m\n\u001b[0;32m   1440\u001b[0m         expr \u001b[38;5;241m*\u001b[39m\u001b[38;5;241m=\u001b[39m old_v\u001b[38;5;241m.\u001b[39mdiff(old_v)\n\u001b[1;32m-> 1442\u001b[0m obj \u001b[38;5;241m=\u001b[39m \u001b[38;5;28;43mcls\u001b[39;49m\u001b[38;5;241;43m.\u001b[39;49m\u001b[43m_dispatch_eval_derivative_n_times\u001b[49m\u001b[43m(\u001b[49m\u001b[43mexpr\u001b[49m\u001b[43m,\u001b[49m\u001b[43m \u001b[49m\u001b[43mv\u001b[49m\u001b[43m,\u001b[49m\u001b[43m \u001b[49m\u001b[43mcount\u001b[49m\u001b[43m)\u001b[49m\n\u001b[0;32m   1443\u001b[0m \u001b[38;5;28;01mif\u001b[39;00m obj \u001b[38;5;129;01mis\u001b[39;00m \u001b[38;5;129;01mnot\u001b[39;00m \u001b[38;5;28;01mNone\u001b[39;00m \u001b[38;5;129;01mand\u001b[39;00m obj\u001b[38;5;241m.\u001b[39mis_zero:\n\u001b[0;32m   1444\u001b[0m     \u001b[38;5;28;01mreturn\u001b[39;00m obj\n",
      "File \u001b[1;32m~\\anaconda3\\lib\\site-packages\\sympy\\core\\function.py:1903\u001b[0m, in \u001b[0;36mDerivative._dispatch_eval_derivative_n_times\u001b[1;34m(cls, expr, v, count)\u001b[0m\n\u001b[0;32m   1897\u001b[0m \u001b[38;5;129m@classmethod\u001b[39m\n\u001b[0;32m   1898\u001b[0m \u001b[38;5;28;01mdef\u001b[39;00m \u001b[38;5;21m_dispatch_eval_derivative_n_times\u001b[39m(\u001b[38;5;28mcls\u001b[39m, expr, v, count):\n\u001b[0;32m   1899\u001b[0m     \u001b[38;5;66;03m# Evaluate the derivative `n` times.  If\u001b[39;00m\n\u001b[0;32m   1900\u001b[0m     \u001b[38;5;66;03m# `_eval_derivative_n_times` is not overridden by the current\u001b[39;00m\n\u001b[0;32m   1901\u001b[0m     \u001b[38;5;66;03m# object, the default in `Basic` will call a loop over\u001b[39;00m\n\u001b[0;32m   1902\u001b[0m     \u001b[38;5;66;03m# `_eval_derivative`:\u001b[39;00m\n\u001b[1;32m-> 1903\u001b[0m     \u001b[38;5;28;01mreturn\u001b[39;00m \u001b[43mexpr\u001b[49m\u001b[38;5;241;43m.\u001b[39;49m\u001b[43m_eval_derivative_n_times\u001b[49m\u001b[43m(\u001b[49m\u001b[43mv\u001b[49m\u001b[43m,\u001b[49m\u001b[43m \u001b[49m\u001b[43mcount\u001b[49m\u001b[43m)\u001b[49m\n",
      "File \u001b[1;32m~\\anaconda3\\lib\\site-packages\\sympy\\core\\basic.py:1785\u001b[0m, in \u001b[0;36mBasic._eval_derivative_n_times\u001b[1;34m(self, s, n)\u001b[0m\n\u001b[0;32m   1783\u001b[0m obj \u001b[38;5;241m=\u001b[39m \u001b[38;5;28mself\u001b[39m\n\u001b[0;32m   1784\u001b[0m \u001b[38;5;28;01mfor\u001b[39;00m i \u001b[38;5;129;01min\u001b[39;00m \u001b[38;5;28mrange\u001b[39m(n):\n\u001b[1;32m-> 1785\u001b[0m     obj2 \u001b[38;5;241m=\u001b[39m \u001b[43mobj\u001b[49m\u001b[38;5;241;43m.\u001b[39;49m\u001b[43m_eval_derivative\u001b[49m\u001b[43m(\u001b[49m\u001b[43ms\u001b[49m\u001b[43m)\u001b[49m\n\u001b[0;32m   1786\u001b[0m     \u001b[38;5;28;01mif\u001b[39;00m obj \u001b[38;5;241m==\u001b[39m obj2 \u001b[38;5;129;01mor\u001b[39;00m obj2 \u001b[38;5;129;01mis\u001b[39;00m \u001b[38;5;28;01mNone\u001b[39;00m:\n\u001b[0;32m   1787\u001b[0m         \u001b[38;5;28;01mbreak\u001b[39;00m\n",
      "File \u001b[1;32m~\\anaconda3\\lib\\site-packages\\sympy\\matrices\\expressions\\trace.py:56\u001b[0m, in \u001b[0;36mTrace._eval_derivative\u001b[1;34m(self, v)\u001b[0m\n\u001b[0;32m     53\u001b[0m expr \u001b[38;5;241m=\u001b[39m \u001b[38;5;28mself\u001b[39m\u001b[38;5;241m.\u001b[39mdoit()\n\u001b[0;32m     54\u001b[0m \u001b[38;5;28;01mif\u001b[39;00m \u001b[38;5;28misinstance\u001b[39m(expr, Trace):\n\u001b[0;32m     55\u001b[0m     \u001b[38;5;66;03m# Avoid looping infinitely:\u001b[39;00m\n\u001b[1;32m---> 56\u001b[0m     \u001b[38;5;28;01mraise\u001b[39;00m \u001b[38;5;167;01mNotImplementedError\u001b[39;00m\n\u001b[0;32m     57\u001b[0m \u001b[38;5;28;01mreturn\u001b[39;00m expr\u001b[38;5;241m.\u001b[39m_eval_derivative(v)\n",
      "\u001b[1;31mNotImplementedError\u001b[0m: "
     ]
    }
   ],
   "source": [
    "Fsum3.diff(sp.re(Z[\"43\"][0]))"
   ]
  },
  {
   "cell_type": "code",
   "execution_count": 310,
   "id": "b939e299",
   "metadata": {},
   "outputs": [
    {
     "data": {
      "text/latex": [
       "$\\displaystyle 0$"
      ],
      "text/plain": [
       "0"
      ]
     },
     "execution_count": 310,
     "metadata": {},
     "output_type": "execute_result"
    }
   ],
   "source": [
    "Fsum3.diff(X[\"43\"])"
   ]
  },
  {
   "cell_type": "code",
   "execution_count": 300,
   "id": "287aa889",
   "metadata": {},
   "outputs": [
    {
     "data": {
      "text/latex": [
       "$\\displaystyle  + \\left(P^{12} P^{21} - Q^{12} Q^{21} + \\frac{\\operatorname{re}{\\left(c^{12}\\right)}}{g^{2}}\\right)^{2} + \\left(P^{12} P^{21} - Q^{12} Q^{21} + \\frac{\\operatorname{re}{\\left(c^{21}\\right)}}{g^{2}}\\right)^{2} + \\left(P^{12} Q^{21} + P^{21} Q^{12} + \\frac{\\operatorname{im}{\\left(c^{12}\\right)}}{g^{2}}\\right)^{2} + \\left(P^{12} Q^{21} + P^{21} Q^{12} + \\frac{\\operatorname{im}{\\left(c^{21}\\right)}}{g^{2}}\\right)^{2} + \\left(P^{13} P^{31} - Q^{13} Q^{31} + \\frac{\\operatorname{re}{\\left(c^{13}\\right)}}{g^{2}}\\right)^{2} + \\left(P^{13} P^{31} - Q^{13} Q^{31} + \\frac{\\operatorname{re}{\\left(c^{31}\\right)}}{g^{2}}\\right)^{2} + \\left(P^{13} Q^{31} + P^{31} Q^{13} + \\frac{\\operatorname{im}{\\left(c^{13}\\right)}}{g^{2}}\\right)^{2} + \\left(P^{13} Q^{31} + P^{31} Q^{13} + \\frac{\\operatorname{im}{\\left(c^{31}\\right)}}{g^{2}}\\right)^{2} + \\left(P^{23} P^{32} - Q^{23} Q^{32} + \\frac{\\operatorname{re}{\\left(c^{23}\\right)}}{g^{2}}\\right)^{2} + \\left(P^{23} P^{32} - Q^{23} Q^{32} + \\frac{\\operatorname{re}{\\left(c^{32}\\right)}}{g^{2}}\\right)^{2} + \\left(P^{23} Q^{32} + P^{32} Q^{23} + \\frac{\\operatorname{im}{\\left(c^{23}\\right)}}{g^{2}}\\right)^{2} + \\left(P^{23} Q^{32} + P^{32} Q^{23} + \\frac{\\operatorname{im}{\\left(c^{32}\\right)}}{g^{2}}\\right)^{2}$"
      ],
      "text/plain": [
       " + (P^{12}*P^{21} - Q^{12}*Q^{21} + re(c^{12})/g**2)**2 + (P^{12}*P^{21} - Q^{12}*Q^{21} + re(c^{21})/g**2)**2 + (P^{12}*Q^{21} + P^{21}*Q^{12} + im(c^{12})/g**2)**2 + (P^{12}*Q^{21} + P^{21}*Q^{12} + im(c^{21})/g**2)**2 + (P^{13}*P^{31} - Q^{13}*Q^{31} + re(c^{13})/g**2)**2 + (P^{13}*P^{31} - Q^{13}*Q^{31} + re(c^{31})/g**2)**2 + (P^{13}*Q^{31} + P^{31}*Q^{13} + im(c^{13})/g**2)**2 + (P^{13}*Q^{31} + P^{31}*Q^{13} + im(c^{31})/g**2)**2 + (P^{23}*P^{32} - Q^{23}*Q^{32} + re(c^{23})/g**2)**2 + (P^{23}*P^{32} - Q^{23}*Q^{32} + re(c^{32})/g**2)**2 + (P^{23}*Q^{32} + P^{32}*Q^{23} + im(c^{23})/g**2)**2 + (P^{23}*Q^{32} + P^{32}*Q^{23} + im(c^{32})/g**2)**2"
      ]
     },
     "execution_count": 300,
     "metadata": {},
     "output_type": "execute_result"
    }
   ],
   "source": [
    "Fsum1"
   ]
  },
  {
   "cell_type": "code",
   "execution_count": 297,
   "id": "15674683",
   "metadata": {
    "scrolled": true
   },
   "outputs": [
    {
     "data": {
      "text/latex": [
       "$\\displaystyle \\left[\\begin{matrix}4 P^{14}_1 \\left(P^{14}_1 P^{41}_1 + P^{14}_2 P^{41}_2 + P^{14}_3 P^{41}_3 - Q^{14}_1 Q^{41}_1 - Q^{14}_2 Q^{41}_2 - Q^{14}_3 Q^{41}_3 + \\frac{3 \\operatorname{re}{\\left(c^{14}\\right)}}{g^{2}}\\right) + 4 P^{14}_1 \\left(P^{14}_1 P^{41}_1 - Q^{14}_1 Q^{41}_1 + \\frac{\\operatorname{re}{\\left(X^{4}_6_{0, 1} X^{4}_8_{1, 0}\\right)}}{2} + \\frac{\\operatorname{re}{\\left(X^{4}_6_{0, 2} X^{4}_8_{2, 0}\\right)}}{2} - \\frac{\\operatorname{re}{\\left(X^{4}_6_{1, 0} X^{4}_8_{0, 1}\\right)}}{2} - \\frac{\\operatorname{re}{\\left(X^{4}_6_{2, 0} X^{4}_8_{0, 2}\\right)}}{2} - \\frac{\\operatorname{re}{\\left(X^{4}_7_{0, 1} X^{4}_9_{1, 0}\\right)}}{2} - \\frac{\\operatorname{re}{\\left(X^{4}_7_{0, 2} X^{4}_9_{2, 0}\\right)}}{2} + \\frac{\\operatorname{re}{\\left(X^{4}_7_{1, 0} X^{4}_9_{0, 1}\\right)}}{2} + \\frac{\\operatorname{re}{\\left(X^{4}_7_{2, 0} X^{4}_9_{0, 2}\\right)}}{2} - \\frac{\\operatorname{im}{\\left(X^{4}_6_{0, 1} X^{4}_9_{1, 0}\\right)}}{2} - \\frac{\\operatorname{im}{\\left(X^{4}_6_{0, 2} X^{4}_9_{2, 0}\\right)}}{2} + \\frac{\\operatorname{im}{\\left(X^{4}_6_{1, 0} X^{4}_9_{0, 1}\\right)}}{2} + \\frac{\\operatorname{im}{\\left(X^{4}_6_{2, 0} X^{4}_9_{0, 2}\\right)}}{2} - \\frac{\\operatorname{im}{\\left(X^{4}_7_{0, 1} X^{4}_8_{1, 0}\\right)}}{2} - \\frac{\\operatorname{im}{\\left(X^{4}_7_{0, 2} X^{4}_8_{2, 0}\\right)}}{2} + \\frac{\\operatorname{im}{\\left(X^{4}_7_{1, 0} X^{4}_8_{0, 1}\\right)}}{2} + \\frac{\\operatorname{im}{\\left(X^{4}_7_{2, 0} X^{4}_8_{0, 2}\\right)}}{2} + \\frac{\\operatorname{re}{\\left(c^{41}\\right)}}{g^{2}}\\right) + 4 P^{14}_2 \\left(P^{14}_2 P^{41}_1 - Q^{14}_2 Q^{41}_1 + \\frac{\\operatorname{re}{\\left(X^{4}_6_{0, 0} X^{4}_8_{0, 1}\\right)}}{2} - \\frac{\\operatorname{re}{\\left(X^{4}_6_{0, 1} X^{4}_8_{0, 0}\\right)}}{2} + \\frac{\\operatorname{re}{\\left(X^{4}_6_{0, 1} X^{4}_8_{1, 1}\\right)}}{2} + \\frac{\\operatorname{re}{\\left(X^{4}_6_{0, 2} X^{4}_8_{2, 1}\\right)}}{2} - \\frac{\\operatorname{re}{\\left(X^{4}_6_{1, 1} X^{4}_8_{0, 1}\\right)}}{2} - \\frac{\\operatorname{re}{\\left(X^{4}_6_{2, 1} X^{4}_8_{0, 2}\\right)}}{2} - \\frac{\\operatorname{re}{\\left(X^{4}_7_{0, 0} X^{4}_9_{0, 1}\\right)}}{2} + \\frac{\\operatorname{re}{\\left(X^{4}_7_{0, 1} X^{4}_9_{0, 0}\\right)}}{2} - \\frac{\\operatorname{re}{\\left(X^{4}_7_{0, 1} X^{4}_9_{1, 1}\\right)}}{2} - \\frac{\\operatorname{re}{\\left(X^{4}_7_{0, 2} X^{4}_9_{2, 1}\\right)}}{2} + \\frac{\\operatorname{re}{\\left(X^{4}_7_{1, 1} X^{4}_9_{0, 1}\\right)}}{2} + \\frac{\\operatorname{re}{\\left(X^{4}_7_{2, 1} X^{4}_9_{0, 2}\\right)}}{2} - \\frac{\\operatorname{im}{\\left(X^{4}_6_{0, 0} X^{4}_9_{0, 1}\\right)}}{2} + \\frac{\\operatorname{im}{\\left(X^{4}_6_{0, 1} X^{4}_9_{0, 0}\\right)}}{2} - \\frac{\\operatorname{im}{\\left(X^{4}_6_{0, 1} X^{4}_9_{1, 1}\\right)}}{2} - \\frac{\\operatorname{im}{\\left(X^{4}_6_{0, 2} X^{4}_9_{2, 1}\\right)}}{2} + \\frac{\\operatorname{im}{\\left(X^{4}_6_{1, 1} X^{4}_9_{0, 1}\\right)}}{2} + \\frac{\\operatorname{im}{\\left(X^{4}_6_{2, 1} X^{4}_9_{0, 2}\\right)}}{2} - \\frac{\\operatorname{im}{\\left(X^{4}_7_{0, 0} X^{4}_8_{0, 1}\\right)}}{2} + \\frac{\\operatorname{im}{\\left(X^{4}_7_{0, 1} X^{4}_8_{0, 0}\\right)}}{2} - \\frac{\\operatorname{im}{\\left(X^{4}_7_{0, 1} X^{4}_8_{1, 1}\\right)}}{2} - \\frac{\\operatorname{im}{\\left(X^{4}_7_{0, 2} X^{4}_8_{2, 1}\\right)}}{2} + \\frac{\\operatorname{im}{\\left(X^{4}_7_{1, 1} X^{4}_8_{0, 1}\\right)}}{2} + \\frac{\\operatorname{im}{\\left(X^{4}_7_{2, 1} X^{4}_8_{0, 2}\\right)}}{2}\\right) + 4 P^{14}_3 \\left(P^{14}_3 P^{41}_1 - Q^{14}_3 Q^{41}_1 + \\frac{\\operatorname{re}{\\left(X^{4}_6_{0, 0} X^{4}_8_{0, 2}\\right)}}{2} + \\frac{\\operatorname{re}{\\left(X^{4}_6_{0, 1} X^{4}_8_{1, 2}\\right)}}{2} - \\frac{\\operatorname{re}{\\left(X^{4}_6_{0, 2} X^{4}_8_{0, 0}\\right)}}{2} + \\frac{\\operatorname{re}{\\left(X^{4}_6_{0, 2} X^{4}_8_{2, 2}\\right)}}{2} - \\frac{\\operatorname{re}{\\left(X^{4}_6_{1, 2} X^{4}_8_{0, 1}\\right)}}{2} - \\frac{\\operatorname{re}{\\left(X^{4}_6_{2, 2} X^{4}_8_{0, 2}\\right)}}{2} - \\frac{\\operatorname{re}{\\left(X^{4}_7_{0, 0} X^{4}_9_{0, 2}\\right)}}{2} - \\frac{\\operatorname{re}{\\left(X^{4}_7_{0, 1} X^{4}_9_{1, 2}\\right)}}{2} + \\frac{\\operatorname{re}{\\left(X^{4}_7_{0, 2} X^{4}_9_{0, 0}\\right)}}{2} - \\frac{\\operatorname{re}{\\left(X^{4}_7_{0, 2} X^{4}_9_{2, 2}\\right)}}{2} + \\frac{\\operatorname{re}{\\left(X^{4}_7_{1, 2} X^{4}_9_{0, 1}\\right)}}{2} + \\frac{\\operatorname{re}{\\left(X^{4}_7_{2, 2} X^{4}_9_{0, 2}\\right)}}{2} - \\frac{\\operatorname{im}{\\left(X^{4}_6_{0, 0} X^{4}_9_{0, 2}\\right)}}{2} - \\frac{\\operatorname{im}{\\left(X^{4}_6_{0, 1} X^{4}_9_{1, 2}\\right)}}{2} + \\frac{\\operatorname{im}{\\left(X^{4}_6_{0, 2} X^{4}_9_{0, 0}\\right)}}{2} - \\frac{\\operatorname{im}{\\left(X^{4}_6_{0, 2} X^{4}_9_{2, 2}\\right)}}{2} + \\frac{\\operatorname{im}{\\left(X^{4}_6_{1, 2} X^{4}_9_{0, 1}\\right)}}{2} + \\frac{\\operatorname{im}{\\left(X^{4}_6_{2, 2} X^{4}_9_{0, 2}\\right)}}{2} - \\frac{\\operatorname{im}{\\left(X^{4}_7_{0, 0} X^{4}_8_{0, 2}\\right)}}{2} - \\frac{\\operatorname{im}{\\left(X^{4}_7_{0, 1} X^{4}_8_{1, 2}\\right)}}{2} + \\frac{\\operatorname{im}{\\left(X^{4}_7_{0, 2} X^{4}_8_{0, 0}\\right)}}{2} - \\frac{\\operatorname{im}{\\left(X^{4}_7_{0, 2} X^{4}_8_{2, 2}\\right)}}{2} + \\frac{\\operatorname{im}{\\left(X^{4}_7_{1, 2} X^{4}_8_{0, 1}\\right)}}{2} + \\frac{\\operatorname{im}{\\left(X^{4}_7_{2, 2} X^{4}_8_{0, 2}\\right)}}{2}\\right) + 4 Q^{14}_1 \\left(P^{14}_1 Q^{41}_1 + P^{14}_2 Q^{41}_2 + P^{14}_3 Q^{41}_3 + P^{41}_1 Q^{14}_1 + P^{41}_2 Q^{14}_2 + P^{41}_3 Q^{14}_3 + \\frac{3 \\operatorname{im}{\\left(c^{14}\\right)}}{g^{2}}\\right) + 4 Q^{14}_1 \\left(P^{14}_1 Q^{41}_1 + P^{41}_1 Q^{14}_1 + \\frac{\\operatorname{re}{\\left(X^{4}_6_{0, 1} X^{4}_9_{1, 0}\\right)}}{2} + \\frac{\\operatorname{re}{\\left(X^{4}_6_{0, 2} X^{4}_9_{2, 0}\\right)}}{2} - \\frac{\\operatorname{re}{\\left(X^{4}_6_{1, 0} X^{4}_9_{0, 1}\\right)}}{2} - \\frac{\\operatorname{re}{\\left(X^{4}_6_{2, 0} X^{4}_9_{0, 2}\\right)}}{2} + \\frac{\\operatorname{re}{\\left(X^{4}_7_{0, 1} X^{4}_8_{1, 0}\\right)}}{2} + \\frac{\\operatorname{re}{\\left(X^{4}_7_{0, 2} X^{4}_8_{2, 0}\\right)}}{2} - \\frac{\\operatorname{re}{\\left(X^{4}_7_{1, 0} X^{4}_8_{0, 1}\\right)}}{2} - \\frac{\\operatorname{re}{\\left(X^{4}_7_{2, 0} X^{4}_8_{0, 2}\\right)}}{2} + \\frac{\\operatorname{im}{\\left(X^{4}_6_{0, 1} X^{4}_8_{1, 0}\\right)}}{2} + \\frac{\\operatorname{im}{\\left(X^{4}_6_{0, 2} X^{4}_8_{2, 0}\\right)}}{2} - \\frac{\\operatorname{im}{\\left(X^{4}_6_{1, 0} X^{4}_8_{0, 1}\\right)}}{2} - \\frac{\\operatorname{im}{\\left(X^{4}_6_{2, 0} X^{4}_8_{0, 2}\\right)}}{2} - \\frac{\\operatorname{im}{\\left(X^{4}_7_{0, 1} X^{4}_9_{1, 0}\\right)}}{2} - \\frac{\\operatorname{im}{\\left(X^{4}_7_{0, 2} X^{4}_9_{2, 0}\\right)}}{2} + \\frac{\\operatorname{im}{\\left(X^{4}_7_{1, 0} X^{4}_9_{0, 1}\\right)}}{2} + \\frac{\\operatorname{im}{\\left(X^{4}_7_{2, 0} X^{4}_9_{0, 2}\\right)}}{2} + \\frac{\\operatorname{im}{\\left(c^{41}\\right)}}{g^{2}}\\right) + 4 Q^{14}_2 \\left(P^{14}_2 Q^{41}_1 + P^{41}_1 Q^{14}_2 + \\frac{\\operatorname{re}{\\left(X^{4}_6_{0, 0} X^{4}_9_{0, 1}\\right)}}{2} - \\frac{\\operatorname{re}{\\left(X^{4}_6_{0, 1} X^{4}_9_{0, 0}\\right)}}{2} + \\frac{\\operatorname{re}{\\left(X^{4}_6_{0, 1} X^{4}_9_{1, 1}\\right)}}{2} + \\frac{\\operatorname{re}{\\left(X^{4}_6_{0, 2} X^{4}_9_{2, 1}\\right)}}{2} - \\frac{\\operatorname{re}{\\left(X^{4}_6_{1, 1} X^{4}_9_{0, 1}\\right)}}{2} - \\frac{\\operatorname{re}{\\left(X^{4}_6_{2, 1} X^{4}_9_{0, 2}\\right)}}{2} + \\frac{\\operatorname{re}{\\left(X^{4}_7_{0, 0} X^{4}_8_{0, 1}\\right)}}{2} - \\frac{\\operatorname{re}{\\left(X^{4}_7_{0, 1} X^{4}_8_{0, 0}\\right)}}{2} + \\frac{\\operatorname{re}{\\left(X^{4}_7_{0, 1} X^{4}_8_{1, 1}\\right)}}{2} + \\frac{\\operatorname{re}{\\left(X^{4}_7_{0, 2} X^{4}_8_{2, 1}\\right)}}{2} - \\frac{\\operatorname{re}{\\left(X^{4}_7_{1, 1} X^{4}_8_{0, 1}\\right)}}{2} - \\frac{\\operatorname{re}{\\left(X^{4}_7_{2, 1} X^{4}_8_{0, 2}\\right)}}{2} + \\frac{\\operatorname{im}{\\left(X^{4}_6_{0, 0} X^{4}_8_{0, 1}\\right)}}{2} - \\frac{\\operatorname{im}{\\left(X^{4}_6_{0, 1} X^{4}_8_{0, 0}\\right)}}{2} + \\frac{\\operatorname{im}{\\left(X^{4}_6_{0, 1} X^{4}_8_{1, 1}\\right)}}{2} + \\frac{\\operatorname{im}{\\left(X^{4}_6_{0, 2} X^{4}_8_{2, 1}\\right)}}{2} - \\frac{\\operatorname{im}{\\left(X^{4}_6_{1, 1} X^{4}_8_{0, 1}\\right)}}{2} - \\frac{\\operatorname{im}{\\left(X^{4}_6_{2, 1} X^{4}_8_{0, 2}\\right)}}{2} - \\frac{\\operatorname{im}{\\left(X^{4}_7_{0, 0} X^{4}_9_{0, 1}\\right)}}{2} + \\frac{\\operatorname{im}{\\left(X^{4}_7_{0, 1} X^{4}_9_{0, 0}\\right)}}{2} - \\frac{\\operatorname{im}{\\left(X^{4}_7_{0, 1} X^{4}_9_{1, 1}\\right)}}{2} - \\frac{\\operatorname{im}{\\left(X^{4}_7_{0, 2} X^{4}_9_{2, 1}\\right)}}{2} + \\frac{\\operatorname{im}{\\left(X^{4}_7_{1, 1} X^{4}_9_{0, 1}\\right)}}{2} + \\frac{\\operatorname{im}{\\left(X^{4}_7_{2, 1} X^{4}_9_{0, 2}\\right)}}{2}\\right) + 4 Q^{14}_3 \\left(P^{14}_3 Q^{41}_1 + P^{41}_1 Q^{14}_3 + \\frac{\\operatorname{re}{\\left(X^{4}_6_{0, 0} X^{4}_9_{0, 2}\\right)}}{2} + \\frac{\\operatorname{re}{\\left(X^{4}_6_{0, 1} X^{4}_9_{1, 2}\\right)}}{2} - \\frac{\\operatorname{re}{\\left(X^{4}_6_{0, 2} X^{4}_9_{0, 0}\\right)}}{2} + \\frac{\\operatorname{re}{\\left(X^{4}_6_{0, 2} X^{4}_9_{2, 2}\\right)}}{2} - \\frac{\\operatorname{re}{\\left(X^{4}_6_{1, 2} X^{4}_9_{0, 1}\\right)}}{2} - \\frac{\\operatorname{re}{\\left(X^{4}_6_{2, 2} X^{4}_9_{0, 2}\\right)}}{2} + \\frac{\\operatorname{re}{\\left(X^{4}_7_{0, 0} X^{4}_8_{0, 2}\\right)}}{2} + \\frac{\\operatorname{re}{\\left(X^{4}_7_{0, 1} X^{4}_8_{1, 2}\\right)}}{2} - \\frac{\\operatorname{re}{\\left(X^{4}_7_{0, 2} X^{4}_8_{0, 0}\\right)}}{2} + \\frac{\\operatorname{re}{\\left(X^{4}_7_{0, 2} X^{4}_8_{2, 2}\\right)}}{2} - \\frac{\\operatorname{re}{\\left(X^{4}_7_{1, 2} X^{4}_8_{0, 1}\\right)}}{2} - \\frac{\\operatorname{re}{\\left(X^{4}_7_{2, 2} X^{4}_8_{0, 2}\\right)}}{2} + \\frac{\\operatorname{im}{\\left(X^{4}_6_{0, 0} X^{4}_8_{0, 2}\\right)}}{2} + \\frac{\\operatorname{im}{\\left(X^{4}_6_{0, 1} X^{4}_8_{1, 2}\\right)}}{2} - \\frac{\\operatorname{im}{\\left(X^{4}_6_{0, 2} X^{4}_8_{0, 0}\\right)}}{2} + \\frac{\\operatorname{im}{\\left(X^{4}_6_{0, 2} X^{4}_8_{2, 2}\\right)}}{2} - \\frac{\\operatorname{im}{\\left(X^{4}_6_{1, 2} X^{4}_8_{0, 1}\\right)}}{2} - \\frac{\\operatorname{im}{\\left(X^{4}_6_{2, 2} X^{4}_8_{0, 2}\\right)}}{2} - \\frac{\\operatorname{im}{\\left(X^{4}_7_{0, 0} X^{4}_9_{0, 2}\\right)}}{2} - \\frac{\\operatorname{im}{\\left(X^{4}_7_{0, 1} X^{4}_9_{1, 2}\\right)}}{2} + \\frac{\\operatorname{im}{\\left(X^{4}_7_{0, 2} X^{4}_9_{0, 0}\\right)}}{2} - \\frac{\\operatorname{im}{\\left(X^{4}_7_{0, 2} X^{4}_9_{2, 2}\\right)}}{2} + \\frac{\\operatorname{im}{\\left(X^{4}_7_{1, 2} X^{4}_9_{0, 1}\\right)}}{2} + \\frac{\\operatorname{im}{\\left(X^{4}_7_{2, 2} X^{4}_9_{0, 2}\\right)}}{2}\\right)\\\\4 P^{14}_1 \\left(P^{14}_1 P^{41}_2 - Q^{14}_1 Q^{41}_2 - \\frac{\\operatorname{re}{\\left(X^{4}_6_{0, 0} X^{4}_8_{1, 0}\\right)}}{2} + \\frac{\\operatorname{re}{\\left(X^{4}_6_{1, 0} X^{4}_8_{0, 0}\\right)}}{2} - \\frac{\\operatorname{re}{\\left(X^{4}_6_{1, 0} X^{4}_8_{1, 1}\\right)}}{2} + \\frac{\\operatorname{re}{\\left(X^{4}_6_{1, 1} X^{4}_8_{1, 0}\\right)}}{2} + \\frac{\\operatorname{re}{\\left(X^{4}_6_{1, 2} X^{4}_8_{2, 0}\\right)}}{2} - \\frac{\\operatorname{re}{\\left(X^{4}_6_{2, 0} X^{4}_8_{1, 2}\\right)}}{2} + \\frac{\\operatorname{re}{\\left(X^{4}_7_{0, 0} X^{4}_9_{1, 0}\\right)}}{2} - \\frac{\\operatorname{re}{\\left(X^{4}_7_{1, 0} X^{4}_9_{0, 0}\\right)}}{2} + \\frac{\\operatorname{re}{\\left(X^{4}_7_{1, 0} X^{4}_9_{1, 1}\\right)}}{2} - \\frac{\\operatorname{re}{\\left(X^{4}_7_{1, 1} X^{4}_9_{1, 0}\\right)}}{2} - \\frac{\\operatorname{re}{\\left(X^{4}_7_{1, 2} X^{4}_9_{2, 0}\\right)}}{2} + \\frac{\\operatorname{re}{\\left(X^{4}_7_{2, 0} X^{4}_9_{1, 2}\\right)}}{2} + \\frac{\\operatorname{im}{\\left(X^{4}_6_{0, 0} X^{4}_9_{1, 0}\\right)}}{2} - \\frac{\\operatorname{im}{\\left(X^{4}_6_{1, 0} X^{4}_9_{0, 0}\\right)}}{2} + \\frac{\\operatorname{im}{\\left(X^{4}_6_{1, 0} X^{4}_9_{1, 1}\\right)}}{2} - \\frac{\\operatorname{im}{\\left(X^{4}_6_{1, 1} X^{4}_9_{1, 0}\\right)}}{2} - \\frac{\\operatorname{im}{\\left(X^{4}_6_{1, 2} X^{4}_9_{2, 0}\\right)}}{2} + \\frac{\\operatorname{im}{\\left(X^{4}_6_{2, 0} X^{4}_9_{1, 2}\\right)}}{2} + \\frac{\\operatorname{im}{\\left(X^{4}_7_{0, 0} X^{4}_8_{1, 0}\\right)}}{2} - \\frac{\\operatorname{im}{\\left(X^{4}_7_{1, 0} X^{4}_8_{0, 0}\\right)}}{2} + \\frac{\\operatorname{im}{\\left(X^{4}_7_{1, 0} X^{4}_8_{1, 1}\\right)}}{2} - \\frac{\\operatorname{im}{\\left(X^{4}_7_{1, 1} X^{4}_8_{1, 0}\\right)}}{2} - \\frac{\\operatorname{im}{\\left(X^{4}_7_{1, 2} X^{4}_8_{2, 0}\\right)}}{2} + \\frac{\\operatorname{im}{\\left(X^{4}_7_{2, 0} X^{4}_8_{1, 2}\\right)}}{2}\\right) + 4 P^{14}_2 \\left(P^{14}_1 P^{41}_1 + P^{14}_2 P^{41}_2 + P^{14}_3 P^{41}_3 - Q^{14}_1 Q^{41}_1 - Q^{14}_2 Q^{41}_2 - Q^{14}_3 Q^{41}_3 + \\frac{3 \\operatorname{re}{\\left(c^{14}\\right)}}{g^{2}}\\right) + 4 P^{14}_2 \\left(P^{14}_2 P^{41}_2 - Q^{14}_2 Q^{41}_2 - \\frac{\\operatorname{re}{\\left(X^{4}_6_{0, 1} X^{4}_8_{1, 0}\\right)}}{2} + \\frac{\\operatorname{re}{\\left(X^{4}_6_{1, 0} X^{4}_8_{0, 1}\\right)}}{2} + \\frac{\\operatorname{re}{\\left(X^{4}_6_{1, 2} X^{4}_8_{2, 1}\\right)}}{2} - \\frac{\\operatorname{re}{\\left(X^{4}_6_{2, 1} X^{4}_8_{1, 2}\\right)}}{2} + \\frac{\\operatorname{re}{\\left(X^{4}_7_{0, 1} X^{4}_9_{1, 0}\\right)}}{2} - \\frac{\\operatorname{re}{\\left(X^{4}_7_{1, 0} X^{4}_9_{0, 1}\\right)}}{2} - \\frac{\\operatorname{re}{\\left(X^{4}_7_{1, 2} X^{4}_9_{2, 1}\\right)}}{2} + \\frac{\\operatorname{re}{\\left(X^{4}_7_{2, 1} X^{4}_9_{1, 2}\\right)}}{2} + \\frac{\\operatorname{im}{\\left(X^{4}_6_{0, 1} X^{4}_9_{1, 0}\\right)}}{2} - \\frac{\\operatorname{im}{\\left(X^{4}_6_{1, 0} X^{4}_9_{0, 1}\\right)}}{2} - \\frac{\\operatorname{im}{\\left(X^{4}_6_{1, 2} X^{4}_9_{2, 1}\\right)}}{2} + \\frac{\\operatorname{im}{\\left(X^{4}_6_{2, 1} X^{4}_9_{1, 2}\\right)}}{2} + \\frac{\\operatorname{im}{\\left(X^{4}_7_{0, 1} X^{4}_8_{1, 0}\\right)}}{2} - \\frac{\\operatorname{im}{\\left(X^{4}_7_{1, 0} X^{4}_8_{0, 1}\\right)}}{2} - \\frac{\\operatorname{im}{\\left(X^{4}_7_{1, 2} X^{4}_8_{2, 1}\\right)}}{2} + \\frac{\\operatorname{im}{\\left(X^{4}_7_{2, 1} X^{4}_8_{1, 2}\\right)}}{2} + \\frac{\\operatorname{re}{\\left(c^{41}\\right)}}{g^{2}}\\right) + 4 P^{14}_3 \\left(P^{14}_3 P^{41}_2 - Q^{14}_3 Q^{41}_2 - \\frac{\\operatorname{re}{\\left(X^{4}_6_{0, 2} X^{4}_8_{1, 0}\\right)}}{2} + \\frac{\\operatorname{re}{\\left(X^{4}_6_{1, 0} X^{4}_8_{0, 2}\\right)}}{2} + \\frac{\\operatorname{re}{\\left(X^{4}_6_{1, 1} X^{4}_8_{1, 2}\\right)}}{2} - \\frac{\\operatorname{re}{\\left(X^{4}_6_{1, 2} X^{4}_8_{1, 1}\\right)}}{2} + \\frac{\\operatorname{re}{\\left(X^{4}_6_{1, 2} X^{4}_8_{2, 2}\\right)}}{2} - \\frac{\\operatorname{re}{\\left(X^{4}_6_{2, 2} X^{4}_8_{1, 2}\\right)}}{2} + \\frac{\\operatorname{re}{\\left(X^{4}_7_{0, 2} X^{4}_9_{1, 0}\\right)}}{2} - \\frac{\\operatorname{re}{\\left(X^{4}_7_{1, 0} X^{4}_9_{0, 2}\\right)}}{2} - \\frac{\\operatorname{re}{\\left(X^{4}_7_{1, 1} X^{4}_9_{1, 2}\\right)}}{2} + \\frac{\\operatorname{re}{\\left(X^{4}_7_{1, 2} X^{4}_9_{1, 1}\\right)}}{2} - \\frac{\\operatorname{re}{\\left(X^{4}_7_{1, 2} X^{4}_9_{2, 2}\\right)}}{2} + \\frac{\\operatorname{re}{\\left(X^{4}_7_{2, 2} X^{4}_9_{1, 2}\\right)}}{2} + \\frac{\\operatorname{im}{\\left(X^{4}_6_{0, 2} X^{4}_9_{1, 0}\\right)}}{2} - \\frac{\\operatorname{im}{\\left(X^{4}_6_{1, 0} X^{4}_9_{0, 2}\\right)}}{2} - \\frac{\\operatorname{im}{\\left(X^{4}_6_{1, 1} X^{4}_9_{1, 2}\\right)}}{2} + \\frac{\\operatorname{im}{\\left(X^{4}_6_{1, 2} X^{4}_9_{1, 1}\\right)}}{2} - \\frac{\\operatorname{im}{\\left(X^{4}_6_{1, 2} X^{4}_9_{2, 2}\\right)}}{2} + \\frac{\\operatorname{im}{\\left(X^{4}_6_{2, 2} X^{4}_9_{1, 2}\\right)}}{2} + \\frac{\\operatorname{im}{\\left(X^{4}_7_{0, 2} X^{4}_8_{1, 0}\\right)}}{2} - \\frac{\\operatorname{im}{\\left(X^{4}_7_{1, 0} X^{4}_8_{0, 2}\\right)}}{2} - \\frac{\\operatorname{im}{\\left(X^{4}_7_{1, 1} X^{4}_8_{1, 2}\\right)}}{2} + \\frac{\\operatorname{im}{\\left(X^{4}_7_{1, 2} X^{4}_8_{1, 1}\\right)}}{2} - \\frac{\\operatorname{im}{\\left(X^{4}_7_{1, 2} X^{4}_8_{2, 2}\\right)}}{2} + \\frac{\\operatorname{im}{\\left(X^{4}_7_{2, 2} X^{4}_8_{1, 2}\\right)}}{2}\\right) + 4 Q^{14}_1 \\left(P^{14}_1 Q^{41}_2 + P^{41}_2 Q^{14}_1 - \\frac{\\operatorname{re}{\\left(X^{4}_6_{0, 0} X^{4}_9_{1, 0}\\right)}}{2} + \\frac{\\operatorname{re}{\\left(X^{4}_6_{1, 0} X^{4}_9_{0, 0}\\right)}}{2} - \\frac{\\operatorname{re}{\\left(X^{4}_6_{1, 0} X^{4}_9_{1, 1}\\right)}}{2} + \\frac{\\operatorname{re}{\\left(X^{4}_6_{1, 1} X^{4}_9_{1, 0}\\right)}}{2} + \\frac{\\operatorname{re}{\\left(X^{4}_6_{1, 2} X^{4}_9_{2, 0}\\right)}}{2} - \\frac{\\operatorname{re}{\\left(X^{4}_6_{2, 0} X^{4}_9_{1, 2}\\right)}}{2} - \\frac{\\operatorname{re}{\\left(X^{4}_7_{0, 0} X^{4}_8_{1, 0}\\right)}}{2} + \\frac{\\operatorname{re}{\\left(X^{4}_7_{1, 0} X^{4}_8_{0, 0}\\right)}}{2} - \\frac{\\operatorname{re}{\\left(X^{4}_7_{1, 0} X^{4}_8_{1, 1}\\right)}}{2} + \\frac{\\operatorname{re}{\\left(X^{4}_7_{1, 1} X^{4}_8_{1, 0}\\right)}}{2} + \\frac{\\operatorname{re}{\\left(X^{4}_7_{1, 2} X^{4}_8_{2, 0}\\right)}}{2} - \\frac{\\operatorname{re}{\\left(X^{4}_7_{2, 0} X^{4}_8_{1, 2}\\right)}}{2} - \\frac{\\operatorname{im}{\\left(X^{4}_6_{0, 0} X^{4}_8_{1, 0}\\right)}}{2} + \\frac{\\operatorname{im}{\\left(X^{4}_6_{1, 0} X^{4}_8_{0, 0}\\right)}}{2} - \\frac{\\operatorname{im}{\\left(X^{4}_6_{1, 0} X^{4}_8_{1, 1}\\right)}}{2} + \\frac{\\operatorname{im}{\\left(X^{4}_6_{1, 1} X^{4}_8_{1, 0}\\right)}}{2} + \\frac{\\operatorname{im}{\\left(X^{4}_6_{1, 2} X^{4}_8_{2, 0}\\right)}}{2} - \\frac{\\operatorname{im}{\\left(X^{4}_6_{2, 0} X^{4}_8_{1, 2}\\right)}}{2} + \\frac{\\operatorname{im}{\\left(X^{4}_7_{0, 0} X^{4}_9_{1, 0}\\right)}}{2} - \\frac{\\operatorname{im}{\\left(X^{4}_7_{1, 0} X^{4}_9_{0, 0}\\right)}}{2} + \\frac{\\operatorname{im}{\\left(X^{4}_7_{1, 0} X^{4}_9_{1, 1}\\right)}}{2} - \\frac{\\operatorname{im}{\\left(X^{4}_7_{1, 1} X^{4}_9_{1, 0}\\right)}}{2} - \\frac{\\operatorname{im}{\\left(X^{4}_7_{1, 2} X^{4}_9_{2, 0}\\right)}}{2} + \\frac{\\operatorname{im}{\\left(X^{4}_7_{2, 0} X^{4}_9_{1, 2}\\right)}}{2}\\right) + 4 Q^{14}_2 \\left(P^{14}_1 Q^{41}_1 + P^{14}_2 Q^{41}_2 + P^{14}_3 Q^{41}_3 + P^{41}_1 Q^{14}_1 + P^{41}_2 Q^{14}_2 + P^{41}_3 Q^{14}_3 + \\frac{3 \\operatorname{im}{\\left(c^{14}\\right)}}{g^{2}}\\right) + 4 Q^{14}_2 \\left(P^{14}_2 Q^{41}_2 + P^{41}_2 Q^{14}_2 - \\frac{\\operatorname{re}{\\left(X^{4}_6_{0, 1} X^{4}_9_{1, 0}\\right)}}{2} + \\frac{\\operatorname{re}{\\left(X^{4}_6_{1, 0} X^{4}_9_{0, 1}\\right)}}{2} + \\frac{\\operatorname{re}{\\left(X^{4}_6_{1, 2} X^{4}_9_{2, 1}\\right)}}{2} - \\frac{\\operatorname{re}{\\left(X^{4}_6_{2, 1} X^{4}_9_{1, 2}\\right)}}{2} - \\frac{\\operatorname{re}{\\left(X^{4}_7_{0, 1} X^{4}_8_{1, 0}\\right)}}{2} + \\frac{\\operatorname{re}{\\left(X^{4}_7_{1, 0} X^{4}_8_{0, 1}\\right)}}{2} + \\frac{\\operatorname{re}{\\left(X^{4}_7_{1, 2} X^{4}_8_{2, 1}\\right)}}{2} - \\frac{\\operatorname{re}{\\left(X^{4}_7_{2, 1} X^{4}_8_{1, 2}\\right)}}{2} - \\frac{\\operatorname{im}{\\left(X^{4}_6_{0, 1} X^{4}_8_{1, 0}\\right)}}{2} + \\frac{\\operatorname{im}{\\left(X^{4}_6_{1, 0} X^{4}_8_{0, 1}\\right)}}{2} + \\frac{\\operatorname{im}{\\left(X^{4}_6_{1, 2} X^{4}_8_{2, 1}\\right)}}{2} - \\frac{\\operatorname{im}{\\left(X^{4}_6_{2, 1} X^{4}_8_{1, 2}\\right)}}{2} + \\frac{\\operatorname{im}{\\left(X^{4}_7_{0, 1} X^{4}_9_{1, 0}\\right)}}{2} - \\frac{\\operatorname{im}{\\left(X^{4}_7_{1, 0} X^{4}_9_{0, 1}\\right)}}{2} - \\frac{\\operatorname{im}{\\left(X^{4}_7_{1, 2} X^{4}_9_{2, 1}\\right)}}{2} + \\frac{\\operatorname{im}{\\left(X^{4}_7_{2, 1} X^{4}_9_{1, 2}\\right)}}{2} + \\frac{\\operatorname{im}{\\left(c^{41}\\right)}}{g^{2}}\\right) + 4 Q^{14}_3 \\left(P^{14}_3 Q^{41}_2 + P^{41}_2 Q^{14}_3 - \\frac{\\operatorname{re}{\\left(X^{4}_6_{0, 2} X^{4}_9_{1, 0}\\right)}}{2} + \\frac{\\operatorname{re}{\\left(X^{4}_6_{1, 0} X^{4}_9_{0, 2}\\right)}}{2} + \\frac{\\operatorname{re}{\\left(X^{4}_6_{1, 1} X^{4}_9_{1, 2}\\right)}}{2} - \\frac{\\operatorname{re}{\\left(X^{4}_6_{1, 2} X^{4}_9_{1, 1}\\right)}}{2} + \\frac{\\operatorname{re}{\\left(X^{4}_6_{1, 2} X^{4}_9_{2, 2}\\right)}}{2} - \\frac{\\operatorname{re}{\\left(X^{4}_6_{2, 2} X^{4}_9_{1, 2}\\right)}}{2} - \\frac{\\operatorname{re}{\\left(X^{4}_7_{0, 2} X^{4}_8_{1, 0}\\right)}}{2} + \\frac{\\operatorname{re}{\\left(X^{4}_7_{1, 0} X^{4}_8_{0, 2}\\right)}}{2} + \\frac{\\operatorname{re}{\\left(X^{4}_7_{1, 1} X^{4}_8_{1, 2}\\right)}}{2} - \\frac{\\operatorname{re}{\\left(X^{4}_7_{1, 2} X^{4}_8_{1, 1}\\right)}}{2} + \\frac{\\operatorname{re}{\\left(X^{4}_7_{1, 2} X^{4}_8_{2, 2}\\right)}}{2} - \\frac{\\operatorname{re}{\\left(X^{4}_7_{2, 2} X^{4}_8_{1, 2}\\right)}}{2} - \\frac{\\operatorname{im}{\\left(X^{4}_6_{0, 2} X^{4}_8_{1, 0}\\right)}}{2} + \\frac{\\operatorname{im}{\\left(X^{4}_6_{1, 0} X^{4}_8_{0, 2}\\right)}}{2} + \\frac{\\operatorname{im}{\\left(X^{4}_6_{1, 1} X^{4}_8_{1, 2}\\right)}}{2} - \\frac{\\operatorname{im}{\\left(X^{4}_6_{1, 2} X^{4}_8_{1, 1}\\right)}}{2} + \\frac{\\operatorname{im}{\\left(X^{4}_6_{1, 2} X^{4}_8_{2, 2}\\right)}}{2} - \\frac{\\operatorname{im}{\\left(X^{4}_6_{2, 2} X^{4}_8_{1, 2}\\right)}}{2} + \\frac{\\operatorname{im}{\\left(X^{4}_7_{0, 2} X^{4}_9_{1, 0}\\right)}}{2} - \\frac{\\operatorname{im}{\\left(X^{4}_7_{1, 0} X^{4}_9_{0, 2}\\right)}}{2} - \\frac{\\operatorname{im}{\\left(X^{4}_7_{1, 1} X^{4}_9_{1, 2}\\right)}}{2} + \\frac{\\operatorname{im}{\\left(X^{4}_7_{1, 2} X^{4}_9_{1, 1}\\right)}}{2} - \\frac{\\operatorname{im}{\\left(X^{4}_7_{1, 2} X^{4}_9_{2, 2}\\right)}}{2} + \\frac{\\operatorname{im}{\\left(X^{4}_7_{2, 2} X^{4}_9_{1, 2}\\right)}}{2}\\right)\\\\4 P^{14}_1 \\left(P^{14}_1 P^{41}_3 - Q^{14}_1 Q^{41}_3 - \\frac{\\operatorname{re}{\\left(X^{4}_6_{0, 0} X^{4}_8_{2, 0}\\right)}}{2} - \\frac{\\operatorname{re}{\\left(X^{4}_6_{1, 0} X^{4}_8_{2, 1}\\right)}}{2} + \\frac{\\operatorname{re}{\\left(X^{4}_6_{2, 0} X^{4}_8_{0, 0}\\right)}}{2} - \\frac{\\operatorname{re}{\\left(X^{4}_6_{2, 0} X^{4}_8_{2, 2}\\right)}}{2} + \\frac{\\operatorname{re}{\\left(X^{4}_6_{2, 1} X^{4}_8_{1, 0}\\right)}}{2} + \\frac{\\operatorname{re}{\\left(X^{4}_6_{2, 2} X^{4}_8_{2, 0}\\right)}}{2} + \\frac{\\operatorname{re}{\\left(X^{4}_7_{0, 0} X^{4}_9_{2, 0}\\right)}}{2} + \\frac{\\operatorname{re}{\\left(X^{4}_7_{1, 0} X^{4}_9_{2, 1}\\right)}}{2} - \\frac{\\operatorname{re}{\\left(X^{4}_7_{2, 0} X^{4}_9_{0, 0}\\right)}}{2} + \\frac{\\operatorname{re}{\\left(X^{4}_7_{2, 0} X^{4}_9_{2, 2}\\right)}}{2} - \\frac{\\operatorname{re}{\\left(X^{4}_7_{2, 1} X^{4}_9_{1, 0}\\right)}}{2} - \\frac{\\operatorname{re}{\\left(X^{4}_7_{2, 2} X^{4}_9_{2, 0}\\right)}}{2} + \\frac{\\operatorname{im}{\\left(X^{4}_6_{0, 0} X^{4}_9_{2, 0}\\right)}}{2} + \\frac{\\operatorname{im}{\\left(X^{4}_6_{1, 0} X^{4}_9_{2, 1}\\right)}}{2} - \\frac{\\operatorname{im}{\\left(X^{4}_6_{2, 0} X^{4}_9_{0, 0}\\right)}}{2} + \\frac{\\operatorname{im}{\\left(X^{4}_6_{2, 0} X^{4}_9_{2, 2}\\right)}}{2} - \\frac{\\operatorname{im}{\\left(X^{4}_6_{2, 1} X^{4}_9_{1, 0}\\right)}}{2} - \\frac{\\operatorname{im}{\\left(X^{4}_6_{2, 2} X^{4}_9_{2, 0}\\right)}}{2} + \\frac{\\operatorname{im}{\\left(X^{4}_7_{0, 0} X^{4}_8_{2, 0}\\right)}}{2} + \\frac{\\operatorname{im}{\\left(X^{4}_7_{1, 0} X^{4}_8_{2, 1}\\right)}}{2} - \\frac{\\operatorname{im}{\\left(X^{4}_7_{2, 0} X^{4}_8_{0, 0}\\right)}}{2} + \\frac{\\operatorname{im}{\\left(X^{4}_7_{2, 0} X^{4}_8_{2, 2}\\right)}}{2} - \\frac{\\operatorname{im}{\\left(X^{4}_7_{2, 1} X^{4}_8_{1, 0}\\right)}}{2} - \\frac{\\operatorname{im}{\\left(X^{4}_7_{2, 2} X^{4}_8_{2, 0}\\right)}}{2}\\right) + 4 P^{14}_2 \\left(P^{14}_2 P^{41}_3 - Q^{14}_2 Q^{41}_3 - \\frac{\\operatorname{re}{\\left(X^{4}_6_{0, 1} X^{4}_8_{2, 0}\\right)}}{2} - \\frac{\\operatorname{re}{\\left(X^{4}_6_{1, 1} X^{4}_8_{2, 1}\\right)}}{2} + \\frac{\\operatorname{re}{\\left(X^{4}_6_{2, 0} X^{4}_8_{0, 1}\\right)}}{2} + \\frac{\\operatorname{re}{\\left(X^{4}_6_{2, 1} X^{4}_8_{1, 1}\\right)}}{2} - \\frac{\\operatorname{re}{\\left(X^{4}_6_{2, 1} X^{4}_8_{2, 2}\\right)}}{2} + \\frac{\\operatorname{re}{\\left(X^{4}_6_{2, 2} X^{4}_8_{2, 1}\\right)}}{2} + \\frac{\\operatorname{re}{\\left(X^{4}_7_{0, 1} X^{4}_9_{2, 0}\\right)}}{2} + \\frac{\\operatorname{re}{\\left(X^{4}_7_{1, 1} X^{4}_9_{2, 1}\\right)}}{2} - \\frac{\\operatorname{re}{\\left(X^{4}_7_{2, 0} X^{4}_9_{0, 1}\\right)}}{2} - \\frac{\\operatorname{re}{\\left(X^{4}_7_{2, 1} X^{4}_9_{1, 1}\\right)}}{2} + \\frac{\\operatorname{re}{\\left(X^{4}_7_{2, 1} X^{4}_9_{2, 2}\\right)}}{2} - \\frac{\\operatorname{re}{\\left(X^{4}_7_{2, 2} X^{4}_9_{2, 1}\\right)}}{2} + \\frac{\\operatorname{im}{\\left(X^{4}_6_{0, 1} X^{4}_9_{2, 0}\\right)}}{2} + \\frac{\\operatorname{im}{\\left(X^{4}_6_{1, 1} X^{4}_9_{2, 1}\\right)}}{2} - \\frac{\\operatorname{im}{\\left(X^{4}_6_{2, 0} X^{4}_9_{0, 1}\\right)}}{2} - \\frac{\\operatorname{im}{\\left(X^{4}_6_{2, 1} X^{4}_9_{1, 1}\\right)}}{2} + \\frac{\\operatorname{im}{\\left(X^{4}_6_{2, 1} X^{4}_9_{2, 2}\\right)}}{2} - \\frac{\\operatorname{im}{\\left(X^{4}_6_{2, 2} X^{4}_9_{2, 1}\\right)}}{2} + \\frac{\\operatorname{im}{\\left(X^{4}_7_{0, 1} X^{4}_8_{2, 0}\\right)}}{2} + \\frac{\\operatorname{im}{\\left(X^{4}_7_{1, 1} X^{4}_8_{2, 1}\\right)}}{2} - \\frac{\\operatorname{im}{\\left(X^{4}_7_{2, 0} X^{4}_8_{0, 1}\\right)}}{2} - \\frac{\\operatorname{im}{\\left(X^{4}_7_{2, 1} X^{4}_8_{1, 1}\\right)}}{2} + \\frac{\\operatorname{im}{\\left(X^{4}_7_{2, 1} X^{4}_8_{2, 2}\\right)}}{2} - \\frac{\\operatorname{im}{\\left(X^{4}_7_{2, 2} X^{4}_8_{2, 1}\\right)}}{2}\\right) + 4 P^{14}_3 \\left(P^{14}_1 P^{41}_1 + P^{14}_2 P^{41}_2 + P^{14}_3 P^{41}_3 - Q^{14}_1 Q^{41}_1 - Q^{14}_2 Q^{41}_2 - Q^{14}_3 Q^{41}_3 + \\frac{3 \\operatorname{re}{\\left(c^{14}\\right)}}{g^{2}}\\right) + 4 P^{14}_3 \\left(P^{14}_3 P^{41}_3 - Q^{14}_3 Q^{41}_3 - \\frac{\\operatorname{re}{\\left(X^{4}_6_{0, 2} X^{4}_8_{2, 0}\\right)}}{2} - \\frac{\\operatorname{re}{\\left(X^{4}_6_{1, 2} X^{4}_8_{2, 1}\\right)}}{2} + \\frac{\\operatorname{re}{\\left(X^{4}_6_{2, 0} X^{4}_8_{0, 2}\\right)}}{2} + \\frac{\\operatorname{re}{\\left(X^{4}_6_{2, 1} X^{4}_8_{1, 2}\\right)}}{2} + \\frac{\\operatorname{re}{\\left(X^{4}_7_{0, 2} X^{4}_9_{2, 0}\\right)}}{2} + \\frac{\\operatorname{re}{\\left(X^{4}_7_{1, 2} X^{4}_9_{2, 1}\\right)}}{2} - \\frac{\\operatorname{re}{\\left(X^{4}_7_{2, 0} X^{4}_9_{0, 2}\\right)}}{2} - \\frac{\\operatorname{re}{\\left(X^{4}_7_{2, 1} X^{4}_9_{1, 2}\\right)}}{2} + \\frac{\\operatorname{im}{\\left(X^{4}_6_{0, 2} X^{4}_9_{2, 0}\\right)}}{2} + \\frac{\\operatorname{im}{\\left(X^{4}_6_{1, 2} X^{4}_9_{2, 1}\\right)}}{2} - \\frac{\\operatorname{im}{\\left(X^{4}_6_{2, 0} X^{4}_9_{0, 2}\\right)}}{2} - \\frac{\\operatorname{im}{\\left(X^{4}_6_{2, 1} X^{4}_9_{1, 2}\\right)}}{2} + \\frac{\\operatorname{im}{\\left(X^{4}_7_{0, 2} X^{4}_8_{2, 0}\\right)}}{2} + \\frac{\\operatorname{im}{\\left(X^{4}_7_{1, 2} X^{4}_8_{2, 1}\\right)}}{2} - \\frac{\\operatorname{im}{\\left(X^{4}_7_{2, 0} X^{4}_8_{0, 2}\\right)}}{2} - \\frac{\\operatorname{im}{\\left(X^{4}_7_{2, 1} X^{4}_8_{1, 2}\\right)}}{2} + \\frac{\\operatorname{re}{\\left(c^{41}\\right)}}{g^{2}}\\right) + 4 Q^{14}_1 \\left(P^{14}_1 Q^{41}_3 + P^{41}_3 Q^{14}_1 - \\frac{\\operatorname{re}{\\left(X^{4}_6_{0, 0} X^{4}_9_{2, 0}\\right)}}{2} - \\frac{\\operatorname{re}{\\left(X^{4}_6_{1, 0} X^{4}_9_{2, 1}\\right)}}{2} + \\frac{\\operatorname{re}{\\left(X^{4}_6_{2, 0} X^{4}_9_{0, 0}\\right)}}{2} - \\frac{\\operatorname{re}{\\left(X^{4}_6_{2, 0} X^{4}_9_{2, 2}\\right)}}{2} + \\frac{\\operatorname{re}{\\left(X^{4}_6_{2, 1} X^{4}_9_{1, 0}\\right)}}{2} + \\frac{\\operatorname{re}{\\left(X^{4}_6_{2, 2} X^{4}_9_{2, 0}\\right)}}{2} - \\frac{\\operatorname{re}{\\left(X^{4}_7_{0, 0} X^{4}_8_{2, 0}\\right)}}{2} - \\frac{\\operatorname{re}{\\left(X^{4}_7_{1, 0} X^{4}_8_{2, 1}\\right)}}{2} + \\frac{\\operatorname{re}{\\left(X^{4}_7_{2, 0} X^{4}_8_{0, 0}\\right)}}{2} - \\frac{\\operatorname{re}{\\left(X^{4}_7_{2, 0} X^{4}_8_{2, 2}\\right)}}{2} + \\frac{\\operatorname{re}{\\left(X^{4}_7_{2, 1} X^{4}_8_{1, 0}\\right)}}{2} + \\frac{\\operatorname{re}{\\left(X^{4}_7_{2, 2} X^{4}_8_{2, 0}\\right)}}{2} - \\frac{\\operatorname{im}{\\left(X^{4}_6_{0, 0} X^{4}_8_{2, 0}\\right)}}{2} - \\frac{\\operatorname{im}{\\left(X^{4}_6_{1, 0} X^{4}_8_{2, 1}\\right)}}{2} + \\frac{\\operatorname{im}{\\left(X^{4}_6_{2, 0} X^{4}_8_{0, 0}\\right)}}{2} - \\frac{\\operatorname{im}{\\left(X^{4}_6_{2, 0} X^{4}_8_{2, 2}\\right)}}{2} + \\frac{\\operatorname{im}{\\left(X^{4}_6_{2, 1} X^{4}_8_{1, 0}\\right)}}{2} + \\frac{\\operatorname{im}{\\left(X^{4}_6_{2, 2} X^{4}_8_{2, 0}\\right)}}{2} + \\frac{\\operatorname{im}{\\left(X^{4}_7_{0, 0} X^{4}_9_{2, 0}\\right)}}{2} + \\frac{\\operatorname{im}{\\left(X^{4}_7_{1, 0} X^{4}_9_{2, 1}\\right)}}{2} - \\frac{\\operatorname{im}{\\left(X^{4}_7_{2, 0} X^{4}_9_{0, 0}\\right)}}{2} + \\frac{\\operatorname{im}{\\left(X^{4}_7_{2, 0} X^{4}_9_{2, 2}\\right)}}{2} - \\frac{\\operatorname{im}{\\left(X^{4}_7_{2, 1} X^{4}_9_{1, 0}\\right)}}{2} - \\frac{\\operatorname{im}{\\left(X^{4}_7_{2, 2} X^{4}_9_{2, 0}\\right)}}{2}\\right) + 4 Q^{14}_2 \\left(P^{14}_2 Q^{41}_3 + P^{41}_3 Q^{14}_2 - \\frac{\\operatorname{re}{\\left(X^{4}_6_{0, 1} X^{4}_9_{2, 0}\\right)}}{2} - \\frac{\\operatorname{re}{\\left(X^{4}_6_{1, 1} X^{4}_9_{2, 1}\\right)}}{2} + \\frac{\\operatorname{re}{\\left(X^{4}_6_{2, 0} X^{4}_9_{0, 1}\\right)}}{2} + \\frac{\\operatorname{re}{\\left(X^{4}_6_{2, 1} X^{4}_9_{1, 1}\\right)}}{2} - \\frac{\\operatorname{re}{\\left(X^{4}_6_{2, 1} X^{4}_9_{2, 2}\\right)}}{2} + \\frac{\\operatorname{re}{\\left(X^{4}_6_{2, 2} X^{4}_9_{2, 1}\\right)}}{2} - \\frac{\\operatorname{re}{\\left(X^{4}_7_{0, 1} X^{4}_8_{2, 0}\\right)}}{2} - \\frac{\\operatorname{re}{\\left(X^{4}_7_{1, 1} X^{4}_8_{2, 1}\\right)}}{2} + \\frac{\\operatorname{re}{\\left(X^{4}_7_{2, 0} X^{4}_8_{0, 1}\\right)}}{2} + \\frac{\\operatorname{re}{\\left(X^{4}_7_{2, 1} X^{4}_8_{1, 1}\\right)}}{2} - \\frac{\\operatorname{re}{\\left(X^{4}_7_{2, 1} X^{4}_8_{2, 2}\\right)}}{2} + \\frac{\\operatorname{re}{\\left(X^{4}_7_{2, 2} X^{4}_8_{2, 1}\\right)}}{2} - \\frac{\\operatorname{im}{\\left(X^{4}_6_{0, 1} X^{4}_8_{2, 0}\\right)}}{2} - \\frac{\\operatorname{im}{\\left(X^{4}_6_{1, 1} X^{4}_8_{2, 1}\\right)}}{2} + \\frac{\\operatorname{im}{\\left(X^{4}_6_{2, 0} X^{4}_8_{0, 1}\\right)}}{2} + \\frac{\\operatorname{im}{\\left(X^{4}_6_{2, 1} X^{4}_8_{1, 1}\\right)}}{2} - \\frac{\\operatorname{im}{\\left(X^{4}_6_{2, 1} X^{4}_8_{2, 2}\\right)}}{2} + \\frac{\\operatorname{im}{\\left(X^{4}_6_{2, 2} X^{4}_8_{2, 1}\\right)}}{2} + \\frac{\\operatorname{im}{\\left(X^{4}_7_{0, 1} X^{4}_9_{2, 0}\\right)}}{2} + \\frac{\\operatorname{im}{\\left(X^{4}_7_{1, 1} X^{4}_9_{2, 1}\\right)}}{2} - \\frac{\\operatorname{im}{\\left(X^{4}_7_{2, 0} X^{4}_9_{0, 1}\\right)}}{2} - \\frac{\\operatorname{im}{\\left(X^{4}_7_{2, 1} X^{4}_9_{1, 1}\\right)}}{2} + \\frac{\\operatorname{im}{\\left(X^{4}_7_{2, 1} X^{4}_9_{2, 2}\\right)}}{2} - \\frac{\\operatorname{im}{\\left(X^{4}_7_{2, 2} X^{4}_9_{2, 1}\\right)}}{2}\\right) + 4 Q^{14}_3 \\left(P^{14}_1 Q^{41}_1 + P^{14}_2 Q^{41}_2 + P^{14}_3 Q^{41}_3 + P^{41}_1 Q^{14}_1 + P^{41}_2 Q^{14}_2 + P^{41}_3 Q^{14}_3 + \\frac{3 \\operatorname{im}{\\left(c^{14}\\right)}}{g^{2}}\\right) + 4 Q^{14}_3 \\left(P^{14}_3 Q^{41}_3 + P^{41}_3 Q^{14}_3 - \\frac{\\operatorname{re}{\\left(X^{4}_6_{0, 2} X^{4}_9_{2, 0}\\right)}}{2} - \\frac{\\operatorname{re}{\\left(X^{4}_6_{1, 2} X^{4}_9_{2, 1}\\right)}}{2} + \\frac{\\operatorname{re}{\\left(X^{4}_6_{2, 0} X^{4}_9_{0, 2}\\right)}}{2} + \\frac{\\operatorname{re}{\\left(X^{4}_6_{2, 1} X^{4}_9_{1, 2}\\right)}}{2} - \\frac{\\operatorname{re}{\\left(X^{4}_7_{0, 2} X^{4}_8_{2, 0}\\right)}}{2} - \\frac{\\operatorname{re}{\\left(X^{4}_7_{1, 2} X^{4}_8_{2, 1}\\right)}}{2} + \\frac{\\operatorname{re}{\\left(X^{4}_7_{2, 0} X^{4}_8_{0, 2}\\right)}}{2} + \\frac{\\operatorname{re}{\\left(X^{4}_7_{2, 1} X^{4}_8_{1, 2}\\right)}}{2} - \\frac{\\operatorname{im}{\\left(X^{4}_6_{0, 2} X^{4}_8_{2, 0}\\right)}}{2} - \\frac{\\operatorname{im}{\\left(X^{4}_6_{1, 2} X^{4}_8_{2, 1}\\right)}}{2} + \\frac{\\operatorname{im}{\\left(X^{4}_6_{2, 0} X^{4}_8_{0, 2}\\right)}}{2} + \\frac{\\operatorname{im}{\\left(X^{4}_6_{2, 1} X^{4}_8_{1, 2}\\right)}}{2} + \\frac{\\operatorname{im}{\\left(X^{4}_7_{0, 2} X^{4}_9_{2, 0}\\right)}}{2} + \\frac{\\operatorname{im}{\\left(X^{4}_7_{1, 2} X^{4}_9_{2, 1}\\right)}}{2} - \\frac{\\operatorname{im}{\\left(X^{4}_7_{2, 0} X^{4}_9_{0, 2}\\right)}}{2} - \\frac{\\operatorname{im}{\\left(X^{4}_7_{2, 1} X^{4}_9_{1, 2}\\right)}}{2} + \\frac{\\operatorname{im}{\\left(c^{41}\\right)}}{g^{2}}\\right)\\end{matrix}\\right]$"
      ],
      "text/plain": [
       "Matrix([\n",
       "[4*P^{14}_1*(P^{14}_1*P^{41}_1 + P^{14}_2*P^{41}_2 + P^{14}_3*P^{41}_3 - Q^{14}_1*Q^{41}_1 - Q^{14}_2*Q^{41}_2 - Q^{14}_3*Q^{41}_3 + 3*re(c^{14})/g**2) + 4*P^{14}_1*(P^{14}_1*P^{41}_1 - Q^{14}_1*Q^{41}_1 + re(X^{4}_6[0, 1]*X^{4}_8[1, 0])/2 + re(X^{4}_6[0, 2]*X^{4}_8[2, 0])/2 - re(X^{4}_6[1, 0]*X^{4}_8[0, 1])/2 - re(X^{4}_6[2, 0]*X^{4}_8[0, 2])/2 - re(X^{4}_7[0, 1]*X^{4}_9[1, 0])/2 - re(X^{4}_7[0, 2]*X^{4}_9[2, 0])/2 + re(X^{4}_7[1, 0]*X^{4}_9[0, 1])/2 + re(X^{4}_7[2, 0]*X^{4}_9[0, 2])/2 - im(X^{4}_6[0, 1]*X^{4}_9[1, 0])/2 - im(X^{4}_6[0, 2]*X^{4}_9[2, 0])/2 + im(X^{4}_6[1, 0]*X^{4}_9[0, 1])/2 + im(X^{4}_6[2, 0]*X^{4}_9[0, 2])/2 - im(X^{4}_7[0, 1]*X^{4}_8[1, 0])/2 - im(X^{4}_7[0, 2]*X^{4}_8[2, 0])/2 + im(X^{4}_7[1, 0]*X^{4}_8[0, 1])/2 + im(X^{4}_7[2, 0]*X^{4}_8[0, 2])/2 + re(c^{41})/g**2) + 4*P^{14}_2*(P^{14}_2*P^{41}_1 - Q^{14}_2*Q^{41}_1 + re(X^{4}_6[0, 0]*X^{4}_8[0, 1])/2 - re(X^{4}_6[0, 1]*X^{4}_8[0, 0])/2 + re(X^{4}_6[0, 1]*X^{4}_8[1, 1])/2 + re(X^{4}_6[0, 2]*X^{4}_8[2, 1])/2 - re(X^{4}_6[1, 1]*X^{4}_8[0, 1])/2 - re(X^{4}_6[2, 1]*X^{4}_8[0, 2])/2 - re(X^{4}_7[0, 0]*X^{4}_9[0, 1])/2 + re(X^{4}_7[0, 1]*X^{4}_9[0, 0])/2 - re(X^{4}_7[0, 1]*X^{4}_9[1, 1])/2 - re(X^{4}_7[0, 2]*X^{4}_9[2, 1])/2 + re(X^{4}_7[1, 1]*X^{4}_9[0, 1])/2 + re(X^{4}_7[2, 1]*X^{4}_9[0, 2])/2 - im(X^{4}_6[0, 0]*X^{4}_9[0, 1])/2 + im(X^{4}_6[0, 1]*X^{4}_9[0, 0])/2 - im(X^{4}_6[0, 1]*X^{4}_9[1, 1])/2 - im(X^{4}_6[0, 2]*X^{4}_9[2, 1])/2 + im(X^{4}_6[1, 1]*X^{4}_9[0, 1])/2 + im(X^{4}_6[2, 1]*X^{4}_9[0, 2])/2 - im(X^{4}_7[0, 0]*X^{4}_8[0, 1])/2 + im(X^{4}_7[0, 1]*X^{4}_8[0, 0])/2 - im(X^{4}_7[0, 1]*X^{4}_8[1, 1])/2 - im(X^{4}_7[0, 2]*X^{4}_8[2, 1])/2 + im(X^{4}_7[1, 1]*X^{4}_8[0, 1])/2 + im(X^{4}_7[2, 1]*X^{4}_8[0, 2])/2) + 4*P^{14}_3*(P^{14}_3*P^{41}_1 - Q^{14}_3*Q^{41}_1 + re(X^{4}_6[0, 0]*X^{4}_8[0, 2])/2 + re(X^{4}_6[0, 1]*X^{4}_8[1, 2])/2 - re(X^{4}_6[0, 2]*X^{4}_8[0, 0])/2 + re(X^{4}_6[0, 2]*X^{4}_8[2, 2])/2 - re(X^{4}_6[1, 2]*X^{4}_8[0, 1])/2 - re(X^{4}_6[2, 2]*X^{4}_8[0, 2])/2 - re(X^{4}_7[0, 0]*X^{4}_9[0, 2])/2 - re(X^{4}_7[0, 1]*X^{4}_9[1, 2])/2 + re(X^{4}_7[0, 2]*X^{4}_9[0, 0])/2 - re(X^{4}_7[0, 2]*X^{4}_9[2, 2])/2 + re(X^{4}_7[1, 2]*X^{4}_9[0, 1])/2 + re(X^{4}_7[2, 2]*X^{4}_9[0, 2])/2 - im(X^{4}_6[0, 0]*X^{4}_9[0, 2])/2 - im(X^{4}_6[0, 1]*X^{4}_9[1, 2])/2 + im(X^{4}_6[0, 2]*X^{4}_9[0, 0])/2 - im(X^{4}_6[0, 2]*X^{4}_9[2, 2])/2 + im(X^{4}_6[1, 2]*X^{4}_9[0, 1])/2 + im(X^{4}_6[2, 2]*X^{4}_9[0, 2])/2 - im(X^{4}_7[0, 0]*X^{4}_8[0, 2])/2 - im(X^{4}_7[0, 1]*X^{4}_8[1, 2])/2 + im(X^{4}_7[0, 2]*X^{4}_8[0, 0])/2 - im(X^{4}_7[0, 2]*X^{4}_8[2, 2])/2 + im(X^{4}_7[1, 2]*X^{4}_8[0, 1])/2 + im(X^{4}_7[2, 2]*X^{4}_8[0, 2])/2) + 4*Q^{14}_1*(P^{14}_1*Q^{41}_1 + P^{14}_2*Q^{41}_2 + P^{14}_3*Q^{41}_3 + P^{41}_1*Q^{14}_1 + P^{41}_2*Q^{14}_2 + P^{41}_3*Q^{14}_3 + 3*im(c^{14})/g**2) + 4*Q^{14}_1*(P^{14}_1*Q^{41}_1 + P^{41}_1*Q^{14}_1 + re(X^{4}_6[0, 1]*X^{4}_9[1, 0])/2 + re(X^{4}_6[0, 2]*X^{4}_9[2, 0])/2 - re(X^{4}_6[1, 0]*X^{4}_9[0, 1])/2 - re(X^{4}_6[2, 0]*X^{4}_9[0, 2])/2 + re(X^{4}_7[0, 1]*X^{4}_8[1, 0])/2 + re(X^{4}_7[0, 2]*X^{4}_8[2, 0])/2 - re(X^{4}_7[1, 0]*X^{4}_8[0, 1])/2 - re(X^{4}_7[2, 0]*X^{4}_8[0, 2])/2 + im(X^{4}_6[0, 1]*X^{4}_8[1, 0])/2 + im(X^{4}_6[0, 2]*X^{4}_8[2, 0])/2 - im(X^{4}_6[1, 0]*X^{4}_8[0, 1])/2 - im(X^{4}_6[2, 0]*X^{4}_8[0, 2])/2 - im(X^{4}_7[0, 1]*X^{4}_9[1, 0])/2 - im(X^{4}_7[0, 2]*X^{4}_9[2, 0])/2 + im(X^{4}_7[1, 0]*X^{4}_9[0, 1])/2 + im(X^{4}_7[2, 0]*X^{4}_9[0, 2])/2 + im(c^{41})/g**2) + 4*Q^{14}_2*(P^{14}_2*Q^{41}_1 + P^{41}_1*Q^{14}_2 + re(X^{4}_6[0, 0]*X^{4}_9[0, 1])/2 - re(X^{4}_6[0, 1]*X^{4}_9[0, 0])/2 + re(X^{4}_6[0, 1]*X^{4}_9[1, 1])/2 + re(X^{4}_6[0, 2]*X^{4}_9[2, 1])/2 - re(X^{4}_6[1, 1]*X^{4}_9[0, 1])/2 - re(X^{4}_6[2, 1]*X^{4}_9[0, 2])/2 + re(X^{4}_7[0, 0]*X^{4}_8[0, 1])/2 - re(X^{4}_7[0, 1]*X^{4}_8[0, 0])/2 + re(X^{4}_7[0, 1]*X^{4}_8[1, 1])/2 + re(X^{4}_7[0, 2]*X^{4}_8[2, 1])/2 - re(X^{4}_7[1, 1]*X^{4}_8[0, 1])/2 - re(X^{4}_7[2, 1]*X^{4}_8[0, 2])/2 + im(X^{4}_6[0, 0]*X^{4}_8[0, 1])/2 - im(X^{4}_6[0, 1]*X^{4}_8[0, 0])/2 + im(X^{4}_6[0, 1]*X^{4}_8[1, 1])/2 + im(X^{4}_6[0, 2]*X^{4}_8[2, 1])/2 - im(X^{4}_6[1, 1]*X^{4}_8[0, 1])/2 - im(X^{4}_6[2, 1]*X^{4}_8[0, 2])/2 - im(X^{4}_7[0, 0]*X^{4}_9[0, 1])/2 + im(X^{4}_7[0, 1]*X^{4}_9[0, 0])/2 - im(X^{4}_7[0, 1]*X^{4}_9[1, 1])/2 - im(X^{4}_7[0, 2]*X^{4}_9[2, 1])/2 + im(X^{4}_7[1, 1]*X^{4}_9[0, 1])/2 + im(X^{4}_7[2, 1]*X^{4}_9[0, 2])/2) + 4*Q^{14}_3*(P^{14}_3*Q^{41}_1 + P^{41}_1*Q^{14}_3 + re(X^{4}_6[0, 0]*X^{4}_9[0, 2])/2 + re(X^{4}_6[0, 1]*X^{4}_9[1, 2])/2 - re(X^{4}_6[0, 2]*X^{4}_9[0, 0])/2 + re(X^{4}_6[0, 2]*X^{4}_9[2, 2])/2 - re(X^{4}_6[1, 2]*X^{4}_9[0, 1])/2 - re(X^{4}_6[2, 2]*X^{4}_9[0, 2])/2 + re(X^{4}_7[0, 0]*X^{4}_8[0, 2])/2 + re(X^{4}_7[0, 1]*X^{4}_8[1, 2])/2 - re(X^{4}_7[0, 2]*X^{4}_8[0, 0])/2 + re(X^{4}_7[0, 2]*X^{4}_8[2, 2])/2 - re(X^{4}_7[1, 2]*X^{4}_8[0, 1])/2 - re(X^{4}_7[2, 2]*X^{4}_8[0, 2])/2 + im(X^{4}_6[0, 0]*X^{4}_8[0, 2])/2 + im(X^{4}_6[0, 1]*X^{4}_8[1, 2])/2 - im(X^{4}_6[0, 2]*X^{4}_8[0, 0])/2 + im(X^{4}_6[0, 2]*X^{4}_8[2, 2])/2 - im(X^{4}_6[1, 2]*X^{4}_8[0, 1])/2 - im(X^{4}_6[2, 2]*X^{4}_8[0, 2])/2 - im(X^{4}_7[0, 0]*X^{4}_9[0, 2])/2 - im(X^{4}_7[0, 1]*X^{4}_9[1, 2])/2 + im(X^{4}_7[0, 2]*X^{4}_9[0, 0])/2 - im(X^{4}_7[0, 2]*X^{4}_9[2, 2])/2 + im(X^{4}_7[1, 2]*X^{4}_9[0, 1])/2 + im(X^{4}_7[2, 2]*X^{4}_9[0, 2])/2)],\n",
       "[4*P^{14}_1*(P^{14}_1*P^{41}_2 - Q^{14}_1*Q^{41}_2 - re(X^{4}_6[0, 0]*X^{4}_8[1, 0])/2 + re(X^{4}_6[1, 0]*X^{4}_8[0, 0])/2 - re(X^{4}_6[1, 0]*X^{4}_8[1, 1])/2 + re(X^{4}_6[1, 1]*X^{4}_8[1, 0])/2 + re(X^{4}_6[1, 2]*X^{4}_8[2, 0])/2 - re(X^{4}_6[2, 0]*X^{4}_8[1, 2])/2 + re(X^{4}_7[0, 0]*X^{4}_9[1, 0])/2 - re(X^{4}_7[1, 0]*X^{4}_9[0, 0])/2 + re(X^{4}_7[1, 0]*X^{4}_9[1, 1])/2 - re(X^{4}_7[1, 1]*X^{4}_9[1, 0])/2 - re(X^{4}_7[1, 2]*X^{4}_9[2, 0])/2 + re(X^{4}_7[2, 0]*X^{4}_9[1, 2])/2 + im(X^{4}_6[0, 0]*X^{4}_9[1, 0])/2 - im(X^{4}_6[1, 0]*X^{4}_9[0, 0])/2 + im(X^{4}_6[1, 0]*X^{4}_9[1, 1])/2 - im(X^{4}_6[1, 1]*X^{4}_9[1, 0])/2 - im(X^{4}_6[1, 2]*X^{4}_9[2, 0])/2 + im(X^{4}_6[2, 0]*X^{4}_9[1, 2])/2 + im(X^{4}_7[0, 0]*X^{4}_8[1, 0])/2 - im(X^{4}_7[1, 0]*X^{4}_8[0, 0])/2 + im(X^{4}_7[1, 0]*X^{4}_8[1, 1])/2 - im(X^{4}_7[1, 1]*X^{4}_8[1, 0])/2 - im(X^{4}_7[1, 2]*X^{4}_8[2, 0])/2 + im(X^{4}_7[2, 0]*X^{4}_8[1, 2])/2) + 4*P^{14}_2*(P^{14}_1*P^{41}_1 + P^{14}_2*P^{41}_2 + P^{14}_3*P^{41}_3 - Q^{14}_1*Q^{41}_1 - Q^{14}_2*Q^{41}_2 - Q^{14}_3*Q^{41}_3 + 3*re(c^{14})/g**2) + 4*P^{14}_2*(P^{14}_2*P^{41}_2 - Q^{14}_2*Q^{41}_2 - re(X^{4}_6[0, 1]*X^{4}_8[1, 0])/2 + re(X^{4}_6[1, 0]*X^{4}_8[0, 1])/2 + re(X^{4}_6[1, 2]*X^{4}_8[2, 1])/2 - re(X^{4}_6[2, 1]*X^{4}_8[1, 2])/2 + re(X^{4}_7[0, 1]*X^{4}_9[1, 0])/2 - re(X^{4}_7[1, 0]*X^{4}_9[0, 1])/2 - re(X^{4}_7[1, 2]*X^{4}_9[2, 1])/2 + re(X^{4}_7[2, 1]*X^{4}_9[1, 2])/2 + im(X^{4}_6[0, 1]*X^{4}_9[1, 0])/2 - im(X^{4}_6[1, 0]*X^{4}_9[0, 1])/2 - im(X^{4}_6[1, 2]*X^{4}_9[2, 1])/2 + im(X^{4}_6[2, 1]*X^{4}_9[1, 2])/2 + im(X^{4}_7[0, 1]*X^{4}_8[1, 0])/2 - im(X^{4}_7[1, 0]*X^{4}_8[0, 1])/2 - im(X^{4}_7[1, 2]*X^{4}_8[2, 1])/2 + im(X^{4}_7[2, 1]*X^{4}_8[1, 2])/2 + re(c^{41})/g**2) + 4*P^{14}_3*(P^{14}_3*P^{41}_2 - Q^{14}_3*Q^{41}_2 - re(X^{4}_6[0, 2]*X^{4}_8[1, 0])/2 + re(X^{4}_6[1, 0]*X^{4}_8[0, 2])/2 + re(X^{4}_6[1, 1]*X^{4}_8[1, 2])/2 - re(X^{4}_6[1, 2]*X^{4}_8[1, 1])/2 + re(X^{4}_6[1, 2]*X^{4}_8[2, 2])/2 - re(X^{4}_6[2, 2]*X^{4}_8[1, 2])/2 + re(X^{4}_7[0, 2]*X^{4}_9[1, 0])/2 - re(X^{4}_7[1, 0]*X^{4}_9[0, 2])/2 - re(X^{4}_7[1, 1]*X^{4}_9[1, 2])/2 + re(X^{4}_7[1, 2]*X^{4}_9[1, 1])/2 - re(X^{4}_7[1, 2]*X^{4}_9[2, 2])/2 + re(X^{4}_7[2, 2]*X^{4}_9[1, 2])/2 + im(X^{4}_6[0, 2]*X^{4}_9[1, 0])/2 - im(X^{4}_6[1, 0]*X^{4}_9[0, 2])/2 - im(X^{4}_6[1, 1]*X^{4}_9[1, 2])/2 + im(X^{4}_6[1, 2]*X^{4}_9[1, 1])/2 - im(X^{4}_6[1, 2]*X^{4}_9[2, 2])/2 + im(X^{4}_6[2, 2]*X^{4}_9[1, 2])/2 + im(X^{4}_7[0, 2]*X^{4}_8[1, 0])/2 - im(X^{4}_7[1, 0]*X^{4}_8[0, 2])/2 - im(X^{4}_7[1, 1]*X^{4}_8[1, 2])/2 + im(X^{4}_7[1, 2]*X^{4}_8[1, 1])/2 - im(X^{4}_7[1, 2]*X^{4}_8[2, 2])/2 + im(X^{4}_7[2, 2]*X^{4}_8[1, 2])/2) + 4*Q^{14}_1*(P^{14}_1*Q^{41}_2 + P^{41}_2*Q^{14}_1 - re(X^{4}_6[0, 0]*X^{4}_9[1, 0])/2 + re(X^{4}_6[1, 0]*X^{4}_9[0, 0])/2 - re(X^{4}_6[1, 0]*X^{4}_9[1, 1])/2 + re(X^{4}_6[1, 1]*X^{4}_9[1, 0])/2 + re(X^{4}_6[1, 2]*X^{4}_9[2, 0])/2 - re(X^{4}_6[2, 0]*X^{4}_9[1, 2])/2 - re(X^{4}_7[0, 0]*X^{4}_8[1, 0])/2 + re(X^{4}_7[1, 0]*X^{4}_8[0, 0])/2 - re(X^{4}_7[1, 0]*X^{4}_8[1, 1])/2 + re(X^{4}_7[1, 1]*X^{4}_8[1, 0])/2 + re(X^{4}_7[1, 2]*X^{4}_8[2, 0])/2 - re(X^{4}_7[2, 0]*X^{4}_8[1, 2])/2 - im(X^{4}_6[0, 0]*X^{4}_8[1, 0])/2 + im(X^{4}_6[1, 0]*X^{4}_8[0, 0])/2 - im(X^{4}_6[1, 0]*X^{4}_8[1, 1])/2 + im(X^{4}_6[1, 1]*X^{4}_8[1, 0])/2 + im(X^{4}_6[1, 2]*X^{4}_8[2, 0])/2 - im(X^{4}_6[2, 0]*X^{4}_8[1, 2])/2 + im(X^{4}_7[0, 0]*X^{4}_9[1, 0])/2 - im(X^{4}_7[1, 0]*X^{4}_9[0, 0])/2 + im(X^{4}_7[1, 0]*X^{4}_9[1, 1])/2 - im(X^{4}_7[1, 1]*X^{4}_9[1, 0])/2 - im(X^{4}_7[1, 2]*X^{4}_9[2, 0])/2 + im(X^{4}_7[2, 0]*X^{4}_9[1, 2])/2) + 4*Q^{14}_2*(P^{14}_1*Q^{41}_1 + P^{14}_2*Q^{41}_2 + P^{14}_3*Q^{41}_3 + P^{41}_1*Q^{14}_1 + P^{41}_2*Q^{14}_2 + P^{41}_3*Q^{14}_3 + 3*im(c^{14})/g**2) + 4*Q^{14}_2*(P^{14}_2*Q^{41}_2 + P^{41}_2*Q^{14}_2 - re(X^{4}_6[0, 1]*X^{4}_9[1, 0])/2 + re(X^{4}_6[1, 0]*X^{4}_9[0, 1])/2 + re(X^{4}_6[1, 2]*X^{4}_9[2, 1])/2 - re(X^{4}_6[2, 1]*X^{4}_9[1, 2])/2 - re(X^{4}_7[0, 1]*X^{4}_8[1, 0])/2 + re(X^{4}_7[1, 0]*X^{4}_8[0, 1])/2 + re(X^{4}_7[1, 2]*X^{4}_8[2, 1])/2 - re(X^{4}_7[2, 1]*X^{4}_8[1, 2])/2 - im(X^{4}_6[0, 1]*X^{4}_8[1, 0])/2 + im(X^{4}_6[1, 0]*X^{4}_8[0, 1])/2 + im(X^{4}_6[1, 2]*X^{4}_8[2, 1])/2 - im(X^{4}_6[2, 1]*X^{4}_8[1, 2])/2 + im(X^{4}_7[0, 1]*X^{4}_9[1, 0])/2 - im(X^{4}_7[1, 0]*X^{4}_9[0, 1])/2 - im(X^{4}_7[1, 2]*X^{4}_9[2, 1])/2 + im(X^{4}_7[2, 1]*X^{4}_9[1, 2])/2 + im(c^{41})/g**2) + 4*Q^{14}_3*(P^{14}_3*Q^{41}_2 + P^{41}_2*Q^{14}_3 - re(X^{4}_6[0, 2]*X^{4}_9[1, 0])/2 + re(X^{4}_6[1, 0]*X^{4}_9[0, 2])/2 + re(X^{4}_6[1, 1]*X^{4}_9[1, 2])/2 - re(X^{4}_6[1, 2]*X^{4}_9[1, 1])/2 + re(X^{4}_6[1, 2]*X^{4}_9[2, 2])/2 - re(X^{4}_6[2, 2]*X^{4}_9[1, 2])/2 - re(X^{4}_7[0, 2]*X^{4}_8[1, 0])/2 + re(X^{4}_7[1, 0]*X^{4}_8[0, 2])/2 + re(X^{4}_7[1, 1]*X^{4}_8[1, 2])/2 - re(X^{4}_7[1, 2]*X^{4}_8[1, 1])/2 + re(X^{4}_7[1, 2]*X^{4}_8[2, 2])/2 - re(X^{4}_7[2, 2]*X^{4}_8[1, 2])/2 - im(X^{4}_6[0, 2]*X^{4}_8[1, 0])/2 + im(X^{4}_6[1, 0]*X^{4}_8[0, 2])/2 + im(X^{4}_6[1, 1]*X^{4}_8[1, 2])/2 - im(X^{4}_6[1, 2]*X^{4}_8[1, 1])/2 + im(X^{4}_6[1, 2]*X^{4}_8[2, 2])/2 - im(X^{4}_6[2, 2]*X^{4}_8[1, 2])/2 + im(X^{4}_7[0, 2]*X^{4}_9[1, 0])/2 - im(X^{4}_7[1, 0]*X^{4}_9[0, 2])/2 - im(X^{4}_7[1, 1]*X^{4}_9[1, 2])/2 + im(X^{4}_7[1, 2]*X^{4}_9[1, 1])/2 - im(X^{4}_7[1, 2]*X^{4}_9[2, 2])/2 + im(X^{4}_7[2, 2]*X^{4}_9[1, 2])/2)],\n",
       "[4*P^{14}_1*(P^{14}_1*P^{41}_3 - Q^{14}_1*Q^{41}_3 - re(X^{4}_6[0, 0]*X^{4}_8[2, 0])/2 - re(X^{4}_6[1, 0]*X^{4}_8[2, 1])/2 + re(X^{4}_6[2, 0]*X^{4}_8[0, 0])/2 - re(X^{4}_6[2, 0]*X^{4}_8[2, 2])/2 + re(X^{4}_6[2, 1]*X^{4}_8[1, 0])/2 + re(X^{4}_6[2, 2]*X^{4}_8[2, 0])/2 + re(X^{4}_7[0, 0]*X^{4}_9[2, 0])/2 + re(X^{4}_7[1, 0]*X^{4}_9[2, 1])/2 - re(X^{4}_7[2, 0]*X^{4}_9[0, 0])/2 + re(X^{4}_7[2, 0]*X^{4}_9[2, 2])/2 - re(X^{4}_7[2, 1]*X^{4}_9[1, 0])/2 - re(X^{4}_7[2, 2]*X^{4}_9[2, 0])/2 + im(X^{4}_6[0, 0]*X^{4}_9[2, 0])/2 + im(X^{4}_6[1, 0]*X^{4}_9[2, 1])/2 - im(X^{4}_6[2, 0]*X^{4}_9[0, 0])/2 + im(X^{4}_6[2, 0]*X^{4}_9[2, 2])/2 - im(X^{4}_6[2, 1]*X^{4}_9[1, 0])/2 - im(X^{4}_6[2, 2]*X^{4}_9[2, 0])/2 + im(X^{4}_7[0, 0]*X^{4}_8[2, 0])/2 + im(X^{4}_7[1, 0]*X^{4}_8[2, 1])/2 - im(X^{4}_7[2, 0]*X^{4}_8[0, 0])/2 + im(X^{4}_7[2, 0]*X^{4}_8[2, 2])/2 - im(X^{4}_7[2, 1]*X^{4}_8[1, 0])/2 - im(X^{4}_7[2, 2]*X^{4}_8[2, 0])/2) + 4*P^{14}_2*(P^{14}_2*P^{41}_3 - Q^{14}_2*Q^{41}_3 - re(X^{4}_6[0, 1]*X^{4}_8[2, 0])/2 - re(X^{4}_6[1, 1]*X^{4}_8[2, 1])/2 + re(X^{4}_6[2, 0]*X^{4}_8[0, 1])/2 + re(X^{4}_6[2, 1]*X^{4}_8[1, 1])/2 - re(X^{4}_6[2, 1]*X^{4}_8[2, 2])/2 + re(X^{4}_6[2, 2]*X^{4}_8[2, 1])/2 + re(X^{4}_7[0, 1]*X^{4}_9[2, 0])/2 + re(X^{4}_7[1, 1]*X^{4}_9[2, 1])/2 - re(X^{4}_7[2, 0]*X^{4}_9[0, 1])/2 - re(X^{4}_7[2, 1]*X^{4}_9[1, 1])/2 + re(X^{4}_7[2, 1]*X^{4}_9[2, 2])/2 - re(X^{4}_7[2, 2]*X^{4}_9[2, 1])/2 + im(X^{4}_6[0, 1]*X^{4}_9[2, 0])/2 + im(X^{4}_6[1, 1]*X^{4}_9[2, 1])/2 - im(X^{4}_6[2, 0]*X^{4}_9[0, 1])/2 - im(X^{4}_6[2, 1]*X^{4}_9[1, 1])/2 + im(X^{4}_6[2, 1]*X^{4}_9[2, 2])/2 - im(X^{4}_6[2, 2]*X^{4}_9[2, 1])/2 + im(X^{4}_7[0, 1]*X^{4}_8[2, 0])/2 + im(X^{4}_7[1, 1]*X^{4}_8[2, 1])/2 - im(X^{4}_7[2, 0]*X^{4}_8[0, 1])/2 - im(X^{4}_7[2, 1]*X^{4}_8[1, 1])/2 + im(X^{4}_7[2, 1]*X^{4}_8[2, 2])/2 - im(X^{4}_7[2, 2]*X^{4}_8[2, 1])/2) + 4*P^{14}_3*(P^{14}_1*P^{41}_1 + P^{14}_2*P^{41}_2 + P^{14}_3*P^{41}_3 - Q^{14}_1*Q^{41}_1 - Q^{14}_2*Q^{41}_2 - Q^{14}_3*Q^{41}_3 + 3*re(c^{14})/g**2) + 4*P^{14}_3*(P^{14}_3*P^{41}_3 - Q^{14}_3*Q^{41}_3 - re(X^{4}_6[0, 2]*X^{4}_8[2, 0])/2 - re(X^{4}_6[1, 2]*X^{4}_8[2, 1])/2 + re(X^{4}_6[2, 0]*X^{4}_8[0, 2])/2 + re(X^{4}_6[2, 1]*X^{4}_8[1, 2])/2 + re(X^{4}_7[0, 2]*X^{4}_9[2, 0])/2 + re(X^{4}_7[1, 2]*X^{4}_9[2, 1])/2 - re(X^{4}_7[2, 0]*X^{4}_9[0, 2])/2 - re(X^{4}_7[2, 1]*X^{4}_9[1, 2])/2 + im(X^{4}_6[0, 2]*X^{4}_9[2, 0])/2 + im(X^{4}_6[1, 2]*X^{4}_9[2, 1])/2 - im(X^{4}_6[2, 0]*X^{4}_9[0, 2])/2 - im(X^{4}_6[2, 1]*X^{4}_9[1, 2])/2 + im(X^{4}_7[0, 2]*X^{4}_8[2, 0])/2 + im(X^{4}_7[1, 2]*X^{4}_8[2, 1])/2 - im(X^{4}_7[2, 0]*X^{4}_8[0, 2])/2 - im(X^{4}_7[2, 1]*X^{4}_8[1, 2])/2 + re(c^{41})/g**2) + 4*Q^{14}_1*(P^{14}_1*Q^{41}_3 + P^{41}_3*Q^{14}_1 - re(X^{4}_6[0, 0]*X^{4}_9[2, 0])/2 - re(X^{4}_6[1, 0]*X^{4}_9[2, 1])/2 + re(X^{4}_6[2, 0]*X^{4}_9[0, 0])/2 - re(X^{4}_6[2, 0]*X^{4}_9[2, 2])/2 + re(X^{4}_6[2, 1]*X^{4}_9[1, 0])/2 + re(X^{4}_6[2, 2]*X^{4}_9[2, 0])/2 - re(X^{4}_7[0, 0]*X^{4}_8[2, 0])/2 - re(X^{4}_7[1, 0]*X^{4}_8[2, 1])/2 + re(X^{4}_7[2, 0]*X^{4}_8[0, 0])/2 - re(X^{4}_7[2, 0]*X^{4}_8[2, 2])/2 + re(X^{4}_7[2, 1]*X^{4}_8[1, 0])/2 + re(X^{4}_7[2, 2]*X^{4}_8[2, 0])/2 - im(X^{4}_6[0, 0]*X^{4}_8[2, 0])/2 - im(X^{4}_6[1, 0]*X^{4}_8[2, 1])/2 + im(X^{4}_6[2, 0]*X^{4}_8[0, 0])/2 - im(X^{4}_6[2, 0]*X^{4}_8[2, 2])/2 + im(X^{4}_6[2, 1]*X^{4}_8[1, 0])/2 + im(X^{4}_6[2, 2]*X^{4}_8[2, 0])/2 + im(X^{4}_7[0, 0]*X^{4}_9[2, 0])/2 + im(X^{4}_7[1, 0]*X^{4}_9[2, 1])/2 - im(X^{4}_7[2, 0]*X^{4}_9[0, 0])/2 + im(X^{4}_7[2, 0]*X^{4}_9[2, 2])/2 - im(X^{4}_7[2, 1]*X^{4}_9[1, 0])/2 - im(X^{4}_7[2, 2]*X^{4}_9[2, 0])/2) + 4*Q^{14}_2*(P^{14}_2*Q^{41}_3 + P^{41}_3*Q^{14}_2 - re(X^{4}_6[0, 1]*X^{4}_9[2, 0])/2 - re(X^{4}_6[1, 1]*X^{4}_9[2, 1])/2 + re(X^{4}_6[2, 0]*X^{4}_9[0, 1])/2 + re(X^{4}_6[2, 1]*X^{4}_9[1, 1])/2 - re(X^{4}_6[2, 1]*X^{4}_9[2, 2])/2 + re(X^{4}_6[2, 2]*X^{4}_9[2, 1])/2 - re(X^{4}_7[0, 1]*X^{4}_8[2, 0])/2 - re(X^{4}_7[1, 1]*X^{4}_8[2, 1])/2 + re(X^{4}_7[2, 0]*X^{4}_8[0, 1])/2 + re(X^{4}_7[2, 1]*X^{4}_8[1, 1])/2 - re(X^{4}_7[2, 1]*X^{4}_8[2, 2])/2 + re(X^{4}_7[2, 2]*X^{4}_8[2, 1])/2 - im(X^{4}_6[0, 1]*X^{4}_8[2, 0])/2 - im(X^{4}_6[1, 1]*X^{4}_8[2, 1])/2 + im(X^{4}_6[2, 0]*X^{4}_8[0, 1])/2 + im(X^{4}_6[2, 1]*X^{4}_8[1, 1])/2 - im(X^{4}_6[2, 1]*X^{4}_8[2, 2])/2 + im(X^{4}_6[2, 2]*X^{4}_8[2, 1])/2 + im(X^{4}_7[0, 1]*X^{4}_9[2, 0])/2 + im(X^{4}_7[1, 1]*X^{4}_9[2, 1])/2 - im(X^{4}_7[2, 0]*X^{4}_9[0, 1])/2 - im(X^{4}_7[2, 1]*X^{4}_9[1, 1])/2 + im(X^{4}_7[2, 1]*X^{4}_9[2, 2])/2 - im(X^{4}_7[2, 2]*X^{4}_9[2, 1])/2) + 4*Q^{14}_3*(P^{14}_1*Q^{41}_1 + P^{14}_2*Q^{41}_2 + P^{14}_3*Q^{41}_3 + P^{41}_1*Q^{14}_1 + P^{41}_2*Q^{14}_2 + P^{41}_3*Q^{14}_3 + 3*im(c^{14})/g**2) + 4*Q^{14}_3*(P^{14}_3*Q^{41}_3 + P^{41}_3*Q^{14}_3 - re(X^{4}_6[0, 2]*X^{4}_9[2, 0])/2 - re(X^{4}_6[1, 2]*X^{4}_9[2, 1])/2 + re(X^{4}_6[2, 0]*X^{4}_9[0, 2])/2 + re(X^{4}_6[2, 1]*X^{4}_9[1, 2])/2 - re(X^{4}_7[0, 2]*X^{4}_8[2, 0])/2 - re(X^{4}_7[1, 2]*X^{4}_8[2, 1])/2 + re(X^{4}_7[2, 0]*X^{4}_8[0, 2])/2 + re(X^{4}_7[2, 1]*X^{4}_8[1, 2])/2 - im(X^{4}_6[0, 2]*X^{4}_8[2, 0])/2 - im(X^{4}_6[1, 2]*X^{4}_8[2, 1])/2 + im(X^{4}_6[2, 0]*X^{4}_8[0, 2])/2 + im(X^{4}_6[2, 1]*X^{4}_8[1, 2])/2 + im(X^{4}_7[0, 2]*X^{4}_9[2, 0])/2 + im(X^{4}_7[1, 2]*X^{4}_9[2, 1])/2 - im(X^{4}_7[2, 0]*X^{4}_9[0, 2])/2 - im(X^{4}_7[2, 1]*X^{4}_9[1, 2])/2 + im(c^{41})/g**2)]])"
      ]
     },
     "execution_count": 297,
     "metadata": {},
     "output_type": "execute_result"
    }
   ],
   "source": [
    "V_F = 2*(Fsum1 + Fsum2 + Fsum3)\n",
    "V_F.diff(sp.re(Z[\"41\"]))"
   ]
  },
  {
   "cell_type": "code",
   "execution_count": 298,
   "id": "da8864dd",
   "metadata": {},
   "outputs": [
    {
     "data": {
      "text/latex": [
       "$\\displaystyle 4 P^{14}_1 \\left(P^{14}_1 P^{41}_1 + P^{14}_2 P^{41}_2 + P^{14}_3 P^{41}_3 - Q^{14}_1 Q^{41}_1 - Q^{14}_2 Q^{41}_2 - Q^{14}_3 Q^{41}_3 + \\frac{3 \\operatorname{re}{\\left(c^{14}\\right)}}{g^{2}}\\right) + 4 P^{14}_1 \\left(P^{14}_1 P^{41}_1 - Q^{14}_1 Q^{41}_1 + \\frac{\\operatorname{re}{\\left(X^{4}_6_{0, 1} X^{4}_8_{1, 0}\\right)}}{2} + \\frac{\\operatorname{re}{\\left(X^{4}_6_{0, 2} X^{4}_8_{2, 0}\\right)}}{2} - \\frac{\\operatorname{re}{\\left(X^{4}_6_{1, 0} X^{4}_8_{0, 1}\\right)}}{2} - \\frac{\\operatorname{re}{\\left(X^{4}_6_{2, 0} X^{4}_8_{0, 2}\\right)}}{2} - \\frac{\\operatorname{re}{\\left(X^{4}_7_{0, 1} X^{4}_9_{1, 0}\\right)}}{2} - \\frac{\\operatorname{re}{\\left(X^{4}_7_{0, 2} X^{4}_9_{2, 0}\\right)}}{2} + \\frac{\\operatorname{re}{\\left(X^{4}_7_{1, 0} X^{4}_9_{0, 1}\\right)}}{2} + \\frac{\\operatorname{re}{\\left(X^{4}_7_{2, 0} X^{4}_9_{0, 2}\\right)}}{2} - \\frac{\\operatorname{im}{\\left(X^{4}_6_{0, 1} X^{4}_9_{1, 0}\\right)}}{2} - \\frac{\\operatorname{im}{\\left(X^{4}_6_{0, 2} X^{4}_9_{2, 0}\\right)}}{2} + \\frac{\\operatorname{im}{\\left(X^{4}_6_{1, 0} X^{4}_9_{0, 1}\\right)}}{2} + \\frac{\\operatorname{im}{\\left(X^{4}_6_{2, 0} X^{4}_9_{0, 2}\\right)}}{2} - \\frac{\\operatorname{im}{\\left(X^{4}_7_{0, 1} X^{4}_8_{1, 0}\\right)}}{2} - \\frac{\\operatorname{im}{\\left(X^{4}_7_{0, 2} X^{4}_8_{2, 0}\\right)}}{2} + \\frac{\\operatorname{im}{\\left(X^{4}_7_{1, 0} X^{4}_8_{0, 1}\\right)}}{2} + \\frac{\\operatorname{im}{\\left(X^{4}_7_{2, 0} X^{4}_8_{0, 2}\\right)}}{2} + \\frac{\\operatorname{re}{\\left(c^{41}\\right)}}{g^{2}}\\right) + 4 P^{14}_2 \\left(P^{14}_2 P^{41}_1 - Q^{14}_2 Q^{41}_1 + \\frac{\\operatorname{re}{\\left(X^{4}_6_{0, 0} X^{4}_8_{0, 1}\\right)}}{2} - \\frac{\\operatorname{re}{\\left(X^{4}_6_{0, 1} X^{4}_8_{0, 0}\\right)}}{2} + \\frac{\\operatorname{re}{\\left(X^{4}_6_{0, 1} X^{4}_8_{1, 1}\\right)}}{2} + \\frac{\\operatorname{re}{\\left(X^{4}_6_{0, 2} X^{4}_8_{2, 1}\\right)}}{2} - \\frac{\\operatorname{re}{\\left(X^{4}_6_{1, 1} X^{4}_8_{0, 1}\\right)}}{2} - \\frac{\\operatorname{re}{\\left(X^{4}_6_{2, 1} X^{4}_8_{0, 2}\\right)}}{2} - \\frac{\\operatorname{re}{\\left(X^{4}_7_{0, 0} X^{4}_9_{0, 1}\\right)}}{2} + \\frac{\\operatorname{re}{\\left(X^{4}_7_{0, 1} X^{4}_9_{0, 0}\\right)}}{2} - \\frac{\\operatorname{re}{\\left(X^{4}_7_{0, 1} X^{4}_9_{1, 1}\\right)}}{2} - \\frac{\\operatorname{re}{\\left(X^{4}_7_{0, 2} X^{4}_9_{2, 1}\\right)}}{2} + \\frac{\\operatorname{re}{\\left(X^{4}_7_{1, 1} X^{4}_9_{0, 1}\\right)}}{2} + \\frac{\\operatorname{re}{\\left(X^{4}_7_{2, 1} X^{4}_9_{0, 2}\\right)}}{2} - \\frac{\\operatorname{im}{\\left(X^{4}_6_{0, 0} X^{4}_9_{0, 1}\\right)}}{2} + \\frac{\\operatorname{im}{\\left(X^{4}_6_{0, 1} X^{4}_9_{0, 0}\\right)}}{2} - \\frac{\\operatorname{im}{\\left(X^{4}_6_{0, 1} X^{4}_9_{1, 1}\\right)}}{2} - \\frac{\\operatorname{im}{\\left(X^{4}_6_{0, 2} X^{4}_9_{2, 1}\\right)}}{2} + \\frac{\\operatorname{im}{\\left(X^{4}_6_{1, 1} X^{4}_9_{0, 1}\\right)}}{2} + \\frac{\\operatorname{im}{\\left(X^{4}_6_{2, 1} X^{4}_9_{0, 2}\\right)}}{2} - \\frac{\\operatorname{im}{\\left(X^{4}_7_{0, 0} X^{4}_8_{0, 1}\\right)}}{2} + \\frac{\\operatorname{im}{\\left(X^{4}_7_{0, 1} X^{4}_8_{0, 0}\\right)}}{2} - \\frac{\\operatorname{im}{\\left(X^{4}_7_{0, 1} X^{4}_8_{1, 1}\\right)}}{2} - \\frac{\\operatorname{im}{\\left(X^{4}_7_{0, 2} X^{4}_8_{2, 1}\\right)}}{2} + \\frac{\\operatorname{im}{\\left(X^{4}_7_{1, 1} X^{4}_8_{0, 1}\\right)}}{2} + \\frac{\\operatorname{im}{\\left(X^{4}_7_{2, 1} X^{4}_8_{0, 2}\\right)}}{2}\\right) + 4 P^{14}_3 \\left(P^{14}_3 P^{41}_1 - Q^{14}_3 Q^{41}_1 + \\frac{\\operatorname{re}{\\left(X^{4}_6_{0, 0} X^{4}_8_{0, 2}\\right)}}{2} + \\frac{\\operatorname{re}{\\left(X^{4}_6_{0, 1} X^{4}_8_{1, 2}\\right)}}{2} - \\frac{\\operatorname{re}{\\left(X^{4}_6_{0, 2} X^{4}_8_{0, 0}\\right)}}{2} + \\frac{\\operatorname{re}{\\left(X^{4}_6_{0, 2} X^{4}_8_{2, 2}\\right)}}{2} - \\frac{\\operatorname{re}{\\left(X^{4}_6_{1, 2} X^{4}_8_{0, 1}\\right)}}{2} - \\frac{\\operatorname{re}{\\left(X^{4}_6_{2, 2} X^{4}_8_{0, 2}\\right)}}{2} - \\frac{\\operatorname{re}{\\left(X^{4}_7_{0, 0} X^{4}_9_{0, 2}\\right)}}{2} - \\frac{\\operatorname{re}{\\left(X^{4}_7_{0, 1} X^{4}_9_{1, 2}\\right)}}{2} + \\frac{\\operatorname{re}{\\left(X^{4}_7_{0, 2} X^{4}_9_{0, 0}\\right)}}{2} - \\frac{\\operatorname{re}{\\left(X^{4}_7_{0, 2} X^{4}_9_{2, 2}\\right)}}{2} + \\frac{\\operatorname{re}{\\left(X^{4}_7_{1, 2} X^{4}_9_{0, 1}\\right)}}{2} + \\frac{\\operatorname{re}{\\left(X^{4}_7_{2, 2} X^{4}_9_{0, 2}\\right)}}{2} - \\frac{\\operatorname{im}{\\left(X^{4}_6_{0, 0} X^{4}_9_{0, 2}\\right)}}{2} - \\frac{\\operatorname{im}{\\left(X^{4}_6_{0, 1} X^{4}_9_{1, 2}\\right)}}{2} + \\frac{\\operatorname{im}{\\left(X^{4}_6_{0, 2} X^{4}_9_{0, 0}\\right)}}{2} - \\frac{\\operatorname{im}{\\left(X^{4}_6_{0, 2} X^{4}_9_{2, 2}\\right)}}{2} + \\frac{\\operatorname{im}{\\left(X^{4}_6_{1, 2} X^{4}_9_{0, 1}\\right)}}{2} + \\frac{\\operatorname{im}{\\left(X^{4}_6_{2, 2} X^{4}_9_{0, 2}\\right)}}{2} - \\frac{\\operatorname{im}{\\left(X^{4}_7_{0, 0} X^{4}_8_{0, 2}\\right)}}{2} - \\frac{\\operatorname{im}{\\left(X^{4}_7_{0, 1} X^{4}_8_{1, 2}\\right)}}{2} + \\frac{\\operatorname{im}{\\left(X^{4}_7_{0, 2} X^{4}_8_{0, 0}\\right)}}{2} - \\frac{\\operatorname{im}{\\left(X^{4}_7_{0, 2} X^{4}_8_{2, 2}\\right)}}{2} + \\frac{\\operatorname{im}{\\left(X^{4}_7_{1, 2} X^{4}_8_{0, 1}\\right)}}{2} + \\frac{\\operatorname{im}{\\left(X^{4}_7_{2, 2} X^{4}_8_{0, 2}\\right)}}{2}\\right) + 4 Q^{14}_1 \\left(P^{14}_1 Q^{41}_1 + P^{14}_2 Q^{41}_2 + P^{14}_3 Q^{41}_3 + P^{41}_1 Q^{14}_1 + P^{41}_2 Q^{14}_2 + P^{41}_3 Q^{14}_3 + \\frac{3 \\operatorname{im}{\\left(c^{14}\\right)}}{g^{2}}\\right) + 4 Q^{14}_1 \\left(P^{14}_1 Q^{41}_1 + P^{41}_1 Q^{14}_1 + \\frac{\\operatorname{re}{\\left(X^{4}_6_{0, 1} X^{4}_9_{1, 0}\\right)}}{2} + \\frac{\\operatorname{re}{\\left(X^{4}_6_{0, 2} X^{4}_9_{2, 0}\\right)}}{2} - \\frac{\\operatorname{re}{\\left(X^{4}_6_{1, 0} X^{4}_9_{0, 1}\\right)}}{2} - \\frac{\\operatorname{re}{\\left(X^{4}_6_{2, 0} X^{4}_9_{0, 2}\\right)}}{2} + \\frac{\\operatorname{re}{\\left(X^{4}_7_{0, 1} X^{4}_8_{1, 0}\\right)}}{2} + \\frac{\\operatorname{re}{\\left(X^{4}_7_{0, 2} X^{4}_8_{2, 0}\\right)}}{2} - \\frac{\\operatorname{re}{\\left(X^{4}_7_{1, 0} X^{4}_8_{0, 1}\\right)}}{2} - \\frac{\\operatorname{re}{\\left(X^{4}_7_{2, 0} X^{4}_8_{0, 2}\\right)}}{2} + \\frac{\\operatorname{im}{\\left(X^{4}_6_{0, 1} X^{4}_8_{1, 0}\\right)}}{2} + \\frac{\\operatorname{im}{\\left(X^{4}_6_{0, 2} X^{4}_8_{2, 0}\\right)}}{2} - \\frac{\\operatorname{im}{\\left(X^{4}_6_{1, 0} X^{4}_8_{0, 1}\\right)}}{2} - \\frac{\\operatorname{im}{\\left(X^{4}_6_{2, 0} X^{4}_8_{0, 2}\\right)}}{2} - \\frac{\\operatorname{im}{\\left(X^{4}_7_{0, 1} X^{4}_9_{1, 0}\\right)}}{2} - \\frac{\\operatorname{im}{\\left(X^{4}_7_{0, 2} X^{4}_9_{2, 0}\\right)}}{2} + \\frac{\\operatorname{im}{\\left(X^{4}_7_{1, 0} X^{4}_9_{0, 1}\\right)}}{2} + \\frac{\\operatorname{im}{\\left(X^{4}_7_{2, 0} X^{4}_9_{0, 2}\\right)}}{2} + \\frac{\\operatorname{im}{\\left(c^{41}\\right)}}{g^{2}}\\right) + 4 Q^{14}_2 \\left(P^{14}_2 Q^{41}_1 + P^{41}_1 Q^{14}_2 + \\frac{\\operatorname{re}{\\left(X^{4}_6_{0, 0} X^{4}_9_{0, 1}\\right)}}{2} - \\frac{\\operatorname{re}{\\left(X^{4}_6_{0, 1} X^{4}_9_{0, 0}\\right)}}{2} + \\frac{\\operatorname{re}{\\left(X^{4}_6_{0, 1} X^{4}_9_{1, 1}\\right)}}{2} + \\frac{\\operatorname{re}{\\left(X^{4}_6_{0, 2} X^{4}_9_{2, 1}\\right)}}{2} - \\frac{\\operatorname{re}{\\left(X^{4}_6_{1, 1} X^{4}_9_{0, 1}\\right)}}{2} - \\frac{\\operatorname{re}{\\left(X^{4}_6_{2, 1} X^{4}_9_{0, 2}\\right)}}{2} + \\frac{\\operatorname{re}{\\left(X^{4}_7_{0, 0} X^{4}_8_{0, 1}\\right)}}{2} - \\frac{\\operatorname{re}{\\left(X^{4}_7_{0, 1} X^{4}_8_{0, 0}\\right)}}{2} + \\frac{\\operatorname{re}{\\left(X^{4}_7_{0, 1} X^{4}_8_{1, 1}\\right)}}{2} + \\frac{\\operatorname{re}{\\left(X^{4}_7_{0, 2} X^{4}_8_{2, 1}\\right)}}{2} - \\frac{\\operatorname{re}{\\left(X^{4}_7_{1, 1} X^{4}_8_{0, 1}\\right)}}{2} - \\frac{\\operatorname{re}{\\left(X^{4}_7_{2, 1} X^{4}_8_{0, 2}\\right)}}{2} + \\frac{\\operatorname{im}{\\left(X^{4}_6_{0, 0} X^{4}_8_{0, 1}\\right)}}{2} - \\frac{\\operatorname{im}{\\left(X^{4}_6_{0, 1} X^{4}_8_{0, 0}\\right)}}{2} + \\frac{\\operatorname{im}{\\left(X^{4}_6_{0, 1} X^{4}_8_{1, 1}\\right)}}{2} + \\frac{\\operatorname{im}{\\left(X^{4}_6_{0, 2} X^{4}_8_{2, 1}\\right)}}{2} - \\frac{\\operatorname{im}{\\left(X^{4}_6_{1, 1} X^{4}_8_{0, 1}\\right)}}{2} - \\frac{\\operatorname{im}{\\left(X^{4}_6_{2, 1} X^{4}_8_{0, 2}\\right)}}{2} - \\frac{\\operatorname{im}{\\left(X^{4}_7_{0, 0} X^{4}_9_{0, 1}\\right)}}{2} + \\frac{\\operatorname{im}{\\left(X^{4}_7_{0, 1} X^{4}_9_{0, 0}\\right)}}{2} - \\frac{\\operatorname{im}{\\left(X^{4}_7_{0, 1} X^{4}_9_{1, 1}\\right)}}{2} - \\frac{\\operatorname{im}{\\left(X^{4}_7_{0, 2} X^{4}_9_{2, 1}\\right)}}{2} + \\frac{\\operatorname{im}{\\left(X^{4}_7_{1, 1} X^{4}_9_{0, 1}\\right)}}{2} + \\frac{\\operatorname{im}{\\left(X^{4}_7_{2, 1} X^{4}_9_{0, 2}\\right)}}{2}\\right) + 4 Q^{14}_3 \\left(P^{14}_3 Q^{41}_1 + P^{41}_1 Q^{14}_3 + \\frac{\\operatorname{re}{\\left(X^{4}_6_{0, 0} X^{4}_9_{0, 2}\\right)}}{2} + \\frac{\\operatorname{re}{\\left(X^{4}_6_{0, 1} X^{4}_9_{1, 2}\\right)}}{2} - \\frac{\\operatorname{re}{\\left(X^{4}_6_{0, 2} X^{4}_9_{0, 0}\\right)}}{2} + \\frac{\\operatorname{re}{\\left(X^{4}_6_{0, 2} X^{4}_9_{2, 2}\\right)}}{2} - \\frac{\\operatorname{re}{\\left(X^{4}_6_{1, 2} X^{4}_9_{0, 1}\\right)}}{2} - \\frac{\\operatorname{re}{\\left(X^{4}_6_{2, 2} X^{4}_9_{0, 2}\\right)}}{2} + \\frac{\\operatorname{re}{\\left(X^{4}_7_{0, 0} X^{4}_8_{0, 2}\\right)}}{2} + \\frac{\\operatorname{re}{\\left(X^{4}_7_{0, 1} X^{4}_8_{1, 2}\\right)}}{2} - \\frac{\\operatorname{re}{\\left(X^{4}_7_{0, 2} X^{4}_8_{0, 0}\\right)}}{2} + \\frac{\\operatorname{re}{\\left(X^{4}_7_{0, 2} X^{4}_8_{2, 2}\\right)}}{2} - \\frac{\\operatorname{re}{\\left(X^{4}_7_{1, 2} X^{4}_8_{0, 1}\\right)}}{2} - \\frac{\\operatorname{re}{\\left(X^{4}_7_{2, 2} X^{4}_8_{0, 2}\\right)}}{2} + \\frac{\\operatorname{im}{\\left(X^{4}_6_{0, 0} X^{4}_8_{0, 2}\\right)}}{2} + \\frac{\\operatorname{im}{\\left(X^{4}_6_{0, 1} X^{4}_8_{1, 2}\\right)}}{2} - \\frac{\\operatorname{im}{\\left(X^{4}_6_{0, 2} X^{4}_8_{0, 0}\\right)}}{2} + \\frac{\\operatorname{im}{\\left(X^{4}_6_{0, 2} X^{4}_8_{2, 2}\\right)}}{2} - \\frac{\\operatorname{im}{\\left(X^{4}_6_{1, 2} X^{4}_8_{0, 1}\\right)}}{2} - \\frac{\\operatorname{im}{\\left(X^{4}_6_{2, 2} X^{4}_8_{0, 2}\\right)}}{2} - \\frac{\\operatorname{im}{\\left(X^{4}_7_{0, 0} X^{4}_9_{0, 2}\\right)}}{2} - \\frac{\\operatorname{im}{\\left(X^{4}_7_{0, 1} X^{4}_9_{1, 2}\\right)}}{2} + \\frac{\\operatorname{im}{\\left(X^{4}_7_{0, 2} X^{4}_9_{0, 0}\\right)}}{2} - \\frac{\\operatorname{im}{\\left(X^{4}_7_{0, 2} X^{4}_9_{2, 2}\\right)}}{2} + \\frac{\\operatorname{im}{\\left(X^{4}_7_{1, 2} X^{4}_9_{0, 1}\\right)}}{2} + \\frac{\\operatorname{im}{\\left(X^{4}_7_{2, 2} X^{4}_9_{0, 2}\\right)}}{2}\\right)$"
      ],
      "text/plain": [
       "4*P^{14}_1*(P^{14}_1*P^{41}_1 + P^{14}_2*P^{41}_2 + P^{14}_3*P^{41}_3 - Q^{14}_1*Q^{41}_1 - Q^{14}_2*Q^{41}_2 - Q^{14}_3*Q^{41}_3 + 3*re(c^{14})/g**2) + 4*P^{14}_1*(P^{14}_1*P^{41}_1 - Q^{14}_1*Q^{41}_1 + re(X^{4}_6[0, 1]*X^{4}_8[1, 0])/2 + re(X^{4}_6[0, 2]*X^{4}_8[2, 0])/2 - re(X^{4}_6[1, 0]*X^{4}_8[0, 1])/2 - re(X^{4}_6[2, 0]*X^{4}_8[0, 2])/2 - re(X^{4}_7[0, 1]*X^{4}_9[1, 0])/2 - re(X^{4}_7[0, 2]*X^{4}_9[2, 0])/2 + re(X^{4}_7[1, 0]*X^{4}_9[0, 1])/2 + re(X^{4}_7[2, 0]*X^{4}_9[0, 2])/2 - im(X^{4}_6[0, 1]*X^{4}_9[1, 0])/2 - im(X^{4}_6[0, 2]*X^{4}_9[2, 0])/2 + im(X^{4}_6[1, 0]*X^{4}_9[0, 1])/2 + im(X^{4}_6[2, 0]*X^{4}_9[0, 2])/2 - im(X^{4}_7[0, 1]*X^{4}_8[1, 0])/2 - im(X^{4}_7[0, 2]*X^{4}_8[2, 0])/2 + im(X^{4}_7[1, 0]*X^{4}_8[0, 1])/2 + im(X^{4}_7[2, 0]*X^{4}_8[0, 2])/2 + re(c^{41})/g**2) + 4*P^{14}_2*(P^{14}_2*P^{41}_1 - Q^{14}_2*Q^{41}_1 + re(X^{4}_6[0, 0]*X^{4}_8[0, 1])/2 - re(X^{4}_6[0, 1]*X^{4}_8[0, 0])/2 + re(X^{4}_6[0, 1]*X^{4}_8[1, 1])/2 + re(X^{4}_6[0, 2]*X^{4}_8[2, 1])/2 - re(X^{4}_6[1, 1]*X^{4}_8[0, 1])/2 - re(X^{4}_6[2, 1]*X^{4}_8[0, 2])/2 - re(X^{4}_7[0, 0]*X^{4}_9[0, 1])/2 + re(X^{4}_7[0, 1]*X^{4}_9[0, 0])/2 - re(X^{4}_7[0, 1]*X^{4}_9[1, 1])/2 - re(X^{4}_7[0, 2]*X^{4}_9[2, 1])/2 + re(X^{4}_7[1, 1]*X^{4}_9[0, 1])/2 + re(X^{4}_7[2, 1]*X^{4}_9[0, 2])/2 - im(X^{4}_6[0, 0]*X^{4}_9[0, 1])/2 + im(X^{4}_6[0, 1]*X^{4}_9[0, 0])/2 - im(X^{4}_6[0, 1]*X^{4}_9[1, 1])/2 - im(X^{4}_6[0, 2]*X^{4}_9[2, 1])/2 + im(X^{4}_6[1, 1]*X^{4}_9[0, 1])/2 + im(X^{4}_6[2, 1]*X^{4}_9[0, 2])/2 - im(X^{4}_7[0, 0]*X^{4}_8[0, 1])/2 + im(X^{4}_7[0, 1]*X^{4}_8[0, 0])/2 - im(X^{4}_7[0, 1]*X^{4}_8[1, 1])/2 - im(X^{4}_7[0, 2]*X^{4}_8[2, 1])/2 + im(X^{4}_7[1, 1]*X^{4}_8[0, 1])/2 + im(X^{4}_7[2, 1]*X^{4}_8[0, 2])/2) + 4*P^{14}_3*(P^{14}_3*P^{41}_1 - Q^{14}_3*Q^{41}_1 + re(X^{4}_6[0, 0]*X^{4}_8[0, 2])/2 + re(X^{4}_6[0, 1]*X^{4}_8[1, 2])/2 - re(X^{4}_6[0, 2]*X^{4}_8[0, 0])/2 + re(X^{4}_6[0, 2]*X^{4}_8[2, 2])/2 - re(X^{4}_6[1, 2]*X^{4}_8[0, 1])/2 - re(X^{4}_6[2, 2]*X^{4}_8[0, 2])/2 - re(X^{4}_7[0, 0]*X^{4}_9[0, 2])/2 - re(X^{4}_7[0, 1]*X^{4}_9[1, 2])/2 + re(X^{4}_7[0, 2]*X^{4}_9[0, 0])/2 - re(X^{4}_7[0, 2]*X^{4}_9[2, 2])/2 + re(X^{4}_7[1, 2]*X^{4}_9[0, 1])/2 + re(X^{4}_7[2, 2]*X^{4}_9[0, 2])/2 - im(X^{4}_6[0, 0]*X^{4}_9[0, 2])/2 - im(X^{4}_6[0, 1]*X^{4}_9[1, 2])/2 + im(X^{4}_6[0, 2]*X^{4}_9[0, 0])/2 - im(X^{4}_6[0, 2]*X^{4}_9[2, 2])/2 + im(X^{4}_6[1, 2]*X^{4}_9[0, 1])/2 + im(X^{4}_6[2, 2]*X^{4}_9[0, 2])/2 - im(X^{4}_7[0, 0]*X^{4}_8[0, 2])/2 - im(X^{4}_7[0, 1]*X^{4}_8[1, 2])/2 + im(X^{4}_7[0, 2]*X^{4}_8[0, 0])/2 - im(X^{4}_7[0, 2]*X^{4}_8[2, 2])/2 + im(X^{4}_7[1, 2]*X^{4}_8[0, 1])/2 + im(X^{4}_7[2, 2]*X^{4}_8[0, 2])/2) + 4*Q^{14}_1*(P^{14}_1*Q^{41}_1 + P^{14}_2*Q^{41}_2 + P^{14}_3*Q^{41}_3 + P^{41}_1*Q^{14}_1 + P^{41}_2*Q^{14}_2 + P^{41}_3*Q^{14}_3 + 3*im(c^{14})/g**2) + 4*Q^{14}_1*(P^{14}_1*Q^{41}_1 + P^{41}_1*Q^{14}_1 + re(X^{4}_6[0, 1]*X^{4}_9[1, 0])/2 + re(X^{4}_6[0, 2]*X^{4}_9[2, 0])/2 - re(X^{4}_6[1, 0]*X^{4}_9[0, 1])/2 - re(X^{4}_6[2, 0]*X^{4}_9[0, 2])/2 + re(X^{4}_7[0, 1]*X^{4}_8[1, 0])/2 + re(X^{4}_7[0, 2]*X^{4}_8[2, 0])/2 - re(X^{4}_7[1, 0]*X^{4}_8[0, 1])/2 - re(X^{4}_7[2, 0]*X^{4}_8[0, 2])/2 + im(X^{4}_6[0, 1]*X^{4}_8[1, 0])/2 + im(X^{4}_6[0, 2]*X^{4}_8[2, 0])/2 - im(X^{4}_6[1, 0]*X^{4}_8[0, 1])/2 - im(X^{4}_6[2, 0]*X^{4}_8[0, 2])/2 - im(X^{4}_7[0, 1]*X^{4}_9[1, 0])/2 - im(X^{4}_7[0, 2]*X^{4}_9[2, 0])/2 + im(X^{4}_7[1, 0]*X^{4}_9[0, 1])/2 + im(X^{4}_7[2, 0]*X^{4}_9[0, 2])/2 + im(c^{41})/g**2) + 4*Q^{14}_2*(P^{14}_2*Q^{41}_1 + P^{41}_1*Q^{14}_2 + re(X^{4}_6[0, 0]*X^{4}_9[0, 1])/2 - re(X^{4}_6[0, 1]*X^{4}_9[0, 0])/2 + re(X^{4}_6[0, 1]*X^{4}_9[1, 1])/2 + re(X^{4}_6[0, 2]*X^{4}_9[2, 1])/2 - re(X^{4}_6[1, 1]*X^{4}_9[0, 1])/2 - re(X^{4}_6[2, 1]*X^{4}_9[0, 2])/2 + re(X^{4}_7[0, 0]*X^{4}_8[0, 1])/2 - re(X^{4}_7[0, 1]*X^{4}_8[0, 0])/2 + re(X^{4}_7[0, 1]*X^{4}_8[1, 1])/2 + re(X^{4}_7[0, 2]*X^{4}_8[2, 1])/2 - re(X^{4}_7[1, 1]*X^{4}_8[0, 1])/2 - re(X^{4}_7[2, 1]*X^{4}_8[0, 2])/2 + im(X^{4}_6[0, 0]*X^{4}_8[0, 1])/2 - im(X^{4}_6[0, 1]*X^{4}_8[0, 0])/2 + im(X^{4}_6[0, 1]*X^{4}_8[1, 1])/2 + im(X^{4}_6[0, 2]*X^{4}_8[2, 1])/2 - im(X^{4}_6[1, 1]*X^{4}_8[0, 1])/2 - im(X^{4}_6[2, 1]*X^{4}_8[0, 2])/2 - im(X^{4}_7[0, 0]*X^{4}_9[0, 1])/2 + im(X^{4}_7[0, 1]*X^{4}_9[0, 0])/2 - im(X^{4}_7[0, 1]*X^{4}_9[1, 1])/2 - im(X^{4}_7[0, 2]*X^{4}_9[2, 1])/2 + im(X^{4}_7[1, 1]*X^{4}_9[0, 1])/2 + im(X^{4}_7[2, 1]*X^{4}_9[0, 2])/2) + 4*Q^{14}_3*(P^{14}_3*Q^{41}_1 + P^{41}_1*Q^{14}_3 + re(X^{4}_6[0, 0]*X^{4}_9[0, 2])/2 + re(X^{4}_6[0, 1]*X^{4}_9[1, 2])/2 - re(X^{4}_6[0, 2]*X^{4}_9[0, 0])/2 + re(X^{4}_6[0, 2]*X^{4}_9[2, 2])/2 - re(X^{4}_6[1, 2]*X^{4}_9[0, 1])/2 - re(X^{4}_6[2, 2]*X^{4}_9[0, 2])/2 + re(X^{4}_7[0, 0]*X^{4}_8[0, 2])/2 + re(X^{4}_7[0, 1]*X^{4}_8[1, 2])/2 - re(X^{4}_7[0, 2]*X^{4}_8[0, 0])/2 + re(X^{4}_7[0, 2]*X^{4}_8[2, 2])/2 - re(X^{4}_7[1, 2]*X^{4}_8[0, 1])/2 - re(X^{4}_7[2, 2]*X^{4}_8[0, 2])/2 + im(X^{4}_6[0, 0]*X^{4}_8[0, 2])/2 + im(X^{4}_6[0, 1]*X^{4}_8[1, 2])/2 - im(X^{4}_6[0, 2]*X^{4}_8[0, 0])/2 + im(X^{4}_6[0, 2]*X^{4}_8[2, 2])/2 - im(X^{4}_6[1, 2]*X^{4}_8[0, 1])/2 - im(X^{4}_6[2, 2]*X^{4}_8[0, 2])/2 - im(X^{4}_7[0, 0]*X^{4}_9[0, 2])/2 - im(X^{4}_7[0, 1]*X^{4}_9[1, 2])/2 + im(X^{4}_7[0, 2]*X^{4}_9[0, 0])/2 - im(X^{4}_7[0, 2]*X^{4}_9[2, 2])/2 + im(X^{4}_7[1, 2]*X^{4}_9[0, 1])/2 + im(X^{4}_7[2, 2]*X^{4}_9[0, 2])/2)"
      ]
     },
     "execution_count": 298,
     "metadata": {},
     "output_type": "execute_result"
    }
   ],
   "source": [
    "V_F.diff(sp.re(Z[\"41\"][0]))"
   ]
  },
  {
   "cell_type": "code",
   "execution_count": 156,
   "id": "e527a83f",
   "metadata": {},
   "outputs": [
    {
     "data": {
      "text/latex": [
       "$\\displaystyle 2 x^{41}_{11}$"
      ],
      "text/plain": [
       "2*x^{41}_{11}"
      ]
     },
     "execution_count": 156,
     "metadata": {},
     "output_type": "execute_result"
    }
   ],
   "source": [
    "(sp.trace(X[\"41\"].adjoint()*X[\"41\"])).diff(X[\"41\"][0,0])"
   ]
  },
  {
   "cell_type": "code",
   "execution_count": 257,
   "id": "f5b068f1",
   "metadata": {},
   "outputs": [],
   "source": [
    "col = []\n",
    "for i in np.arange(N):\n",
    "    row = []\n",
    "    for j in np.arange(N):\n",
    "        row.append(sp.trace(X[\"41\"].adjoint()*X[\"41\"]).diff(sp.re(X[\"41\"][i,j])))\n",
    "    col.append(row)\n",
    "ba = sp.Matrix(col)"
   ]
  },
  {
   "cell_type": "code",
   "execution_count": 261,
   "id": "b19a4eca",
   "metadata": {},
   "outputs": [
    {
     "data": {
      "text/latex": [
       "$\\displaystyle \\left(x^{41}_{11}\\right)^{2} + 2 \\left(x^{41}_{12}\\right)^{2} + 2 \\left(x^{41}_{13}\\right)^{2} + \\left(x^{41}_{22}\\right)^{2} + 2 \\left(x^{41}_{23}\\right)^{2} + \\left(x^{41}_{33}\\right)^{2} + 2 \\left(y^{41}_{12}\\right)^{2} + 2 \\left(y^{41}_{13}\\right)^{2} + 2 \\left(y^{41}_{23}\\right)^{2}$"
      ],
      "text/plain": [
       "x^{41}_{11}**2 + 2*x^{41}_{12}**2 + 2*x^{41}_{13}**2 + x^{41}_{22}**2 + 2*x^{41}_{23}**2 + x^{41}_{33}**2 + 2*y^{41}_{12}**2 + 2*y^{41}_{13}**2 + 2*y^{41}_{23}**2"
      ]
     },
     "execution_count": 261,
     "metadata": {},
     "output_type": "execute_result"
    }
   ],
   "source": [
    "sp.trace(X[\"41\"].adjoint()*X[\"41\"]).expand()"
   ]
  },
  {
   "cell_type": "code",
   "execution_count": 269,
   "id": "2e9b17f6",
   "metadata": {
    "scrolled": true
   },
   "outputs": [
    {
     "data": {
      "text/latex": [
       "$\\displaystyle \\left[\\begin{matrix}2 P^{14}_1 & 2 P^{14}_2 & 2 P^{14}_3\\end{matrix}\\right]$"
      ],
      "text/plain": [
       "Matrix([[2*P^{14}_1, 2*P^{14}_2, 2*P^{14}_3]])"
      ]
     },
     "execution_count": 269,
     "metadata": {},
     "output_type": "execute_result"
    }
   ],
   "source": [
    "sp.trace(Z[\"14\"].adjoint()*Z[\"14\"]).diff(sp.re(Z[\"14\"]))"
   ]
  },
  {
   "cell_type": "code",
   "execution_count": 243,
   "id": "f09b9b48",
   "metadata": {},
   "outputs": [],
   "source": [
    "col = []\n",
    "for i in np.arange(N):\n",
    "    row = []\n",
    "    for j in np.arange(N):\n",
    "        if i < j:\n",
    "            row.append(sp.trace(X[\"41\"].adjoint()*X[\"41\"]).diff(sp.im(X[\"41\"][i,j])))\n",
    "        elif i > j:\n",
    "            row.append(sp.trace(X[\"41\"].adjoint()*X[\"41\"]).diff(-sp.im(X[\"41\"][i,j])))\n",
    "        else:\n",
    "            row.append(0)\n",
    "    col.append(row)\n",
    "jah = sp.Matrix(col)"
   ]
  },
  {
   "cell_type": "code",
   "execution_count": 281,
   "id": "dea123c3",
   "metadata": {},
   "outputs": [],
   "source": [
    "Z14 = sp.MatrixSymbol(\"Z^{14}\",1,N)"
   ]
  }
 ],
 "metadata": {
  "kernelspec": {
   "display_name": "Python 3 (ipykernel)",
   "language": "python",
   "name": "python3"
  },
  "language_info": {
   "codemirror_mode": {
    "name": "ipython",
    "version": 3
   },
   "file_extension": ".py",
   "mimetype": "text/x-python",
   "name": "python",
   "nbconvert_exporter": "python",
   "pygments_lexer": "ipython3",
   "version": "3.10.9"
  }
 },
 "nbformat": 4,
 "nbformat_minor": 5
}
