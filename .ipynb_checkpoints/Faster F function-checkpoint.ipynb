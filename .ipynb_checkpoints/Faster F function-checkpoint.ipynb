{
 "cells": [
  {
   "cell_type": "code",
   "execution_count": 469,
   "id": "572fb1de",
   "metadata": {},
   "outputs": [],
   "source": [
    "import numpy as np\n",
    "import matplotlib.pyplot as plt\n",
    "import time"
   ]
  },
  {
   "cell_type": "code",
   "execution_count": 478,
   "id": "f67c00b2",
   "metadata": {},
   "outputs": [],
   "source": [
    "def fast_F(matrix_index,X):\n",
    "    \n",
    "    result = np.zeros([N,N], dtype = complex)\n",
    "    \n",
    "    for i in np.arange(9):\n",
    "        \n",
    "        if i != matrix_index - 1:\n",
    "            temp_result = np.zeros([N,N], dtype = complex)\n",
    "            \n",
    "            for n in np.arange(N):\n",
    "                for m in np.arange(N):\n",
    "                    \n",
    "                    if m >= n:\n",
    "                        sum1, sum2, sum3 = 0,0,0\n",
    "                        \n",
    "                        for a in np.arange(N):\n",
    "                            for b in np.arange(N):\n",
    "\n",
    "                                sum1 += X[i][n][a] * X[matrix_index - 1][a][b] * X[i][b][m]\n",
    "                                sum2 += X[i][n][a] * X[i][a][b] * X[matrix_index - 1][b][m]\n",
    "                                sum3 += X[matrix_index - 1][n][a] * X[i][a][b] * X[i][b][m]\n",
    "                                \n",
    "                        temp_result[n][m] = 2*sum1 - sum2 - sum3\n",
    "                \n",
    "                    else:\n",
    "                        temp_result[n][m] = np.conjugate(temp_result[m][n])\n",
    "                    \n",
    "                    #print(temp_result)\n",
    "                    \n",
    "            result += temp_result\n",
    "            \n",
    "        else:\n",
    "            continue\n",
    "            \n",
    "    return result"
   ]
  },
  {
   "cell_type": "code",
   "execution_count": 487,
   "id": "44b766fa",
   "metadata": {},
   "outputs": [],
   "source": [
    "a = np.dot(np.dot(X1,X1),X2)\n",
    "b = np.dot(np.dot(X2,X1),X1)"
   ]
  },
  {
   "cell_type": "code",
   "execution_count": 488,
   "id": "e1ebc1c0",
   "metadata": {},
   "outputs": [
    {
     "name": "stdout",
     "output_type": "stream",
     "text": [
      "[[ 0.41410984+1.38777878e-17j  0.22377701+1.38359350e-01j]\n",
      " [ 0.22377701-1.38359350e-01j -0.41410984+1.38777878e-17j]]\n",
      "[[ 0.41410984+5.79001706e-18j  0.22377701+1.38359350e-01j]\n",
      " [ 0.22377701-1.38359350e-01j -0.41410984+5.79001706e-18j]]\n"
     ]
    }
   ],
   "source": [
    "print(b)\n",
    "print(np.conjugate(a.T))"
   ]
  },
  {
   "cell_type": "code",
   "execution_count": 498,
   "id": "38cf70bd",
   "metadata": {},
   "outputs": [
    {
     "data": {
      "text/plain": [
       "array([[-1.59988367+0.j        , -0.84205831-0.73685643j],\n",
       "       [-0.84205831+0.73685643j,  1.59988367+0.j        ]])"
      ]
     },
     "execution_count": 498,
     "metadata": {},
     "output_type": "execute_result"
    }
   ],
   "source": [
    "commutator(X1,commutator(X2,X1))"
   ]
  },
  {
   "cell_type": "code",
   "execution_count": 500,
   "id": "d5a67e21",
   "metadata": {},
   "outputs": [
    {
     "data": {
      "text/plain": [
       "array([[-1.59988367-2.77555756e-17j, -0.84205831-7.36856426e-01j],\n",
       "       [-0.84205831+7.36856426e-01j,  1.59988367-2.77555756e-17j]])"
      ]
     },
     "execution_count": 500,
     "metadata": {},
     "output_type": "execute_result"
    }
   ],
   "source": [
    "2*np.dot(np.dot(X1,X2),X1) - np.dot(np.dot(X1,X1),X2) - np.conjugate(np.dot(np.dot(X1,X1),X2).T)"
   ]
  },
  {
   "cell_type": "code",
   "execution_count": 515,
   "id": "d48fe268",
   "metadata": {},
   "outputs": [],
   "source": [
    "def fast_F_2(k,X):\n",
    "    #Fs = np.zeros([9,N,N], dtype = complex)\n",
    "    result = np.zeros([N,N], dtype = complex)\n",
    "    \n",
    "    for i in np.arange(9):\n",
    "        if i == k - 1:\n",
    "            continue\n",
    "            \n",
    "        temp = np.dot(np.dot(X[i],X[i]),X[k-1])\n",
    "        #Fs[i] = 2*np.dot(np.dot(X[i],X[k-1]),X[i]) - temp - np.conjugate(temp.T)\n",
    "        result += 2*np.dot(np.dot(X[i],X[k-1]),X[i]) - temp - np.conjugate(temp.T)\n",
    "        print(result)\n",
    "    \n",
    "    return result"
   ]
  },
  {
   "cell_type": "code",
   "execution_count": 518,
   "id": "04dee946",
   "metadata": {
    "scrolled": false
   },
   "outputs": [],
   "source": [
    "def test_f(k,X):\n",
    "    for i in np.arange(9):\n",
    "        temp = np.dot(np.dot(X[i],X[i]),X[k-1])\n",
    "        print(2*np.dot(np.dot(X[i],X[k-1]),X[i]) - temp - np.conjugate(temp.T))\n",
    "\n",
    "def test_F(Xi,X):\n",
    "    for i in np.arange(9):\n",
    "        print(commutator(X[i],commutator(Xi,X[i])))"
   ]
  },
  {
   "cell_type": "code",
   "execution_count": 519,
   "id": "0249caa6",
   "metadata": {},
   "outputs": [
    {
     "name": "stdout",
     "output_type": "stream",
     "text": [
      "[[0.+4.41357449e-17j 0.+0.00000000e+00j]\n",
      " [0.+0.00000000e+00j 0.+8.00093849e-17j]]\n",
      "[[ 1.1442783 +0.j         1.83695086-4.0017157j]\n",
      " [ 1.83695086+4.0017157j -1.1442783 +0.j       ]]\n",
      "[[ 2.55064804+0.j          2.94437824-2.97694376j]\n",
      " [ 2.94437824+2.97694376j -2.55064804+0.j        ]]\n",
      "[[ 3.49880122-5.55111512e-17j  3.16154153-1.82021003e+00j]\n",
      " [ 3.16154153+1.82021003e+00j -3.49880122+0.00000000e+00j]]\n",
      "[[ 1.91176589+0.j         14.57604532-9.57132964j]\n",
      " [14.57604532+9.57132964j -1.91176589+0.j        ]]\n",
      "[[ 2.5007259 +0.j          3.10014512-1.30933416j]\n",
      " [ 3.10014512+1.30933416j -2.5007259 +0.j        ]]\n",
      "[[ 6.08883495+0.00000000e+00j 11.54712614-1.24962809e+01j]\n",
      " [11.54712614+1.24962809e+01j -6.08883495+4.44089210e-16j]]\n",
      "[[ 5.89329428+4.44089210e-16j 17.4099959 -1.18019396e+01j]\n",
      " [17.4099959 +1.18019396e+01j -5.89329428+4.44089210e-16j]]\n",
      "[[-0.11892357+8.32667268e-17j  0.66563079+7.05880192e-01j]\n",
      " [ 0.66563079-7.05880192e-01j  0.11892357+5.55111512e-17j]]\n"
     ]
    }
   ],
   "source": [
    "test_f(1,X)"
   ]
  },
  {
   "cell_type": "code",
   "execution_count": 520,
   "id": "749983d9",
   "metadata": {},
   "outputs": [
    {
     "name": "stdout",
     "output_type": "stream",
     "text": [
      "[[ 0.53270214+0.j          0.6544552 +3.47774059j]\n",
      " [ 0.6544552 -3.47774059j -0.53270214+0.j        ]]\n",
      "[[-1.49676631+0.j         -1.38079932+3.95812087j]\n",
      " [-1.38079932-3.95812087j  1.49676631+0.j        ]]\n",
      "[[-1.82829171-5.55111512e-17j -1.53137197+1.86798581e+00j]\n",
      " [-1.53137197-1.86798581e+00j  1.82829171-5.55111512e-17j]]\n",
      "[[-0.84853375-2.08166817e-17j -2.01804843+1.22949087e+00j]\n",
      " [-2.01804843-1.22949087e+00j  0.84853375-2.08166817e-17j]]\n",
      "[[-4.00025473 +0.j         -3.85929244+13.41783188j]\n",
      " [-3.85929244-13.41783188j  4.00025473 +0.j        ]]\n",
      "[[-1.65858879-1.38777878e-17j -0.3358854 +1.75004479e+00j]\n",
      " [-0.3358854 -1.75004479e+00j  1.65858879-1.38777878e-17j]]\n",
      "[[-6.9100561 +0.j         -4.9167823+10.32535947j]\n",
      " [-4.9167823-10.32535947j  6.9100561 +0.j        ]]\n",
      "[[-7.09647327 +0.j         -4.38320644+13.74951822j]\n",
      " [-4.38320644-13.74951822j  7.09647327 +0.j        ]]\n",
      "[[ 0.69161956+0.j          0.39884719+1.78739481j]\n",
      " [ 0.39884719-1.78739481j -0.69161956+0.j        ]]\n"
     ]
    }
   ],
   "source": [
    "test_F(X1,X)"
   ]
  },
  {
   "cell_type": "code",
   "execution_count": 513,
   "id": "71f0a6cd",
   "metadata": {},
   "outputs": [],
   "source": [
    "def commutator(A,B):\n",
    "    return np.dot(A,B) - np.dot(B,A)\n",
    "\n",
    "def F(Xi,X):\n",
    "    \n",
    "    F = np.zeros([N,N], dtype = complex)\n",
    "    for j in np.arange(9):\n",
    "        F += commutator(X[j],commutator(Xi,X[j]))\n",
    "        print(F)\n",
    "    return F\n",
    "\n",
    "def H(X,V):\n",
    "    \n",
    "    sum1 = 0\n",
    "    for k in np.arange(9):\n",
    "        sum1 += np.dot(V[k],V[k]).trace()\n",
    "        \n",
    "        \n",
    "    sum2 = np.zeros([N,N], dtype = complex)\n",
    "    for i in np.arange(9):\n",
    "        for j in np.arange(9):\n",
    "            if j == i:\n",
    "                continue\n",
    "            sum2 += np.dot(commutator(X[i],X[j]),commutator(X[i],X[j]))\n",
    "    \n",
    "    T = 1/(2*g**2) * sum1\n",
    "    U = -1/(4*g**2) * sum2.trace()\n",
    "    return np.abs(T + U)"
   ]
  },
  {
   "cell_type": "code",
   "execution_count": 475,
   "id": "dbfd1726",
   "metadata": {},
   "outputs": [],
   "source": [
    "# Creating random, complex, traceless, hermitian matrices X \n",
    "\n",
    "N = 2\n",
    "\n",
    "X1 = np.zeros([N,N],dtype = complex)\n",
    "X2 = np.zeros([N,N],dtype = complex)\n",
    "X3 = np.zeros([N,N],dtype = complex)\n",
    "X4 = np.zeros([N,N],dtype = complex)\n",
    "X5 = np.zeros([N,N],dtype = complex)\n",
    "X6 = np.zeros([N,N],dtype = complex)\n",
    "X7 = np.zeros([N,N],dtype = complex)\n",
    "X8 = np.zeros([N,N],dtype = complex)\n",
    "X9 = np.zeros([N,N],dtype = complex)\n",
    "\n",
    "for i in np.arange(N):\n",
    "    for j in np.arange(N):\n",
    "        \n",
    "        if (i==j) & (i != N-1):\n",
    "            X1[i][j] = complex(np.random.normal(0,1),0)\n",
    "            X2[i][j] = complex(np.random.normal(0,1),0)\n",
    "            X3[i][j] = complex(np.random.normal(0,1),0)\n",
    "            X4[i][j] = complex(np.random.normal(0,1),0)\n",
    "            X5[i][j] = complex(np.random.normal(0,1),0)\n",
    "            X6[i][j] = complex(np.random.normal(0,1),0)\n",
    "            X7[i][j] = complex(np.random.normal(0,1),0)\n",
    "            X8[i][j] = complex(np.random.normal(0,1),0)\n",
    "            X9[i][j] = complex(np.random.normal(0,1),0)\n",
    "            \n",
    "        elif (i != j):\n",
    "            X1[i][j] = complex(np.random.normal(0,1),np.random.normal(0,1))\n",
    "            X1[j][i] = X1[i][j].conjugate()\n",
    "            X2[i][j] = complex(np.random.normal(0,1),np.random.normal(0,1))\n",
    "            X2[j][i] = X2[i][j].conjugate()\n",
    "            X3[i][j] = complex(np.random.normal(0,1),np.random.normal(0,1))\n",
    "            X3[j][i] = X3[i][j].conjugate()\n",
    "            X4[i][j] = complex(np.random.normal(0,1),np.random.normal(0,1))\n",
    "            X4[j][i] = X4[i][j].conjugate()\n",
    "            X5[i][j] = complex(np.random.normal(0,1),np.random.normal(0,1))\n",
    "            X5[j][i] = X5[i][j].conjugate()\n",
    "            X6[i][j] = complex(np.random.normal(0,1),np.random.normal(0,1))\n",
    "            X6[j][i] = X6[i][j].conjugate()\n",
    "            X7[i][j] = complex(np.random.normal(0,1),np.random.normal(0,1))\n",
    "            X7[j][i] = X7[i][j].conjugate()\n",
    "            X8[i][j] = complex(np.random.normal(0,1),np.random.normal(0,1))\n",
    "            X8[j][i] = X8[i][j].conjugate()\n",
    "            X9[i][j] = complex(np.random.normal(0,1),np.random.normal(0,1))\n",
    "            X9[j][i] = X9[i][j].conjugate()\n",
    "            \n",
    "        else:\n",
    "            current_sum_1 = complex(0,0)\n",
    "            current_sum_2 = complex(0,0)\n",
    "            current_sum_3 = complex(0,0)\n",
    "            current_sum_4 = complex(0,0)\n",
    "            current_sum_5 = complex(0,0)\n",
    "            current_sum_6 = complex(0,0)\n",
    "            current_sum_7 = complex(0,0)\n",
    "            current_sum_8 = complex(0,0)\n",
    "            current_sum_9 = complex(0,0)\n",
    "            \n",
    "            for k in np.arange(N-1):\n",
    "                current_sum_1 += X1[k][k]\n",
    "                current_sum_2 += X2[k][k]\n",
    "                current_sum_3 += X3[k][k]\n",
    "                current_sum_4 += X4[k][k]\n",
    "                current_sum_5 += X5[k][k]\n",
    "                current_sum_6 += X6[k][k]\n",
    "                current_sum_7 += X7[k][k]\n",
    "                current_sum_8 += X8[k][k]\n",
    "                current_sum_9 += X9[k][k]\n",
    "                \n",
    "            X1[i][j] = - current_sum_1\n",
    "            X2[i][j] = - current_sum_2\n",
    "            X3[i][j] = - current_sum_3\n",
    "            X4[i][j] = - current_sum_4\n",
    "            X5[i][j] = - current_sum_5\n",
    "            X6[i][j] = - current_sum_6\n",
    "            X7[i][j] = - current_sum_7\n",
    "            X8[i][j] = - current_sum_8\n",
    "            X9[i][j] = - current_sum_9\n",
    "\n",
    "V1,V2,V3,V4,V5,V6,V7,V8,V9 = np.zeros([9,N,N], dtype = complex)\n",
    "X1R,X2R,X3R,X4R,X5R,X6R,X7R,X8R,X9R = X1,X2,X3,X4,X5,X6,X7,X8,X9"
   ]
  },
  {
   "cell_type": "code",
   "execution_count": 476,
   "id": "4fcc2285",
   "metadata": {},
   "outputs": [],
   "source": [
    "X1,X2,X3,X4,X5,X6,X7,X8,X9 = X1R,X2R,X3R,X4R,X5R,X6R,X7R,X8R,X9R\n",
    "V1,V2,V3,V4,V5,V6,V7,V8,V9 = np.zeros([9,N,N], dtype = complex)"
   ]
  },
  {
   "cell_type": "code",
   "execution_count": 477,
   "id": "23eb6082",
   "metadata": {
    "scrolled": true
   },
   "outputs": [
    {
     "data": {
      "text/plain": [
       "array([[ 0.21988507+0.j        ,  0.20625419-0.71312208j],\n",
       "       [ 0.20625419+0.71312208j, -0.21988507-0.j        ]])"
      ]
     },
     "execution_count": 477,
     "metadata": {},
     "output_type": "execute_result"
    }
   ],
   "source": [
    "X1 # X1 starts at this value"
   ]
  },
  {
   "cell_type": "code",
   "execution_count": 418,
   "id": "0b7f8384",
   "metadata": {
    "scrolled": true
   },
   "outputs": [
    {
     "name": "stdout",
     "output_type": "stream",
     "text": [
      "21.775991439819336\n"
     ]
    }
   ],
   "source": [
    "start = time.time()\n",
    "g = 5\n",
    "dt = 1e-4\n",
    "\n",
    "X = np.array([X1,X2,X3,X4,X5,X6,X7,X8,X9], dtype = complex)\n",
    "V = np.array([V1,V2,V3,V4,V5,V6,V7,V8,V9], dtype = complex)\n",
    "\n",
    "for i in np.arange(10000):\n",
    "    \n",
    "    X1_n = X1 + V1*dt + F(X1,X)*dt**2/2\n",
    "    X2_n = X2 + V2*dt + F(X2,X)*dt**2/2\n",
    "    X3_n = X3 + V3*dt + F(X3,X)*dt**2/2\n",
    "    X4_n = X4 + V4*dt + F(X4,X)*dt**2/2\n",
    "    X5_n = X5 + V5*dt + F(X5,X)*dt**2/2\n",
    "    X6_n = X6 + V6*dt + F(X6,X)*dt**2/2\n",
    "    X7_n = X7 + V7*dt + F(X7,X)*dt**2/2\n",
    "    X8_n = X8 + V8*dt + F(X8,X)*dt**2/2\n",
    "    X9_n = X9 + V9*dt + F(X9,X)*dt**2/2\n",
    "    \n",
    "    X_n = np.array([X1_n,X2_n,X3_n,X4_n,X5_n,X6_n,X7_n,X8_n,X9_n])\n",
    "    \n",
    "    V1 = V1 + (F(X1,X) + F(X1_n,X_n))*dt/2\n",
    "    V2 = V2 + (F(X2,X) + F(X2_n,X_n))*dt/2\n",
    "    V3 = V3 + (F(X3,X) + F(X3_n,X_n))*dt/2\n",
    "    V4 = V4 + (F(X4,X) + F(X4_n,X_n))*dt/2\n",
    "    V5 = V5 + (F(X5,X) + F(X5_n,X_n))*dt/2\n",
    "    V6 = V6 + (F(X6,X) + F(X6_n,X_n))*dt/2\n",
    "    V7 = V7 + (F(X7,X) + F(X7_n,X_n))*dt/2\n",
    "    V8 = V8 + (F(X8,X) + F(X8_n,X_n))*dt/2\n",
    "    V9 = V9 + (F(X9,X) + F(X9_n,X_n))*dt/2\n",
    "    \n",
    "    X1, X2, X3, X4, X5, X6, X7, X8, X9 = X1_n, X2_n, X3_n, X4_n, X5_n, X6_n, X7_n, X8_n, X9_n\n",
    "    X = np.array([X1,X2,X3,X4,X5,X6,X7,X8,X9])\n",
    "    V = np.array([V1,V2,V3,V4,V5,V6,V7,V8,V9])\n",
    "\n",
    "print(time.time() - start)"
   ]
  },
  {
   "cell_type": "code",
   "execution_count": 419,
   "id": "f764eea7",
   "metadata": {},
   "outputs": [
    {
     "data": {
      "text/plain": [
       "array([[-0.81405576-2.32553279e-18j, -0.83371967+2.81585528e-01j],\n",
       "       [-0.83371967-2.81585528e-01j,  0.81405576-2.32553279e-18j]])"
      ]
     },
     "execution_count": 419,
     "metadata": {},
     "output_type": "execute_result"
    }
   ],
   "source": [
    "X1"
   ]
  },
  {
   "cell_type": "code",
   "execution_count": 422,
   "id": "2af6d6fc",
   "metadata": {},
   "outputs": [
    {
     "name": "stdout",
     "output_type": "stream",
     "text": [
      "149.8157205581665\n"
     ]
    }
   ],
   "source": [
    "start = time.time()\n",
    "g = 5\n",
    "dt = 1e-4\n",
    "\n",
    "X = np.array([X1,X2,X3,X4,X5,X6,X7,X8,X9], dtype = complex)\n",
    "V = np.array([V1,V2,V3,V4,V5,V6,V7,V8,V9], dtype = complex)\n",
    "\n",
    "for i in np.arange(10000):\n",
    "    \n",
    "    X1_n = X1 + V1*dt + fast_F(1,X)*dt**2/2\n",
    "    X2_n = X2 + V2*dt + fast_F(2,X)*dt**2/2\n",
    "    X3_n = X3 + V3*dt + fast_F(3,X)*dt**2/2\n",
    "    X4_n = X4 + V4*dt + fast_F(4,X)*dt**2/2\n",
    "    X5_n = X5 + V5*dt + fast_F(5,X)*dt**2/2\n",
    "    X6_n = X6 + V6*dt + fast_F(6,X)*dt**2/2\n",
    "    X7_n = X7 + V7*dt + fast_F(7,X)*dt**2/2\n",
    "    X8_n = X8 + V8*dt + fast_F(8,X)*dt**2/2\n",
    "    X9_n = X9 + V9*dt + fast_F(9,X)*dt**2/2\n",
    "    \n",
    "    X_n = np.array([X1_n,X2_n,X3_n,X4_n,X5_n,X6_n,X7_n,X8_n,X9_n])\n",
    "    \n",
    "    V1 = V1 + (fast_F(1,X) + fast_F(1,X_n))*dt/2\n",
    "    V2 = V2 + (fast_F(2,X) + fast_F(2,X_n))*dt/2\n",
    "    V3 = V3 + (fast_F(3,X) + fast_F(3,X_n))*dt/2\n",
    "    V4 = V4 + (fast_F(4,X) + fast_F(4,X_n))*dt/2\n",
    "    V5 = V5 + (fast_F(5,X) + fast_F(5,X_n))*dt/2\n",
    "    V6 = V6 + (fast_F(6,X) + fast_F(6,X_n))*dt/2\n",
    "    V7 = V7 + (fast_F(7,X) + fast_F(7,X_n))*dt/2\n",
    "    V8 = V8 + (fast_F(8,X) + fast_F(8,X_n))*dt/2\n",
    "    V9 = V9 + (fast_F(9,X) + fast_F(9,X_n))*dt/2\n",
    "    \n",
    "    X1, X2, X3, X4, X5, X6, X7, X8, X9 = X1_n, X2_n, X3_n, X4_n, X5_n, X6_n, X7_n, X8_n, X9_n\n",
    "    X = np.array([X1,X2,X3,X4,X5,X6,X7,X8,X9])\n",
    "    V = np.array([V1,V2,V3,V4,V5,V6,V7,V8,V9])\n",
    "\n",
    "print(time.time() - start)"
   ]
  },
  {
   "cell_type": "code",
   "execution_count": 423,
   "id": "0a29a3c5",
   "metadata": {},
   "outputs": [
    {
     "data": {
      "text/plain": [
       "array([[-0.81405576+6.18774405e-18j, -0.83371967+2.81585528e-01j],\n",
       "       [-0.83371967-2.81585528e-01j,  0.81405576+4.30406481e-18j]])"
      ]
     },
     "execution_count": 423,
     "metadata": {},
     "output_type": "execute_result"
    }
   ],
   "source": [
    "X1"
   ]
  }
 ],
 "metadata": {
  "kernelspec": {
   "display_name": "Python 3",
   "language": "python",
   "name": "python3"
  },
  "language_info": {
   "codemirror_mode": {
    "name": "ipython",
    "version": 3
   },
   "file_extension": ".py",
   "mimetype": "text/x-python",
   "name": "python",
   "nbconvert_exporter": "python",
   "pygments_lexer": "ipython3",
   "version": "3.8.8"
  }
 },
 "nbformat": 4,
 "nbformat_minor": 5
}
