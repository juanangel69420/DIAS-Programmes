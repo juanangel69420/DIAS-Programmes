{
 "cells": [
  {
   "cell_type": "code",
   "execution_count": 1,
   "id": "d43a138f",
   "metadata": {},
   "outputs": [],
   "source": [
    "import numpy as np\n",
    "import matplotlib.pyplot as plt"
   ]
  },
  {
   "cell_type": "markdown",
   "id": "082fe0cc",
   "metadata": {},
   "source": [
    "C:\\Users\\cilli\\DIAS.cpp\\D0_Brane_Solutions"
   ]
  },
  {
   "cell_type": "code",
   "execution_count": 15,
   "id": "15cd5312",
   "metadata": {},
   "outputs": [
    {
     "data": {
      "text/plain": [
       "tuple"
      ]
     },
     "execution_count": 15,
     "metadata": {},
     "output_type": "execute_result"
    }
   ],
   "source": [
    "x = (1,2)\n",
    "type(x)"
   ]
  },
  {
   "cell_type": "code",
   "execution_count": 10,
   "id": "5b0cde69",
   "metadata": {},
   "outputs": [],
   "source": [
    "X_sols = np.loadtxt(\"C:/Users/cilli/DIAS.cpp/D0_Brane_Solutions/X_sols.txt\",dtype = tuple,delimiter = \":\")"
   ]
  },
  {
   "cell_type": "code",
   "execution_count": 20,
   "id": "2d4f22b5",
   "metadata": {},
   "outputs": [
    {
     "data": {
      "text/plain": [
       "'(-53.1879,-63.5793)'"
      ]
     },
     "execution_count": 20,
     "metadata": {},
     "output_type": "execute_result"
    }
   ],
   "source": [
    "X_sols[0]"
   ]
  },
  {
   "cell_type": "code",
   "execution_count": 17,
   "id": "8d042753",
   "metadata": {},
   "outputs": [],
   "source": [
    "str.split?"
   ]
  },
  {
   "cell_type": "code",
   "execution_count": 25,
   "id": "8a823879",
   "metadata": {},
   "outputs": [],
   "source": [
    "number1 = complex(X_sols[0][1:-2].split(sep = \",\")[0]+X_sols[0][1:-2].split(sep = \",\")[1] +\"j\")"
   ]
  },
  {
   "cell_type": "code",
   "execution_count": 26,
   "id": "ec6cba23",
   "metadata": {},
   "outputs": [
    {
     "data": {
      "text/plain": [
       "(-53.1879-63.579j)"
      ]
     },
     "execution_count": 26,
     "metadata": {},
     "output_type": "execute_result"
    }
   ],
   "source": [
    "number1"
   ]
  }
 ],
 "metadata": {
  "kernelspec": {
   "display_name": "Python 3 (ipykernel)",
   "language": "python",
   "name": "python3"
  },
  "language_info": {
   "codemirror_mode": {
    "name": "ipython",
    "version": 3
   },
   "file_extension": ".py",
   "mimetype": "text/x-python",
   "name": "python",
   "nbconvert_exporter": "python",
   "pygments_lexer": "ipython3",
   "version": "3.10.9"
  }
 },
 "nbformat": 4,
 "nbformat_minor": 5
}
