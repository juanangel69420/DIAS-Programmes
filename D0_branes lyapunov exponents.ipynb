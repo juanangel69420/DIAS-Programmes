{
 "cells": [
  {
   "cell_type": "code",
   "execution_count": 1,
   "id": "d43a138f",
   "metadata": {},
   "outputs": [],
   "source": [
    "import numpy as np\n",
    "import matplotlib.pyplot as plt"
   ]
  },
  {
   "cell_type": "code",
   "execution_count": 2,
   "id": "5b0cde69",
   "metadata": {},
   "outputs": [],
   "source": [
    "N = 2\n",
    "record = 1000\n",
    "\n",
    "X_sols = np.loadtxt(\"C:/Users/cilli/DIAS.cpp/D0_Brane_Solutions/Run1/X_sols.txt\",dtype = tuple,delimiter = \":\")\n",
    "X_sols_ds = np.loadtxt(\"C:/Users/cilli/DIAS.cpp/D0_Brane_Solutions/Run1/X_sols_ds.txt\", dtype = tuple, delimiter = \":\")\n",
    "V_sols = np.loadtxt(\"C:/Users/cilli/DIAS.cpp/D0_Brane_Solutions/Run1/V_sols.txt\", dtype = tuple, delimiter = \":\")\n",
    "V_sols_ds = np.loadtxt(\"C:/Users/cilli/DIAS.cpp/D0_Brane_Solutions/Run1/V_sols_ds.txt\", dtype = tuple, delimiter = \":\")"
   ]
  },
  {
   "cell_type": "code",
   "execution_count": 3,
   "id": "880c14bb",
   "metadata": {},
   "outputs": [],
   "source": [
    "str_X1 = X_sols[:record]\n",
    "str_X2 = X_sols[record:2*record]\n",
    "str_X3 = X_sols[2*record:3*record]\n",
    "str_X4 = X_sols[3*record:4*record]\n",
    "str_X5 = X_sols[4*record:5*record]\n",
    "str_X6 = X_sols[5*record:6*record]\n",
    "str_X7 = X_sols[6*record:7*record]\n",
    "str_X8 = X_sols[7*record:8*record]\n",
    "str_X9 = X_sols[8*record:9*record]\n",
    "\n",
    "str_X1_ds = X_sols_ds[:record]\n",
    "str_X2_ds = X_sols_ds[record:2*record]\n",
    "str_X3_ds = X_sols_ds[2*record:3*record]\n",
    "str_X4_ds = X_sols_ds[3*record:4*record]\n",
    "str_X5_ds = X_sols_ds[4*record:5*record]\n",
    "str_X6_ds = X_sols_ds[5*record:6*record]\n",
    "str_X7_ds = X_sols_ds[6*record:7*record]\n",
    "str_X8_ds = X_sols_ds[7*record:8*record]\n",
    "str_X9_ds = X_sols_ds[8*record:9*record]\n",
    "\n",
    "str_V1 = V_sols[:record]\n",
    "str_V2 = V_sols[record:2*record]\n",
    "str_V3 = V_sols[2*record:3*record]\n",
    "str_V4 = V_sols[3*record:4*record]\n",
    "str_V5 = V_sols[4*record:5*record]\n",
    "str_V6 = V_sols[5*record:6*record]\n",
    "str_V7 = V_sols[6*record:7*record]\n",
    "str_V8 = V_sols[7*record:8*record]\n",
    "str_V9 = V_sols[8*record:9*record]\n",
    "\n",
    "str_V1_ds = V_sols_ds[:record]\n",
    "str_V2_ds = V_sols_ds[record:2*record]\n",
    "str_V3_ds = V_sols_ds[2*record:3*record]\n",
    "str_V4_ds = V_sols_ds[3*record:4*record]\n",
    "str_V5_ds = V_sols_ds[4*record:5*record]\n",
    "str_V6_ds = V_sols_ds[5*record:6*record]\n",
    "str_V7_ds = V_sols_ds[6*record:7*record]\n",
    "str_V8_ds = V_sols_ds[7*record:8*record]\n",
    "str_V9_ds = V_sols_ds[8*record:9*record]"
   ]
  },
  {
   "cell_type": "code",
   "execution_count": 4,
   "id": "2d7ea185",
   "metadata": {},
   "outputs": [],
   "source": [
    "X1,X2,X3,X4,X5,X6,X7,X8,X9 = np.zeros([9,1000,N,N], dtype = complex)\n",
    "\n",
    "X1_ds,X2_ds,X3_ds,X4_ds,X5_ds,X6_ds,X7_ds,X8_ds,X9_ds = np.zeros([9,1000,N,N], dtype = complex)\n",
    "\n",
    "V1,V2,V3,V4,V5,V6,V7,V8,V9 = np.zeros([9,1000,N,N], dtype = complex)\n",
    "\n",
    "V1_ds,V2_ds,V3_ds,V4_ds,V5_ds,V6_ds,V7_ds,V8_ds,V9_ds = np.zeros([9,1000,N,N], dtype = complex)"
   ]
  },
  {
   "cell_type": "code",
   "execution_count": 5,
   "id": "8c554fb4",
   "metadata": {},
   "outputs": [],
   "source": [
    "for i in np.arange(len(X1)):\n",
    "    for k in np.arange(N):\n",
    "        for j in np.arange(N):\n",
    "            \n",
    "            current_X1 = np.array(str_X1[i].replace(\"(\",\"\").replace(\")\",\" \").split(),dtype = str).reshape(2,2)\n",
    "            current_X2 = np.array(str_X2[i].replace(\"(\",\"\").replace(\")\",\" \").split(),dtype = str).reshape(2,2)\n",
    "            current_X3 = np.array(str_X3[i].replace(\"(\",\"\").replace(\")\",\" \").split(),dtype = str).reshape(2,2)\n",
    "            current_X4 = np.array(str_X4[i].replace(\"(\",\"\").replace(\")\",\" \").split(),dtype = str).reshape(2,2)\n",
    "            current_X5 = np.array(str_X5[i].replace(\"(\",\"\").replace(\")\",\" \").split(),dtype = str).reshape(2,2)\n",
    "            current_X6 = np.array(str_X6[i].replace(\"(\",\"\").replace(\")\",\" \").split(),dtype = str).reshape(2,2)\n",
    "            current_X7 = np.array(str_X7[i].replace(\"(\",\"\").replace(\")\",\" \").split(),dtype = str).reshape(2,2)\n",
    "            current_X8 = np.array(str_X8[i].replace(\"(\",\"\").replace(\")\",\" \").split(),dtype = str).reshape(2,2)\n",
    "            current_X9 = np.array(str_X9[i].replace(\"(\",\"\").replace(\")\",\" \").split(),dtype = str).reshape(2,2)\n",
    "            \n",
    "            current_X1_ds = np.array(str_X1_ds[i].replace(\"(\",\"\").replace(\")\",\" \").split(),dtype = str).reshape(2,2)\n",
    "            current_X2_ds = np.array(str_X2_ds[i].replace(\"(\",\"\").replace(\")\",\" \").split(),dtype = str).reshape(2,2)\n",
    "            current_X3_ds = np.array(str_X3_ds[i].replace(\"(\",\"\").replace(\")\",\" \").split(),dtype = str).reshape(2,2)\n",
    "            current_X4_ds = np.array(str_X4_ds[i].replace(\"(\",\"\").replace(\")\",\" \").split(),dtype = str).reshape(2,2)\n",
    "            current_X5_ds = np.array(str_X5_ds[i].replace(\"(\",\"\").replace(\")\",\" \").split(),dtype = str).reshape(2,2)\n",
    "            current_X6_ds = np.array(str_X6_ds[i].replace(\"(\",\"\").replace(\")\",\" \").split(),dtype = str).reshape(2,2)\n",
    "            current_X7_ds = np.array(str_X7_ds[i].replace(\"(\",\"\").replace(\")\",\" \").split(),dtype = str).reshape(2,2)\n",
    "            current_X8_ds = np.array(str_X8_ds[i].replace(\"(\",\"\").replace(\")\",\" \").split(),dtype = str).reshape(2,2)\n",
    "            current_X9_ds = np.array(str_X9_ds[i].replace(\"(\",\"\").replace(\")\",\" \").split(),dtype = str).reshape(2,2)\n",
    "            \n",
    "            X1[i][k][j] = complex(float(current_X1[k][j].split(\",\")[0]), float(current_X1[k][j].split(\",\")[1]))\n",
    "            X2[i][k][j] = complex(float(current_X2[k][j].split(\",\")[0]), float(current_X2[k][j].split(\",\")[1]))\n",
    "            X3[i][k][j] = complex(float(current_X3[k][j].split(\",\")[0]), float(current_X3[k][j].split(\",\")[1]))\n",
    "            X4[i][k][j] = complex(float(current_X4[k][j].split(\",\")[0]), float(current_X4[k][j].split(\",\")[1]))\n",
    "            X5[i][k][j] = complex(float(current_X5[k][j].split(\",\")[0]), float(current_X5[k][j].split(\",\")[1]))\n",
    "            X6[i][k][j] = complex(float(current_X6[k][j].split(\",\")[0]), float(current_X6[k][j].split(\",\")[1]))\n",
    "            X7[i][k][j] = complex(float(current_X7[k][j].split(\",\")[0]), float(current_X7[k][j].split(\",\")[1]))\n",
    "            X8[i][k][j] = complex(float(current_X8[k][j].split(\",\")[0]), float(current_X8[k][j].split(\",\")[1]))\n",
    "            X9[i][k][j] = complex(float(current_X9[k][j].split(\",\")[0]), float(current_X9[k][j].split(\",\")[1]))\n",
    "            \n",
    "            X1_ds[i][k][j] = complex(float(current_X1_ds[k][j].split(\",\")[0]), float(current_X1_ds[k][j].split(\",\")[1]))\n",
    "            X2_ds[i][k][j] = complex(float(current_X2_ds[k][j].split(\",\")[0]), float(current_X2_ds[k][j].split(\",\")[1]))\n",
    "            X3_ds[i][k][j] = complex(float(current_X3_ds[k][j].split(\",\")[0]), float(current_X3_ds[k][j].split(\",\")[1]))\n",
    "            X4_ds[i][k][j] = complex(float(current_X4_ds[k][j].split(\",\")[0]), float(current_X4_ds[k][j].split(\",\")[1]))\n",
    "            X5_ds[i][k][j] = complex(float(current_X5_ds[k][j].split(\",\")[0]), float(current_X5_ds[k][j].split(\",\")[1]))\n",
    "            X6_ds[i][k][j] = complex(float(current_X6_ds[k][j].split(\",\")[0]), float(current_X6_ds[k][j].split(\",\")[1]))\n",
    "            X7_ds[i][k][j] = complex(float(current_X7_ds[k][j].split(\",\")[0]), float(current_X7_ds[k][j].split(\",\")[1]))\n",
    "            X8_ds[i][k][j] = complex(float(current_X8_ds[k][j].split(\",\")[0]), float(current_X8_ds[k][j].split(\",\")[1]))\n",
    "            X9_ds[i][k][j] = complex(float(current_X9_ds[k][j].split(\",\")[0]), float(current_X9_ds[k][j].split(\",\")[1]))"
   ]
  },
  {
   "cell_type": "code",
   "execution_count": 6,
   "id": "1fb005c6",
   "metadata": {},
   "outputs": [],
   "source": [
    "def distance(X1,X2,X3,X4,X5,X6,X7,X8,X9,X1_ds,X2_ds,X3_ds,X4_ds,X5_ds,X6_ds,X7_ds,X8_ds,X9_ds):\n",
    "    \n",
    "    dX1_sqr = np.dot(X1_ds - X1,(X1_ds - X1).conjugate())\n",
    "    dX2_sqr = np.dot(X2_ds - X2,(X2_ds - X2).conjugate()) \n",
    "    dX3_sqr = np.dot(X3_ds - X3,(X3_ds - X3).conjugate())\n",
    "    dX4_sqr = np.dot(X4_ds - X4,(X4_ds - X4).conjugate())\n",
    "    dX5_sqr = np.dot(X5_ds - X5,(X5_ds - X5).conjugate())\n",
    "    dX6_sqr = np.dot(X6_ds - X6,(X6_ds - X6).conjugate())\n",
    "    dX7_sqr = np.dot(X7_ds - X7,(X7_ds - X7).conjugate())\n",
    "    dX8_sqr = np.dot(X8_ds - X8,(X8_ds - X8).conjugate())\n",
    "    dX9_sqr = np.dot(X9_ds - X9,(X9_ds - X9).conjugate())\n",
    "     \n",
    "    dist_sum = dX1_sqr + dX2_sqr + dX3_sqr + dX4_sqr + dX5_sqr + dX6_sqr + dX7_sqr + dX8_sqr + dX9_sqr \n",
    "    \n",
    "    return np.abs(np.sqrt(dist_sum.trace()))"
   ]
  },
  {
   "cell_type": "code",
   "execution_count": 7,
   "id": "0e33edb7",
   "metadata": {},
   "outputs": [],
   "source": [
    "distances = np.zeros(record)\n",
    "\n",
    "for i in np.arange(record):\n",
    "    distances[i] = distance(\n",
    "        X1[i],X2[i],X3[i],X4[i],X5[i],X6[i],X7[i],X8[i],X9[i],\n",
    "        X1_ds[i],X2_ds[i],X3_ds[i],X4_ds[i],X5_ds[i],X6_ds[i],X7_ds[i],X8_ds[i],X9_ds[i]\n",
    "    )"
   ]
  },
  {
   "cell_type": "code",
   "execution_count": 8,
   "id": "9dcfc614",
   "metadata": {},
   "outputs": [
    {
     "data": {
      "image/png": "[encoded data removed]",
      "text/plain": [
       "<Figure size 640x480 with 1 Axes>"
      ]
     },
     "metadata": {},
     "output_type": "display_data"
    }
   ],
   "source": [
    "t = np.linspace(0,100,1000)\n",
    "plt.plot(t,np.log(distances));"
   ]
  },
  {
   "cell_type": "code",
   "execution_count": null,
   "id": "42acdec0",
   "metadata": {},
   "outputs": [],
   "source": []
  }
 ],
 "metadata": {
  "kernelspec": {
   "display_name": "Python 3 (ipykernel)",
   "language": "python",
   "name": "python3"
  },
  "language_info": {
   "codemirror_mode": {
    "name": "ipython",
    "version": 3
   },
   "file_extension": ".py",
   "mimetype": "text/x-python",
   "name": "python",
   "nbconvert_exporter": "python",
   "pygments_lexer": "ipython3",
   "version": "3.10.9"
  }
 },
 "nbformat": 4,
 "nbformat_minor": 5
}
