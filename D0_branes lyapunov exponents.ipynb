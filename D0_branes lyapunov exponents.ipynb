{
 "cells": [
  {
   "cell_type": "code",
   "execution_count": 179,
   "id": "d43a138f",
   "metadata": {},
   "outputs": [],
   "source": [
    "import numpy as np\n",
    "import matplotlib.pyplot as plt\n",
    "import time"
   ]
  },
  {
   "cell_type": "markdown",
   "id": "94c6b5d2",
   "metadata": {},
   "source": [
    "# N = 2 , g = 1, sigma = 1"
   ]
  },
  {
   "cell_type": "code",
   "execution_count": 188,
   "id": "5b0cde69",
   "metadata": {},
   "outputs": [],
   "source": [
    "N = 6\n",
    "record = 2000\n",
    "\n",
    "X_sols = np.loadtxt(\"C:/Users/cilli/DIAS.cpp/D0_Brane_Solutions/6x6/E_183_g/X_sols.txt\",dtype = tuple,delimiter = \":\")\n",
    "X_sols_ds = np.loadtxt(\"C:/Users/cilli/DIAS.cpp/D0_Brane_Solutions/6x6/E_183_g/X_sols_ds.txt\", dtype = tuple, delimiter = \":\")\n",
    "V_sols = np.loadtxt(\"C:/Users/cilli/DIAS.cpp/D0_Brane_Solutions/6x6/E_183_g/V_sols.txt\", dtype = tuple, delimiter = \":\")\n",
    "V_sols_ds = np.loadtxt(\"C:/Users/cilli/DIAS.cpp/D0_Brane_Solutions/6x6/E_183_g/V_sols_ds.txt\", dtype = tuple, delimiter = \":\")"
   ]
  },
  {
   "cell_type": "code",
   "execution_count": 189,
   "id": "880c14bb",
   "metadata": {},
   "outputs": [],
   "source": [
    "str_X1 = X_sols[:record]\n",
    "str_X2 = X_sols[record:2*record]\n",
    "str_X3 = X_sols[2*record:3*record]\n",
    "str_X4 = X_sols[3*record:4*record]\n",
    "str_X5 = X_sols[4*record:5*record]\n",
    "str_X6 = X_sols[5*record:6*record]\n",
    "str_X7 = X_sols[6*record:7*record]\n",
    "str_X8 = X_sols[7*record:8*record]\n",
    "str_X9 = X_sols[8*record:9*record]\n",
    "\n",
    "str_X1_ds = X_sols_ds[:record]\n",
    "str_X2_ds = X_sols_ds[record:2*record]\n",
    "str_X3_ds = X_sols_ds[2*record:3*record]\n",
    "str_X4_ds = X_sols_ds[3*record:4*record]\n",
    "str_X5_ds = X_sols_ds[4*record:5*record]\n",
    "str_X6_ds = X_sols_ds[5*record:6*record]\n",
    "str_X7_ds = X_sols_ds[6*record:7*record]\n",
    "str_X8_ds = X_sols_ds[7*record:8*record]\n",
    "str_X9_ds = X_sols_ds[8*record:9*record]\n",
    "\n",
    "str_V1 = V_sols[:record]\n",
    "str_V2 = V_sols[record:2*record]\n",
    "str_V3 = V_sols[2*record:3*record]\n",
    "str_V4 = V_sols[3*record:4*record]\n",
    "str_V5 = V_sols[4*record:5*record]\n",
    "str_V6 = V_sols[5*record:6*record]\n",
    "str_V7 = V_sols[6*record:7*record]\n",
    "str_V8 = V_sols[7*record:8*record]\n",
    "str_V9 = V_sols[8*record:9*record]\n",
    "\n",
    "str_V1_ds = V_sols_ds[:record]\n",
    "str_V2_ds = V_sols_ds[record:2*record]\n",
    "str_V3_ds = V_sols_ds[2*record:3*record]\n",
    "str_V4_ds = V_sols_ds[3*record:4*record]\n",
    "str_V5_ds = V_sols_ds[4*record:5*record]\n",
    "str_V6_ds = V_sols_ds[5*record:6*record]\n",
    "str_V7_ds = V_sols_ds[6*record:7*record]\n",
    "str_V8_ds = V_sols_ds[7*record:8*record]\n",
    "str_V9_ds = V_sols_ds[8*record:9*record]"
   ]
  },
  {
   "cell_type": "code",
   "execution_count": 190,
   "id": "2d7ea185",
   "metadata": {},
   "outputs": [],
   "source": [
    "X1,X2,X3,X4,X5,X6,X7,X8,X9 = np.zeros([9,record,N,N], dtype = complex)\n",
    "\n",
    "X1_ds,X2_ds,X3_ds,X4_ds,X5_ds,X6_ds,X7_ds,X8_ds,X9_ds = np.zeros([9,record,N,N], dtype = complex)\n",
    "\n",
    "V1,V2,V3,V4,V5,V6,V7,V8,V9 = np.zeros([9,record,N,N], dtype = complex)\n",
    "\n",
    "V1_ds,V2_ds,V3_ds,V4_ds,V5_ds,V6_ds,V7_ds,V8_ds,V9_ds = np.zeros([9,record,N,N], dtype = complex)"
   ]
  },
  {
   "cell_type": "code",
   "execution_count": 191,
   "id": "8c554fb4",
   "metadata": {},
   "outputs": [
    {
     "name": "stdout",
     "output_type": "stream",
     "text": [
      "0\n",
      "0.030494213104248047\n",
      "1000\n",
      "25.076858520507812\n",
      "49.957433462142944\n"
     ]
    }
   ],
   "source": [
    "start = time.time()\n",
    "for i in np.arange(len(X1)):\n",
    "    for k in np.arange(N):\n",
    "        for j in np.arange(N):\n",
    "            \n",
    "            current_X1 = np.array(str_X1[i].replace(\"(\",\"\").replace(\")\",\" \").split(),dtype = str).reshape(N,N)\n",
    "            current_X2 = np.array(str_X2[i].replace(\"(\",\"\").replace(\")\",\" \").split(),dtype = str).reshape(N,N)\n",
    "            current_X3 = np.array(str_X3[i].replace(\"(\",\"\").replace(\")\",\" \").split(),dtype = str).reshape(N,N)\n",
    "            current_X4 = np.array(str_X4[i].replace(\"(\",\"\").replace(\")\",\" \").split(),dtype = str).reshape(N,N)\n",
    "            current_X5 = np.array(str_X5[i].replace(\"(\",\"\").replace(\")\",\" \").split(),dtype = str).reshape(N,N)\n",
    "            current_X6 = np.array(str_X6[i].replace(\"(\",\"\").replace(\")\",\" \").split(),dtype = str).reshape(N,N)\n",
    "            current_X7 = np.array(str_X7[i].replace(\"(\",\"\").replace(\")\",\" \").split(),dtype = str).reshape(N,N)\n",
    "            current_X8 = np.array(str_X8[i].replace(\"(\",\"\").replace(\")\",\" \").split(),dtype = str).reshape(N,N)\n",
    "            current_X9 = np.array(str_X9[i].replace(\"(\",\"\").replace(\")\",\" \").split(),dtype = str).reshape(N,N)\n",
    "            \n",
    "            current_X1_ds = np.array(str_X1_ds[i].replace(\"(\",\"\").replace(\")\",\" \").split(),dtype = str).reshape(N,N)\n",
    "            current_X2_ds = np.array(str_X2_ds[i].replace(\"(\",\"\").replace(\")\",\" \").split(),dtype = str).reshape(N,N)\n",
    "            current_X3_ds = np.array(str_X3_ds[i].replace(\"(\",\"\").replace(\")\",\" \").split(),dtype = str).reshape(N,N)\n",
    "            current_X4_ds = np.array(str_X4_ds[i].replace(\"(\",\"\").replace(\")\",\" \").split(),dtype = str).reshape(N,N)\n",
    "            current_X5_ds = np.array(str_X5_ds[i].replace(\"(\",\"\").replace(\")\",\" \").split(),dtype = str).reshape(N,N)\n",
    "            current_X6_ds = np.array(str_X6_ds[i].replace(\"(\",\"\").replace(\")\",\" \").split(),dtype = str).reshape(N,N)\n",
    "            current_X7_ds = np.array(str_X7_ds[i].replace(\"(\",\"\").replace(\")\",\" \").split(),dtype = str).reshape(N,N)\n",
    "            current_X8_ds = np.array(str_X8_ds[i].replace(\"(\",\"\").replace(\")\",\" \").split(),dtype = str).reshape(N,N)\n",
    "            current_X9_ds = np.array(str_X9_ds[i].replace(\"(\",\"\").replace(\")\",\" \").split(),dtype = str).reshape(N,N)\n",
    "            \n",
    "            X1[i][k][j] = complex(float(current_X1[k][j].split(\",\")[0]), float(current_X1[k][j].split(\",\")[1]))\n",
    "            X2[i][k][j] = complex(float(current_X2[k][j].split(\",\")[0]), float(current_X2[k][j].split(\",\")[1]))\n",
    "            X3[i][k][j] = complex(float(current_X3[k][j].split(\",\")[0]), float(current_X3[k][j].split(\",\")[1]))\n",
    "            X4[i][k][j] = complex(float(current_X4[k][j].split(\",\")[0]), float(current_X4[k][j].split(\",\")[1]))\n",
    "            X5[i][k][j] = complex(float(current_X5[k][j].split(\",\")[0]), float(current_X5[k][j].split(\",\")[1]))\n",
    "            X6[i][k][j] = complex(float(current_X6[k][j].split(\",\")[0]), float(current_X6[k][j].split(\",\")[1]))\n",
    "            X7[i][k][j] = complex(float(current_X7[k][j].split(\",\")[0]), float(current_X7[k][j].split(\",\")[1]))\n",
    "            X8[i][k][j] = complex(float(current_X8[k][j].split(\",\")[0]), float(current_X8[k][j].split(\",\")[1]))\n",
    "            X9[i][k][j] = complex(float(current_X9[k][j].split(\",\")[0]), float(current_X9[k][j].split(\",\")[1]))\n",
    "            \n",
    "            X1_ds[i][k][j] = complex(float(current_X1_ds[k][j].split(\",\")[0]), float(current_X1_ds[k][j].split(\",\")[1]))\n",
    "            X2_ds[i][k][j] = complex(float(current_X2_ds[k][j].split(\",\")[0]), float(current_X2_ds[k][j].split(\",\")[1]))\n",
    "            X3_ds[i][k][j] = complex(float(current_X3_ds[k][j].split(\",\")[0]), float(current_X3_ds[k][j].split(\",\")[1]))\n",
    "            X4_ds[i][k][j] = complex(float(current_X4_ds[k][j].split(\",\")[0]), float(current_X4_ds[k][j].split(\",\")[1]))\n",
    "            X5_ds[i][k][j] = complex(float(current_X5_ds[k][j].split(\",\")[0]), float(current_X5_ds[k][j].split(\",\")[1]))\n",
    "            X6_ds[i][k][j] = complex(float(current_X6_ds[k][j].split(\",\")[0]), float(current_X6_ds[k][j].split(\",\")[1]))\n",
    "            X7_ds[i][k][j] = complex(float(current_X7_ds[k][j].split(\",\")[0]), float(current_X7_ds[k][j].split(\",\")[1]))\n",
    "            X8_ds[i][k][j] = complex(float(current_X8_ds[k][j].split(\",\")[0]), float(current_X8_ds[k][j].split(\",\")[1]))\n",
    "            X9_ds[i][k][j] = complex(float(current_X9_ds[k][j].split(\",\")[0]), float(current_X9_ds[k][j].split(\",\")[1]))\n",
    "\n",
    "            current_V1 = np.array(str_V1[i].replace(\"(\",\"\").replace(\")\",\" \").split(),dtype = str).reshape(N,N)\n",
    "            current_V2 = np.array(str_V2[i].replace(\"(\",\"\").replace(\")\",\" \").split(),dtype = str).reshape(N,N)\n",
    "            current_V3 = np.array(str_V3[i].replace(\"(\",\"\").replace(\")\",\" \").split(),dtype = str).reshape(N,N)\n",
    "            current_V4 = np.array(str_V4[i].replace(\"(\",\"\").replace(\")\",\" \").split(),dtype = str).reshape(N,N)\n",
    "            current_V5 = np.array(str_V5[i].replace(\"(\",\"\").replace(\")\",\" \").split(),dtype = str).reshape(N,N)\n",
    "            current_V6 = np.array(str_V6[i].replace(\"(\",\"\").replace(\")\",\" \").split(),dtype = str).reshape(N,N)\n",
    "            current_V7 = np.array(str_V7[i].replace(\"(\",\"\").replace(\")\",\" \").split(),dtype = str).reshape(N,N)\n",
    "            current_V8 = np.array(str_V8[i].replace(\"(\",\"\").replace(\")\",\" \").split(),dtype = str).reshape(N,N)\n",
    "            current_V9 = np.array(str_V9[i].replace(\"(\",\"\").replace(\")\",\" \").split(),dtype = str).reshape(N,N)\n",
    "            \n",
    "            current_V1_ds = np.array(str_V1_ds[i].replace(\"(\",\"\").replace(\")\",\" \").split(),dtype = str).reshape(N,N)\n",
    "            current_V2_ds = np.array(str_V2_ds[i].replace(\"(\",\"\").replace(\")\",\" \").split(),dtype = str).reshape(N,N)\n",
    "            current_V3_ds = np.array(str_V3_ds[i].replace(\"(\",\"\").replace(\")\",\" \").split(),dtype = str).reshape(N,N)\n",
    "            current_V4_ds = np.array(str_V4_ds[i].replace(\"(\",\"\").replace(\")\",\" \").split(),dtype = str).reshape(N,N)\n",
    "            current_V5_ds = np.array(str_V5_ds[i].replace(\"(\",\"\").replace(\")\",\" \").split(),dtype = str).reshape(N,N)\n",
    "            current_V6_ds = np.array(str_V6_ds[i].replace(\"(\",\"\").replace(\")\",\" \").split(),dtype = str).reshape(N,N)\n",
    "            current_V7_ds = np.array(str_V7_ds[i].replace(\"(\",\"\").replace(\")\",\" \").split(),dtype = str).reshape(N,N)\n",
    "            current_V8_ds = np.array(str_V8_ds[i].replace(\"(\",\"\").replace(\")\",\" \").split(),dtype = str).reshape(N,N)\n",
    "            current_V9_ds = np.array(str_V9_ds[i].replace(\"(\",\"\").replace(\")\",\" \").split(),dtype = str).reshape(N,N)\n",
    "            \n",
    "            V1[i][k][j] = complex(float(current_V1[k][j].split(\",\")[0]), float(current_V1[k][j].split(\",\")[1]))\n",
    "            V2[i][k][j] = complex(float(current_V2[k][j].split(\",\")[0]), float(current_V2[k][j].split(\",\")[1]))\n",
    "            V3[i][k][j] = complex(float(current_V3[k][j].split(\",\")[0]), float(current_V3[k][j].split(\",\")[1]))\n",
    "            V4[i][k][j] = complex(float(current_V4[k][j].split(\",\")[0]), float(current_V4[k][j].split(\",\")[1]))\n",
    "            V5[i][k][j] = complex(float(current_V5[k][j].split(\",\")[0]), float(current_V5[k][j].split(\",\")[1]))\n",
    "            V6[i][k][j] = complex(float(current_V6[k][j].split(\",\")[0]), float(current_V6[k][j].split(\",\")[1]))\n",
    "            V7[i][k][j] = complex(float(current_V7[k][j].split(\",\")[0]), float(current_V7[k][j].split(\",\")[1]))\n",
    "            V8[i][k][j] = complex(float(current_V8[k][j].split(\",\")[0]), float(current_V8[k][j].split(\",\")[1]))\n",
    "            V9[i][k][j] = complex(float(current_V9[k][j].split(\",\")[0]), float(current_V9[k][j].split(\",\")[1]))\n",
    "            \n",
    "            V1_ds[i][k][j] = complex(float(current_V1_ds[k][j].split(\",\")[0]), float(current_V1_ds[k][j].split(\",\")[1]))\n",
    "            V2_ds[i][k][j] = complex(float(current_V2_ds[k][j].split(\",\")[0]), float(current_V2_ds[k][j].split(\",\")[1]))\n",
    "            V3_ds[i][k][j] = complex(float(current_V3_ds[k][j].split(\",\")[0]), float(current_V3_ds[k][j].split(\",\")[1]))\n",
    "            V4_ds[i][k][j] = complex(float(current_V4_ds[k][j].split(\",\")[0]), float(current_V4_ds[k][j].split(\",\")[1]))\n",
    "            V5_ds[i][k][j] = complex(float(current_V5_ds[k][j].split(\",\")[0]), float(current_V5_ds[k][j].split(\",\")[1]))\n",
    "            V6_ds[i][k][j] = complex(float(current_V6_ds[k][j].split(\",\")[0]), float(current_V6_ds[k][j].split(\",\")[1]))\n",
    "            V7_ds[i][k][j] = complex(float(current_V7_ds[k][j].split(\",\")[0]), float(current_V7_ds[k][j].split(\",\")[1]))\n",
    "            V8_ds[i][k][j] = complex(float(current_V8_ds[k][j].split(\",\")[0]), float(current_V8_ds[k][j].split(\",\")[1]))\n",
    "            V9_ds[i][k][j] = complex(float(current_V9_ds[k][j].split(\",\")[0]), float(current_V9_ds[k][j].split(\",\")[1]))\n",
    "    if i % 1000 == 0:\n",
    "        print(i)\n",
    "        print(time.time() - start)\n",
    "print(time.time() - start)"
   ]
  },
  {
   "cell_type": "code",
   "execution_count": 222,
   "id": "d4d3bc0a",
   "metadata": {},
   "outputs": [],
   "source": [
    "def distance_X(\n",
    "    X1,X2,X3,X4,X5,X6,X7,X8,X9,X1_ds,X2_ds,X3_ds,X4_ds,X5_ds,X6_ds,X7_ds,X8_ds,X9_ds,\n",
    "):\n",
    "    dX1_sqr = np.dot(X1_ds - X1, X1_ds - X1)\n",
    "    dX2_sqr = np.dot(X2_ds - X2, X2_ds - X2) \n",
    "    dX3_sqr = np.dot(X3_ds - X3, X3_ds - X3)\n",
    "    dX4_sqr = np.dot(X4_ds - X4, X4_ds - X4)\n",
    "    dX5_sqr = np.dot(X5_ds - X5, X5_ds - X5)\n",
    "    dX6_sqr = np.dot(X6_ds - X6, X6_ds - X6)\n",
    "    dX7_sqr = np.dot(X7_ds - X7, X7_ds - X7)\n",
    "    dX8_sqr = np.dot(X8_ds - X8, X8_ds - X8)\n",
    "    dX9_sqr = np.dot(X9_ds - X9, X9_ds - X9)\n",
    "    \n",
    "    dist_sum = dX1_sqr + dX2_sqr + dX3_sqr + dX4_sqr + dX5_sqr + dX6_sqr + dX7_sqr + dX8_sqr + dX9_sqr\n",
    "    \n",
    "    return np.abs(np.sqrt(dist_sum.trace()))"
   ]
  },
  {
   "cell_type": "code",
   "execution_count": 192,
   "id": "7ccdc42a",
   "metadata": {},
   "outputs": [],
   "source": [
    "# Without coinjugation for square\n",
    "def distance_X_V(\n",
    "    X1,X2,X3,X4,X5,X6,X7,X8,X9,X1_ds,X2_ds,X3_ds,X4_ds,X5_ds,X6_ds,X7_ds,X8_ds,X9_ds,\n",
    "    V1,V2,V3,V4,V5,V6,V7,V8,V9,V1_ds,V2_ds,V3_ds,V4_ds,V5_ds,V6_ds,V7_ds,V8_ds,V9_ds\n",
    "):\n",
    "    \n",
    "    dX1_sqr = np.dot(X1_ds - X1, X1_ds - X1)\n",
    "    dX2_sqr = np.dot(X2_ds - X2, X2_ds - X2) \n",
    "    dX3_sqr = np.dot(X3_ds - X3, X3_ds - X3)\n",
    "    dX4_sqr = np.dot(X4_ds - X4, X4_ds - X4)\n",
    "    dX5_sqr = np.dot(X5_ds - X5, X5_ds - X5)\n",
    "    dX6_sqr = np.dot(X6_ds - X6, X6_ds - X6)\n",
    "    dX7_sqr = np.dot(X7_ds - X7, X7_ds - X7)\n",
    "    dX8_sqr = np.dot(X8_ds - X8, X8_ds - X8)\n",
    "    dX9_sqr = np.dot(X9_ds - X9, X9_ds - X9)\n",
    "\n",
    "    dV1_sqr = np.dot(V1_ds - V1, V1_ds - V1)\n",
    "    dV2_sqr = np.dot(V2_ds - V2, V2_ds - V2) \n",
    "    dV3_sqr = np.dot(V3_ds - V3, V3_ds - V3)\n",
    "    dV4_sqr = np.dot(V4_ds - V4, V4_ds - V4)\n",
    "    dV5_sqr = np.dot(V5_ds - V5, V5_ds - V5)\n",
    "    dV6_sqr = np.dot(V6_ds - V6, V6_ds - V6)\n",
    "    dV7_sqr = np.dot(V7_ds - V7, V7_ds - V7)\n",
    "    dV8_sqr = np.dot(V8_ds - V8, V8_ds - V8)\n",
    "    dV9_sqr = np.dot(V9_ds - V9, V9_ds - V9)\n",
    "    \n",
    "    dist_sum = dX1_sqr + dX2_sqr + dX3_sqr + dX4_sqr + dX5_sqr + dX6_sqr + dX7_sqr + dX8_sqr + dX9_sqr + \\\n",
    "    dV1_sqr + dV2_sqr + dV3_sqr + dV4_sqr + dV5_sqr + dV6_sqr + dV7_sqr + dV8_sqr + dV9_sqr\n",
    "    \n",
    "    return np.abs(np.sqrt(dist_sum.trace()))"
   ]
  },
  {
   "cell_type": "code",
   "execution_count": 223,
   "id": "01d3d703",
   "metadata": {},
   "outputs": [],
   "source": [
    "X_distances_6x6_g = np.zeros(record)\n",
    "\n",
    "for i in np.arange(record):\n",
    "    \n",
    "    X_distances_6x6_g[i] = distance_X(\n",
    "        X1[i],X2[i],X3[i],X4[i],X5[i],X6[i],X7[i],X8[i],X9[i],\n",
    "        X1_ds[i],X2_ds[i],X3_ds[i],X4_ds[i],X5_ds[i],X6_ds[i],X7_ds[i],X8_ds[i],X9_ds[i],\n",
    "    )\n"
   ]
  },
  {
   "cell_type": "code",
   "execution_count": 217,
   "id": "0e33edb7",
   "metadata": {},
   "outputs": [],
   "source": [
    "X_distances_6x6_g = np.zeros(record)\n",
    "\n",
    "for i in np.arange(record):\n",
    "    \n",
    "    X_distances_6x6_g[i] = distance_X_V(\n",
    "        X1[i],X2[i],X3[i],X4[i],X5[i],X6[i],X7[i],X8[i],X9[i],\n",
    "        X1_ds[i],X2_ds[i],X3_ds[i],X4_ds[i],X5_ds[i],X6_ds[i],X7_ds[i],X8_ds[i],X9_ds[i],\n",
    "        V1[i],V2[i],V3[i],V4[i],V5[i],V6[i],V7[i],V8[i],V9[i],\n",
    "        V1_ds[i],V2_ds[i],V3_ds[i],V4_ds[i],V5_ds[i],V6_ds[i],V7_ds[i],V8_ds[i],V9_ds[i]\n",
    "    )\n"
   ]
  },
  {
   "cell_type": "code",
   "execution_count": 230,
   "id": "ed7df9e8",
   "metadata": {},
   "outputs": [],
   "source": [
    "dX_0 = X_distances_6x6_g[1]"
   ]
  },
  {
   "cell_type": "code",
   "execution_count": 232,
   "id": "2ad5cbc5",
   "metadata": {},
   "outputs": [],
   "source": [
    "X_scaled_distances = X_distances_6x6_g / dX_0"
   ]
  },
  {
   "cell_type": "code",
   "execution_count": 245,
   "id": "9dcfc614",
   "metadata": {},
   "outputs": [
    {
     "name": "stderr",
     "output_type": "stream",
     "text": [
      "C:\\Users\\cilli\\AppData\\Local\\Temp\\ipykernel_19152\\3848410462.py:5: RuntimeWarning: divide by zero encountered in log\n",
      "  plt.plot(t_4x4,np.log(distances_4x4),label = \"4x4\")\n",
      "C:\\Users\\cilli\\AppData\\Local\\Temp\\ipykernel_19152\\3848410462.py:7: RuntimeWarning: divide by zero encountered in log\n",
      "  plt.plot(t_8x8,np.log(distances_8x8),label = \"8x8\")\n",
      "C:\\Users\\cilli\\AppData\\Local\\Temp\\ipykernel_19152\\3848410462.py:9: RuntimeWarning: divide by zero encountered in log\n",
      "  plt.plot(t_6x6,np.log(X_scaled_distances), label = \"scaled with g = 1/sqrt(6) no V\")\n"
     ]
    },
    {
     "data": {
      "image/png": "[encoded data removed]",
      "text/plain": [
       "<Figure size 640x480 with 1 Axes>"
      ]
     },
     "metadata": {},
     "output_type": "display_data"
    }
   ],
   "source": [
    "t_4x4 = np.linspace(0,300,3000)\n",
    "t_6x6 = np.linspace(0,200,2000)\n",
    "t_8x8 = np.linspace(0,300,3000)\n",
    "\n",
    "plt.plot(t_4x4,np.log(distances_4x4),label = \"4x4\")\n",
    "plt.plot(t_6x6,np.log(distances_6x6),label = \"6x6\")\n",
    "plt.plot(t_8x8,np.log(distances_8x8),label = \"8x8\")\n",
    "plt.plot(t_6x6,np.log(scaled_distances), label = \"scaled with g = 1/sqrt(6)\")\n",
    "plt.plot(t_6x6,np.log(X_scaled_distances), label = \"scaled with g = 1/sqrt(6) no V\")\n",
    "plt.savefig(\"2X2 Matrices with Energy E = 30.366.jpg\")\n",
    "plt.legend()\n",
    "plt.grid(True);"
   ]
  },
  {
   "cell_type": "code",
   "execution_count": 246,
   "id": "69e6e2e3",
   "metadata": {
    "scrolled": true
   },
   "outputs": [
    {
     "name": "stdout",
     "output_type": "stream",
     "text": [
      "2.738313771078673\n",
      "3.149592060182059\n",
      "0.19489593898589136\n",
      "28.13180687730837\n",
      "15.509548008907712\n"
     ]
    }
   ],
   "source": [
    "print(np.mean(np.log(distances_4x4[500:])))\n",
    "print(np.mean(np.log(distances_6x6[500:])))\n",
    "print(np.mean(np.log(distances_8x8[500:])))\n",
    "print(np.mean(np.log(scaled_distances[500:])))\n",
    "print(np.mean(np.log(X_scaled_distances[500:])))\n"
   ]
  },
  {
   "cell_type": "code",
   "execution_count": 248,
   "id": "655e9c50",
   "metadata": {},
   "outputs": [
    {
     "data": {
      "text/plain": [
       "0.31019096017815423"
      ]
     },
     "execution_count": 248,
     "metadata": {},
     "output_type": "execute_result"
    }
   ],
   "source": [
    "np.mean(np.log(X_scaled_distances[500:]))/50"
   ]
  },
  {
   "cell_type": "code",
   "execution_count": null,
   "id": "ea7f044e",
   "metadata": {},
   "outputs": [],
   "source": []
  }
 ],
 "metadata": {
  "kernelspec": {
   "display_name": "Python 3 (ipykernel)",
   "language": "python",
   "name": "python3"
  },
  "language_info": {
   "codemirror_mode": {
    "name": "ipython",
    "version": 3
   },
   "file_extension": ".py",
   "mimetype": "text/x-python",
   "name": "python",
   "nbconvert_exporter": "python",
   "pygments_lexer": "ipython3",
   "version": "3.10.9"
  }
 },
 "nbformat": 4,
 "nbformat_minor": 5
}
