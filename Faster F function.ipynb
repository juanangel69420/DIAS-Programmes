{
 "cells": [
  {
   "cell_type": "code",
   "execution_count": 597,
   "id": "1526b114",
   "metadata": {},
   "outputs": [],
   "source": [
    "import numpy as np\n",
    "import matplotlib.pyplot as plt\n",
    "import time"
   ]
  },
  {
   "cell_type": "code",
   "execution_count": 598,
   "id": "8da3b4b3",
   "metadata": {},
   "outputs": [],
   "source": [
    "def fast_F(matrix_index,X):\n",
    "    \n",
    "    result = np.zeros([N,N], dtype = complex)\n",
    "    \n",
    "    for i in np.arange(9):\n",
    "        \n",
    "        if i != matrix_index - 1:\n",
    "            temp_result = np.zeros([N,N], dtype = complex)\n",
    "            \n",
    "            for n in np.arange(N):\n",
    "                for m in np.arange(N):\n",
    "                    \n",
    "                    if m >= n:\n",
    "                        sum1, sum2, sum3 = 0,0,0\n",
    "                        \n",
    "                        for a in np.arange(N):\n",
    "                            for b in np.arange(N):\n",
    "\n",
    "                                sum1 += X[i][n][a] * X[matrix_index - 1][a][b] * X[i][b][m]\n",
    "                                sum2 += X[i][n][a] * X[i][a][b] * X[matrix_index - 1][b][m]\n",
    "                                sum3 += X[matrix_index - 1][n][a] * X[i][a][b] * X[i][b][m]\n",
    "                                \n",
    "                        temp_result[n][m] = 2*sum1 - sum2 - sum3\n",
    "                \n",
    "                    else:\n",
    "                        temp_result[n][m] = np.conjugate(temp_result[m][n])\n",
    "                    \n",
    "                    #print(temp_result)\n",
    "                    \n",
    "            result += temp_result\n",
    "            \n",
    "        else:\n",
    "            continue\n",
    "            \n",
    "    return result"
   ]
  },
  {
   "cell_type": "code",
   "execution_count": 599,
   "id": "baed81a0",
   "metadata": {},
   "outputs": [],
   "source": [
    "def fast_F_2(k,X):\n",
    "    #Fs = np.zeros([9,N,N], dtype = complex)\n",
    "    result = np.zeros([N,N], dtype = complex)\n",
    "    \n",
    "    for i in np.arange(9):\n",
    "        if i != (k - 1):\n",
    "            temp = np.dot(np.dot(X[i],X[i]),X[k-1])\n",
    "            #Fs[i] = 2*np.dot(np.dot(X[i],X[k-1]),X[i]) - temp - np.conjugate(temp.T)\n",
    "            result += 2*np.dot(np.dot(X[i],X[k-1]),X[i]) - temp - np.conjugate(temp.T)\n",
    "    \n",
    "    return result # np.sum(Fs, axis = 0)"
   ]
  },
  {
   "cell_type": "code",
   "execution_count": 600,
   "id": "1503d501",
   "metadata": {},
   "outputs": [],
   "source": [
    "def commutator(A,B):\n",
    "    return np.dot(A,B) - np.dot(B,A)\n",
    "\n",
    "def F(Xi,X):\n",
    "    \n",
    "    F = np.zeros([N,N], dtype = complex)\n",
    "    for j in np.arange(9):\n",
    "        F += commutator(X[j],commutator(Xi,X[j]))\n",
    "    return F\n",
    "\n",
    "def H(X,V):\n",
    "    \n",
    "    sum1 = 0\n",
    "    for k in np.arange(9):\n",
    "        sum1 += np.dot(V[k],V[k]).trace()\n",
    "        \n",
    "        \n",
    "    sum2 = np.zeros([N,N], dtype = complex)\n",
    "    for i in np.arange(9):\n",
    "        for j in np.arange(9):\n",
    "            if j == i:\n",
    "                continue\n",
    "            sum2 += np.dot(commutator(X[i],X[j]),commutator(X[i],X[j]))\n",
    "    \n",
    "    T = 1/(2*g**2) * sum1\n",
    "    U = -1/(4*g**2) * sum2.trace()\n",
    "    return np.abs(T + U)"
   ]
  },
  {
   "cell_type": "code",
   "execution_count": 593,
   "id": "1fc7a3d1",
   "metadata": {},
   "outputs": [],
   "source": [
    "X = np.array([X1,X2,X3,X4,X5,X6,X7,X8,X9])"
   ]
  },
  {
   "cell_type": "code",
   "execution_count": 601,
   "id": "9aca4e6f",
   "metadata": {},
   "outputs": [
    {
     "data": {
      "text/plain": [
       "11.303452730178833"
      ]
     },
     "execution_count": 601,
     "metadata": {},
     "output_type": "execute_result"
    }
   ],
   "source": [
    "start = time.time()\n",
    "for i in np.arange(100000):\n",
    "    fast_F_2(1,X)\n",
    "\n",
    "time.time() - start"
   ]
  },
  {
   "cell_type": "code",
   "execution_count": 596,
   "id": "a20633ad",
   "metadata": {},
   "outputs": [
    {
     "data": {
      "text/plain": [
       "8.288036346435547"
      ]
     },
     "execution_count": 596,
     "metadata": {},
     "output_type": "execute_result"
    }
   ],
   "source": [
    "start = time.time()\n",
    "for i in np.arange(100000):\n",
    "    F(X1,X)\n",
    "\n",
    "time.time() - start"
   ]
  },
  {
   "cell_type": "code",
   "execution_count": 576,
   "id": "1c1a4860",
   "metadata": {
    "scrolled": true
   },
   "outputs": [
    {
     "data": {
      "text/plain": [
       "array([[  6.75505947-1.30104261e-18j, -21.89941017+3.09246340e+01j],\n",
       "       [-21.89941017-3.09246340e+01j,  -6.75505947-1.30104261e-18j]])"
      ]
     },
     "execution_count": 576,
     "metadata": {},
     "output_type": "execute_result"
    }
   ],
   "source": [
    "fast_F_2(1,X)"
   ]
  },
  {
   "cell_type": "code",
   "execution_count": 575,
   "id": "3ef10dc9",
   "metadata": {},
   "outputs": [
    {
     "data": {
      "text/plain": [
       "array([[  6.75505947+1.56558794e-16j, -21.89941017+3.09246340e+01j],\n",
       "       [-21.89941017-3.09246340e+01j,  -6.75505947+1.56558794e-16j]])"
      ]
     },
     "execution_count": 575,
     "metadata": {},
     "output_type": "execute_result"
    }
   ],
   "source": [
    "F(X1,X)"
   ]
  },
  {
   "cell_type": "code",
   "execution_count": 591,
   "id": "9d20b026",
   "metadata": {},
   "outputs": [],
   "source": [
    "# Creating random, complex, traceless, hermitian matrices X \n",
    "\n",
    "N = 5\n",
    "\n",
    "X1 = np.zeros([N,N],dtype = complex)\n",
    "X2 = np.zeros([N,N],dtype = complex)\n",
    "X3 = np.zeros([N,N],dtype = complex)\n",
    "X4 = np.zeros([N,N],dtype = complex)\n",
    "X5 = np.zeros([N,N],dtype = complex)\n",
    "X6 = np.zeros([N,N],dtype = complex)\n",
    "X7 = np.zeros([N,N],dtype = complex)\n",
    "X8 = np.zeros([N,N],dtype = complex)\n",
    "X9 = np.zeros([N,N],dtype = complex)\n",
    "\n",
    "for i in np.arange(N):\n",
    "    for j in np.arange(N):\n",
    "        \n",
    "        if (i==j) & (i != N-1):\n",
    "            X1[i][j] = complex(np.random.normal(0,1),0)\n",
    "            X2[i][j] = complex(np.random.normal(0,1),0)\n",
    "            X3[i][j] = complex(np.random.normal(0,1),0)\n",
    "            X4[i][j] = complex(np.random.normal(0,1),0)\n",
    "            X5[i][j] = complex(np.random.normal(0,1),0)\n",
    "            X6[i][j] = complex(np.random.normal(0,1),0)\n",
    "            X7[i][j] = complex(np.random.normal(0,1),0)\n",
    "            X8[i][j] = complex(np.random.normal(0,1),0)\n",
    "            X9[i][j] = complex(np.random.normal(0,1),0)\n",
    "            \n",
    "        elif (i != j):\n",
    "            X1[i][j] = complex(np.random.normal(0,1),np.random.normal(0,1))\n",
    "            X1[j][i] = X1[i][j].conjugate()\n",
    "            X2[i][j] = complex(np.random.normal(0,1),np.random.normal(0,1))\n",
    "            X2[j][i] = X2[i][j].conjugate()\n",
    "            X3[i][j] = complex(np.random.normal(0,1),np.random.normal(0,1))\n",
    "            X3[j][i] = X3[i][j].conjugate()\n",
    "            X4[i][j] = complex(np.random.normal(0,1),np.random.normal(0,1))\n",
    "            X4[j][i] = X4[i][j].conjugate()\n",
    "            X5[i][j] = complex(np.random.normal(0,1),np.random.normal(0,1))\n",
    "            X5[j][i] = X5[i][j].conjugate()\n",
    "            X6[i][j] = complex(np.random.normal(0,1),np.random.normal(0,1))\n",
    "            X6[j][i] = X6[i][j].conjugate()\n",
    "            X7[i][j] = complex(np.random.normal(0,1),np.random.normal(0,1))\n",
    "            X7[j][i] = X7[i][j].conjugate()\n",
    "            X8[i][j] = complex(np.random.normal(0,1),np.random.normal(0,1))\n",
    "            X8[j][i] = X8[i][j].conjugate()\n",
    "            X9[i][j] = complex(np.random.normal(0,1),np.random.normal(0,1))\n",
    "            X9[j][i] = X9[i][j].conjugate()\n",
    "            \n",
    "        else:\n",
    "            current_sum_1 = complex(0,0)\n",
    "            current_sum_2 = complex(0,0)\n",
    "            current_sum_3 = complex(0,0)\n",
    "            current_sum_4 = complex(0,0)\n",
    "            current_sum_5 = complex(0,0)\n",
    "            current_sum_6 = complex(0,0)\n",
    "            current_sum_7 = complex(0,0)\n",
    "            current_sum_8 = complex(0,0)\n",
    "            current_sum_9 = complex(0,0)\n",
    "            \n",
    "            for k in np.arange(N-1):\n",
    "                current_sum_1 += X1[k][k]\n",
    "                current_sum_2 += X2[k][k]\n",
    "                current_sum_3 += X3[k][k]\n",
    "                current_sum_4 += X4[k][k]\n",
    "                current_sum_5 += X5[k][k]\n",
    "                current_sum_6 += X6[k][k]\n",
    "                current_sum_7 += X7[k][k]\n",
    "                current_sum_8 += X8[k][k]\n",
    "                current_sum_9 += X9[k][k]\n",
    "                \n",
    "            X1[i][j] = - current_sum_1\n",
    "            X2[i][j] = - current_sum_2\n",
    "            X3[i][j] = - current_sum_3\n",
    "            X4[i][j] = - current_sum_4\n",
    "            X5[i][j] = - current_sum_5\n",
    "            X6[i][j] = - current_sum_6\n",
    "            X7[i][j] = - current_sum_7\n",
    "            X8[i][j] = - current_sum_8\n",
    "            X9[i][j] = - current_sum_9\n",
    "\n",
    "V1,V2,V3,V4,V5,V6,V7,V8,V9 = np.zeros([9,N,N], dtype = complex)\n",
    "X1R,X2R,X3R,X4R,X5R,X6R,X7R,X8R,X9R = X1,X2,X3,X4,X5,X6,X7,X8,X9"
   ]
  },
  {
   "cell_type": "code",
   "execution_count": 592,
   "id": "b4ee4530",
   "metadata": {},
   "outputs": [],
   "source": [
    "X1,X2,X3,X4,X5,X6,X7,X8,X9 = X1R,X2R,X3R,X4R,X5R,X6R,X7R,X8R,X9R\n",
    "V1,V2,V3,V4,V5,V6,V7,V8,V9 = np.zeros([9,N,N], dtype = complex)"
   ]
  },
  {
   "cell_type": "code",
   "execution_count": 579,
   "id": "1e55c645",
   "metadata": {
    "scrolled": true
   },
   "outputs": [
    {
     "data": {
      "text/plain": [
       "array([[-0.49364114+0.j        ,  0.45177717-0.44828463j],\n",
       "       [ 0.45177717+0.44828463j,  0.49364114-0.j        ]])"
      ]
     },
     "execution_count": 579,
     "metadata": {},
     "output_type": "execute_result"
    }
   ],
   "source": [
    "X1 # X1 starts at this value"
   ]
  },
  {
   "cell_type": "code",
   "execution_count": 580,
   "id": "7dc96c6c",
   "metadata": {
    "scrolled": true
   },
   "outputs": [
    {
     "name": "stdout",
     "output_type": "stream",
     "text": [
      "21.956254243850708\n"
     ]
    }
   ],
   "source": [
    "start = time.time()\n",
    "g = 5\n",
    "dt = 1e-4\n",
    "\n",
    "X = np.array([X1,X2,X3,X4,X5,X6,X7,X8,X9], dtype = complex)\n",
    "V = np.array([V1,V2,V3,V4,V5,V6,V7,V8,V9], dtype = complex)\n",
    "\n",
    "for i in np.arange(10000):\n",
    "    \n",
    "    X1_n = X1 + V1*dt + F(X1,X)*dt**2/2\n",
    "    X2_n = X2 + V2*dt + F(X2,X)*dt**2/2\n",
    "    X3_n = X3 + V3*dt + F(X3,X)*dt**2/2\n",
    "    X4_n = X4 + V4*dt + F(X4,X)*dt**2/2\n",
    "    X5_n = X5 + V5*dt + F(X5,X)*dt**2/2\n",
    "    X6_n = X6 + V6*dt + F(X6,X)*dt**2/2\n",
    "    X7_n = X7 + V7*dt + F(X7,X)*dt**2/2\n",
    "    X8_n = X8 + V8*dt + F(X8,X)*dt**2/2\n",
    "    X9_n = X9 + V9*dt + F(X9,X)*dt**2/2\n",
    "    \n",
    "    X_n = np.array([X1_n,X2_n,X3_n,X4_n,X5_n,X6_n,X7_n,X8_n,X9_n])\n",
    "    \n",
    "    V1 = V1 + (F(X1,X) + F(X1_n,X_n))*dt/2\n",
    "    V2 = V2 + (F(X2,X) + F(X2_n,X_n))*dt/2\n",
    "    V3 = V3 + (F(X3,X) + F(X3_n,X_n))*dt/2\n",
    "    V4 = V4 + (F(X4,X) + F(X4_n,X_n))*dt/2\n",
    "    V5 = V5 + (F(X5,X) + F(X5_n,X_n))*dt/2\n",
    "    V6 = V6 + (F(X6,X) + F(X6_n,X_n))*dt/2\n",
    "    V7 = V7 + (F(X7,X) + F(X7_n,X_n))*dt/2\n",
    "    V8 = V8 + (F(X8,X) + F(X8_n,X_n))*dt/2\n",
    "    V9 = V9 + (F(X9,X) + F(X9_n,X_n))*dt/2\n",
    "    \n",
    "    X1, X2, X3, X4, X5, X6, X7, X8, X9 = X1_n, X2_n, X3_n, X4_n, X5_n, X6_n, X7_n, X8_n, X9_n\n",
    "    X = np.array([X1,X2,X3,X4,X5,X6,X7,X8,X9])\n",
    "    V = np.array([V1,V2,V3,V4,V5,V6,V7,V8,V9])\n",
    "\n",
    "print(time.time() - start)"
   ]
  },
  {
   "cell_type": "code",
   "execution_count": 581,
   "id": "2c2256a6",
   "metadata": {},
   "outputs": [
    {
     "data": {
      "text/plain": [
       "array([[ 0.31064108-4.82320380e-20j,  0.20382644+5.29269066e-01j],\n",
       "       [ 0.20382644-5.29269066e-01j, -0.31064108-4.82320380e-20j]])"
      ]
     },
     "execution_count": 581,
     "metadata": {},
     "output_type": "execute_result"
    }
   ],
   "source": [
    "X1"
   ]
  },
  {
   "cell_type": "code",
   "execution_count": 582,
   "id": "eb5cde8e",
   "metadata": {},
   "outputs": [
    {
     "name": "stdout",
     "output_type": "stream",
     "text": [
      "27.140979766845703\n"
     ]
    }
   ],
   "source": [
    "start = time.time()\n",
    "g = 5\n",
    "dt = 1e-4\n",
    "\n",
    "X = np.array([X1,X2,X3,X4,X5,X6,X7,X8,X9], dtype = complex)\n",
    "V = np.array([V1,V2,V3,V4,V5,V6,V7,V8,V9], dtype = complex)\n",
    "\n",
    "for i in np.arange(10000):\n",
    "    \n",
    "    X1_n = X1 + V1*dt + fast_F_2(1,X)*dt**2/2\n",
    "    X2_n = X2 + V2*dt + fast_F_2(2,X)*dt**2/2\n",
    "    X3_n = X3 + V3*dt + fast_F_2(3,X)*dt**2/2\n",
    "    X4_n = X4 + V4*dt + fast_F_2(4,X)*dt**2/2\n",
    "    X5_n = X5 + V5*dt + fast_F_2(5,X)*dt**2/2\n",
    "    X6_n = X6 + V6*dt + fast_F_2(6,X)*dt**2/2\n",
    "    X7_n = X7 + V7*dt + fast_F_2(7,X)*dt**2/2\n",
    "    X8_n = X8 + V8*dt + fast_F_2(8,X)*dt**2/2\n",
    "    X9_n = X9 + V9*dt + fast_F_2(9,X)*dt**2/2\n",
    "    \n",
    "    X_n = np.array([X1_n,X2_n,X3_n,X4_n,X5_n,X6_n,X7_n,X8_n,X9_n])\n",
    "    \n",
    "    V1 = V1 + (fast_F_2(1,X) + fast_F_2(1,X_n))*dt/2\n",
    "    V2 = V2 + (fast_F_2(2,X) + fast_F_2(2,X_n))*dt/2\n",
    "    V3 = V3 + (fast_F_2(3,X) + fast_F_2(3,X_n))*dt/2\n",
    "    V4 = V4 + (fast_F_2(4,X) + fast_F_2(4,X_n))*dt/2\n",
    "    V5 = V5 + (fast_F_2(5,X) + fast_F_2(5,X_n))*dt/2\n",
    "    V6 = V6 + (fast_F_2(6,X) + fast_F_2(6,X_n))*dt/2\n",
    "    V7 = V7 + (fast_F_2(7,X) + fast_F_2(7,X_n))*dt/2\n",
    "    V8 = V8 + (fast_F_2(8,X) + fast_F_2(8,X_n))*dt/2\n",
    "    V9 = V9 + (fast_F_2(9,X) + fast_F_2(9,X_n))*dt/2\n",
    "    \n",
    "    X1, X2, X3, X4, X5, X6, X7, X8, X9 = X1_n, X2_n, X3_n, X4_n, X5_n, X6_n, X7_n, X8_n, X9_n\n",
    "    X = np.array([X1,X2,X3,X4,X5,X6,X7,X8,X9])\n",
    "    V = np.array([V1,V2,V3,V4,V5,V6,V7,V8,V9])\n",
    "\n",
    "print(time.time() - start)"
   ]
  },
  {
   "cell_type": "code",
   "execution_count": 583,
   "id": "5314bc56",
   "metadata": {},
   "outputs": [
    {
     "data": {
      "text/plain": [
       "array([[-0.0444925 -9.35598031e-16j,  0.59396428-4.06476359e-01j],\n",
       "       [ 0.59396428+4.06476359e-01j,  0.0444925 -9.35598031e-16j]])"
      ]
     },
     "execution_count": 583,
     "metadata": {},
     "output_type": "execute_result"
    }
   ],
   "source": [
    "X1"
   ]
  },
  {
   "cell_type": "code",
   "execution_count": null,
   "id": "fc461820",
   "metadata": {},
   "outputs": [],
   "source": []
  }
 ],
 "metadata": {
  "kernelspec": {
   "display_name": "Python 3",
   "language": "python",
   "name": "python3"
  },
  "language_info": {
   "codemirror_mode": {
    "name": "ipython",
    "version": 3
   },
   "file_extension": ".py",
   "mimetype": "text/x-python",
   "name": "python",
   "nbconvert_exporter": "python",
   "pygments_lexer": "ipython3",
   "version": "3.8.8"
  }
 },
 "nbformat": 4,
 "nbformat_minor": 5
}
