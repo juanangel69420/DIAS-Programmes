{
 "cells": [
  {
   "cell_type": "code",
   "execution_count": 26,
   "id": "114b58de",
   "metadata": {},
   "outputs": [],
   "source": [
    "import numpy as np \n",
    "import matplotlib.pyplot as plt"
   ]
  },
  {
   "cell_type": "code",
   "execution_count": 27,
   "id": "b9f206c1",
   "metadata": {},
   "outputs": [],
   "source": [
    "def commutator(A,B):\n",
    "    return np.dot(A,B) - np.dot(B,A)\n",
    "\n",
    "def F1(X1,X2):\n",
    "    return commutator(X2,commutator(X1,X2))\n",
    "\n",
    "def F2(X1,X2):\n",
    "    return commutator(X1,commutator(X2,X1))\n",
    "\n",
    "def H(X1,X2,P1,P2):\n",
    "    \n",
    "    T = 1/(2*g**2) * np.trace(np.dot(V1,V1) + np.dot(V2,V2))\n",
    "    \n",
    "    U = -(1)/(4*g**2) * np.trace(np.dot(commutator(X1,X2),commutator(X1,X2)) + np.dot(commutator(X2,X1),commutator(X2,X1)))\n",
    "    \n",
    "    return np.abs(T + U)"
   ]
  },
  {
   "cell_type": "markdown",
   "id": "d4af9c5b",
   "metadata": {},
   "source": [
    "# complex "
   ]
  },
  {
   "cell_type": "code",
   "execution_count": 28,
   "id": "bac85fa3",
   "metadata": {},
   "outputs": [],
   "source": [
    "N = 2\n",
    "\n",
    "X1 = np.zeros([N,N],dtype = complex)\n",
    "X2 = np.zeros([N,N],dtype = complex)\n",
    "\n",
    "for i in np.arange(N):\n",
    "    \n",
    "    for j in np.arange(N):\n",
    "        \n",
    "        k = np.random.uniform(-1,1)\n",
    "        m = np.random.uniform(-1,1)\n",
    "        X1[i][j] = complex(0.01*k,0.01*m)\n",
    "        X1[j][i] = complex(0.01*k,-0.01*m)\n",
    "        \n",
    "    if (i == N-1) & (i == j):\n",
    "        currentsum = complex(0,0)\n",
    "        for s in np.arange(N-1):\n",
    "            currentsum += X1[s][s]\n",
    "        \n",
    "        X1[i][j] = -currentsum\n",
    "        \n",
    "            \n",
    "for i in range(N):\n",
    "    \n",
    "    for j in range(N):\n",
    "\n",
    "        k = np.random.uniform(-1,1)\n",
    "        m = np.random.uniform(-1,1)\n",
    "        X2[i][j] = complex(0.01*k,0.01*m)\n",
    "        X2[j][i] = complex(0.01*k,-0.01*m)\n",
    "        \n",
    "    if (i == N-1) & (i == j):\n",
    "        currentsum = complex(0,0)\n",
    "        for s in np.arange(N-1):\n",
    "            currentsum += X2[s][s]\n",
    "        \n",
    "        X2[i][j] = -currentsum\n",
    "        \n",
    "V1 = np.zeros([N,N], dtype = complex)\n",
    "V2 = np.zeros([N,N], dtype = complex)\n",
    "\n",
    "X = np.array([X1,X2])\n",
    "V = np.array([V1,V2])"
   ]
  },
  {
   "cell_type": "code",
   "execution_count": 29,
   "id": "ec1ed6db",
   "metadata": {},
   "outputs": [
    {
     "name": "stdout",
     "output_type": "stream",
     "text": [
      "165.19191144533926\n",
      "0\n"
     ]
    },
    {
     "ename": "KeyboardInterrupt",
     "evalue": "",
     "output_type": "error",
     "traceback": [
      "\u001b[1;31m---------------------------------------------------------------------------\u001b[0m",
      "\u001b[1;31mKeyboardInterrupt\u001b[0m                         Traceback (most recent call last)",
      "Cell \u001b[1;32mIn[29], line 27\u001b[0m\n\u001b[0;32m     23\u001b[0m V2 \u001b[38;5;241m=\u001b[39m V2 \u001b[38;5;241m+\u001b[39m (F2(X1,X2) \u001b[38;5;241m+\u001b[39m F2(X1_n,X2_n))\u001b[38;5;241m*\u001b[39mdt\u001b[38;5;241m/\u001b[39m\u001b[38;5;241m2\u001b[39m\n\u001b[0;32m     25\u001b[0m X1, X2 \u001b[38;5;241m=\u001b[39m X1_n, X2_n\n\u001b[1;32m---> 27\u001b[0m Energy[i] \u001b[38;5;241m=\u001b[39m \u001b[43mH\u001b[49m\u001b[43m(\u001b[49m\u001b[43mX1\u001b[49m\u001b[43m,\u001b[49m\u001b[43mX2\u001b[49m\u001b[43m,\u001b[49m\u001b[43mV1\u001b[49m\u001b[43m,\u001b[49m\u001b[43mV2\u001b[49m\u001b[43m)\u001b[49m\n\u001b[0;32m     29\u001b[0m \u001b[38;5;28;01mif\u001b[39;00m i \u001b[38;5;241m%\u001b[39m \u001b[38;5;241m10000\u001b[39m \u001b[38;5;241m==\u001b[39m \u001b[38;5;241m0\u001b[39m:\n\u001b[0;32m     30\u001b[0m     \u001b[38;5;28mprint\u001b[39m(Energy[i])\n",
      "Cell \u001b[1;32mIn[27], line 14\u001b[0m, in \u001b[0;36mH\u001b[1;34m(X1, X2, P1, P2)\u001b[0m\n\u001b[0;32m     10\u001b[0m \u001b[38;5;28;01mdef\u001b[39;00m \u001b[38;5;21mH\u001b[39m(X1,X2,P1,P2):\n\u001b[0;32m     12\u001b[0m     T \u001b[38;5;241m=\u001b[39m \u001b[38;5;241m1\u001b[39m\u001b[38;5;241m/\u001b[39m(\u001b[38;5;241m2\u001b[39m\u001b[38;5;241m*\u001b[39mg\u001b[38;5;241m*\u001b[39m\u001b[38;5;241m*\u001b[39m\u001b[38;5;241m2\u001b[39m) \u001b[38;5;241m*\u001b[39m np\u001b[38;5;241m.\u001b[39mtrace(np\u001b[38;5;241m.\u001b[39mdot(V1,V1) \u001b[38;5;241m+\u001b[39m np\u001b[38;5;241m.\u001b[39mdot(V2,V2))\n\u001b[1;32m---> 14\u001b[0m     U \u001b[38;5;241m=\u001b[39m \u001b[38;5;241m-\u001b[39m(\u001b[38;5;241m1\u001b[39m)\u001b[38;5;241m/\u001b[39m(\u001b[38;5;241m4\u001b[39m\u001b[38;5;241m*\u001b[39mg\u001b[38;5;241m*\u001b[39m\u001b[38;5;241m*\u001b[39m\u001b[38;5;241m2\u001b[39m) \u001b[38;5;241m*\u001b[39m np\u001b[38;5;241m.\u001b[39mtrace(np\u001b[38;5;241m.\u001b[39mdot(\u001b[43mcommutator\u001b[49m\u001b[43m(\u001b[49m\u001b[43mX1\u001b[49m\u001b[43m,\u001b[49m\u001b[43mX2\u001b[49m\u001b[43m)\u001b[49m,commutator(X1,X2)) \u001b[38;5;241m+\u001b[39m np\u001b[38;5;241m.\u001b[39mdot(commutator(X2,X1),commutator(X2,X1)))\n\u001b[0;32m     16\u001b[0m     \u001b[38;5;28;01mreturn\u001b[39;00m np\u001b[38;5;241m.\u001b[39mabs(T \u001b[38;5;241m+\u001b[39m U)\n",
      "Cell \u001b[1;32mIn[27], line 2\u001b[0m, in \u001b[0;36mcommutator\u001b[1;34m(A, B)\u001b[0m\n\u001b[0;32m      1\u001b[0m \u001b[38;5;28;01mdef\u001b[39;00m \u001b[38;5;21mcommutator\u001b[39m(A,B):\n\u001b[1;32m----> 2\u001b[0m     \u001b[38;5;28;01mreturn\u001b[39;00m np\u001b[38;5;241m.\u001b[39mdot(A,B) \u001b[38;5;241m-\u001b[39m \u001b[43mnp\u001b[49m\u001b[38;5;241;43m.\u001b[39;49m\u001b[43mdot\u001b[49m\u001b[43m(\u001b[49m\u001b[43mB\u001b[49m\u001b[43m,\u001b[49m\u001b[43mA\u001b[49m\u001b[43m)\u001b[49m\n",
      "File \u001b[1;32m<__array_function__ internals>:180\u001b[0m, in \u001b[0;36mdot\u001b[1;34m(*args, **kwargs)\u001b[0m\n",
      "\u001b[1;31mKeyboardInterrupt\u001b[0m: "
     ]
    }
   ],
   "source": [
    "X1_sol, X2_sol = np.zeros([2,int(5e6),N,N],dtype = complex)\n",
    "V1_sol, V2_sol = np.zeros([2,int(5e6),N,N],dtype = complex)\n",
    "F1_sol, F2_sol = np.zeros([2,int(5e6),N,N],dtype = complex)\n",
    "Energy = np.zeros(int(5e6))\n",
    "\n",
    "dt = 1e-4\n",
    "g = 1e-5\n",
    "\n",
    "for i in np.arange(int(5000000)):\n",
    "    \n",
    "    F1_sol[i] = F1(X1,X2)\n",
    "    F2_sol[i] = F2(X1,X2)\n",
    "    \n",
    "    X1_sol[i] = X1\n",
    "    X2_sol[i] = X2\n",
    "    V1_sol[i] = V1\n",
    "    V2_sol[i] = V2\n",
    "    \n",
    "    X1_n = X1 + V1*dt + F1(X1,X2)*(dt**2)/2\n",
    "    X2_n = X2 + V2*dt + F2(X1,X2)*(dt**2)/2\n",
    "    \n",
    "    V1 = V1 + (F1(X1,X2) + F1(X1_n,X2_n))*dt/2\n",
    "    V2 = V2 + (F2(X1,X2) + F2(X1_n,X2_n))*dt/2\n",
    "    \n",
    "    X1, X2 = X1_n, X2_n\n",
    "    \n",
    "    Energy[i] = H(X1,X2,V1,V2)\n",
    "    \n",
    "    if i % 10000 == 0:\n",
    "        print(Energy[i])\n",
    "        print(i)\n",
    "    if (np.isnan(H(X1,X2,V1,V2))):\n",
    "        print(\"broken\")\n",
    "        break\n",
    "\n",
    "k = i"
   ]
  },
  {
   "cell_type": "markdown",
   "id": "79c22cd3",
   "metadata": {},
   "source": [
    "# real"
   ]
  },
  {
   "cell_type": "code",
   "execution_count": 17,
   "id": "97ead627",
   "metadata": {},
   "outputs": [],
   "source": [
    "N = 2\n",
    "\n",
    "X1 = np.zeros([N,N])\n",
    "X2 = np.zeros([N,N])\n",
    "\n",
    "for i in np.arange(N):\n",
    "    \n",
    "    for j in np.arange(N):\n",
    "        \n",
    "        k = np.random.uniform(-1,1)\n",
    "        X1[i][j] = k\n",
    "        X1[j][i] = k\n",
    "        \n",
    "    if (i == N-1) & (i == j):\n",
    "        currentsum = 0\n",
    "        for s in np.arange(N-1):\n",
    "            currentsum += X1[s][s]\n",
    "        \n",
    "        X1[i][j] = -currentsum\n",
    "        \n",
    "            \n",
    "for i in range(N):\n",
    "    \n",
    "    for j in range(N):\n",
    "\n",
    "        k = np.random.uniform(-1,1)\n",
    "        X2[i][j] = k\n",
    "        X2[j][i] = k\n",
    "        \n",
    "    if (i == N-1) & (i == j):\n",
    "        currentsum = 0\n",
    "        for s in np.arange(N-1):\n",
    "            currentsum += X2[s][s]\n",
    "        \n",
    "        X2[i][j] = -currentsum\n",
    "        \n",
    "V1 = np.zeros([N,N])\n",
    "V2 = np.zeros([N,N])\n",
    "\n",
    "X = np.array([X1,X2])\n",
    "V = np.array([V1,V2])"
   ]
  },
  {
   "cell_type": "code",
   "execution_count": 21,
   "id": "74f0c403",
   "metadata": {
    "scrolled": true
   },
   "outputs": [
    {
     "name": "stdout",
     "output_type": "stream",
     "text": [
      "1.9202097859389629\n",
      "0\n"
     ]
    },
    {
     "ename": "KeyboardInterrupt",
     "evalue": "",
     "output_type": "error",
     "traceback": [
      "\u001b[1;31m---------------------------------------------------------------------------\u001b[0m",
      "\u001b[1;31mKeyboardInterrupt\u001b[0m                         Traceback (most recent call last)",
      "Cell \u001b[1;32mIn[21], line 19\u001b[0m\n\u001b[0;32m     16\u001b[0m V1_sol[i] \u001b[38;5;241m=\u001b[39m V1\n\u001b[0;32m     17\u001b[0m V2_sol[i] \u001b[38;5;241m=\u001b[39m V2\n\u001b[1;32m---> 19\u001b[0m X1_n \u001b[38;5;241m=\u001b[39m X1 \u001b[38;5;241m+\u001b[39m V1\u001b[38;5;241m*\u001b[39mdt \u001b[38;5;241m+\u001b[39m \u001b[43mF1\u001b[49m\u001b[43m(\u001b[49m\u001b[43mX1\u001b[49m\u001b[43m,\u001b[49m\u001b[43mX2\u001b[49m\u001b[43m)\u001b[49m\u001b[38;5;241m*\u001b[39m(dt\u001b[38;5;241m*\u001b[39m\u001b[38;5;241m*\u001b[39m\u001b[38;5;241m2\u001b[39m)\u001b[38;5;241m/\u001b[39m\u001b[38;5;241m2\u001b[39m\n\u001b[0;32m     20\u001b[0m X2_n \u001b[38;5;241m=\u001b[39m X2 \u001b[38;5;241m+\u001b[39m V2\u001b[38;5;241m*\u001b[39mdt \u001b[38;5;241m+\u001b[39m F2(X1,X2)\u001b[38;5;241m*\u001b[39m(dt\u001b[38;5;241m*\u001b[39m\u001b[38;5;241m*\u001b[39m\u001b[38;5;241m2\u001b[39m)\u001b[38;5;241m/\u001b[39m\u001b[38;5;241m2\u001b[39m\n\u001b[0;32m     22\u001b[0m V1 \u001b[38;5;241m=\u001b[39m V1 \u001b[38;5;241m+\u001b[39m (F1(X1,X2) \u001b[38;5;241m+\u001b[39m F1(X1_n,X2_n))\u001b[38;5;241m*\u001b[39mdt\u001b[38;5;241m/\u001b[39m\u001b[38;5;241m2\u001b[39m\n",
      "Cell \u001b[1;32mIn[20], line 4\u001b[0m, in \u001b[0;36mF1\u001b[1;34m(X1, X2)\u001b[0m\n\u001b[0;32m      1\u001b[0m \u001b[38;5;28;01mdef\u001b[39;00m \u001b[38;5;21mcommutator\u001b[39m(A,B):\n\u001b[0;32m      2\u001b[0m     \u001b[38;5;28;01mreturn\u001b[39;00m np\u001b[38;5;241m.\u001b[39mdot(A,B) \u001b[38;5;241m-\u001b[39m np\u001b[38;5;241m.\u001b[39mdot(B,A)\n\u001b[1;32m----> 4\u001b[0m \u001b[38;5;28;01mdef\u001b[39;00m \u001b[38;5;21mF1\u001b[39m(X1,X2):\n\u001b[0;32m      5\u001b[0m     \u001b[38;5;28;01mreturn\u001b[39;00m commutator(X2,commutator(X1,X2))\n\u001b[0;32m      7\u001b[0m \u001b[38;5;28;01mdef\u001b[39;00m \u001b[38;5;21mF2\u001b[39m(X1,X2):\n",
      "\u001b[1;31mKeyboardInterrupt\u001b[0m: "
     ]
    }
   ],
   "source": [
    "X1_sol, X2_sol = np.zeros([2,int(5e6),N,N])\n",
    "V1_sol, V2_sol = np.zeros([2,int(5e6),N,N])\n",
    "F1_sol, F2_sol = np.zeros([2,int(5e6),N,N])\n",
    "Energy = np.zeros(int(5e6))\n",
    "\n",
    "dt = 1e-4\n",
    "g = 1\n",
    "\n",
    "for i in np.arange(int(5000000)):\n",
    "    \n",
    "    F1_sol[i] = F1(X1,X2)\n",
    "    F2_sol[i] = F2(X1,X2)\n",
    "    \n",
    "    X1_sol[i] = X1\n",
    "    X2_sol[i] = X2\n",
    "    V1_sol[i] = V1\n",
    "    V2_sol[i] = V2\n",
    "    \n",
    "    X1_n = X1 + V1*dt + F1(X1,X2)*(dt**2)/2\n",
    "    X2_n = X2 + V2*dt + F2(X1,X2)*(dt**2)/2\n",
    "    \n",
    "    V1 = V1 + (F1(X1,X2) + F1(X1_n,X2_n))*dt/2\n",
    "    V2 = V2 + (F2(X1,X2) + F2(X1_n,X2_n))*dt/2\n",
    "    \n",
    "    X1, X2 = X1_n, X2_n\n",
    "    \n",
    "    Energy[i] = H(X1,X2,V1,V2)\n",
    "    \n",
    "    if i % 10000 == 0:\n",
    "        print(Energy[i])\n",
    "        print(i)\n",
    "    if (np.isnan(H(X1,X2,V1,V2))):\n",
    "        print(\"broken\")\n",
    "        break\n",
    "\n",
    "k = i"
   ]
  },
  {
   "cell_type": "code",
   "execution_count": 54,
   "id": "2bcd5aaa",
   "metadata": {},
   "outputs": [
    {
     "data": {
      "text/plain": [
       "array([[-1.03406536e+33+2.00710683e+33j,  1.72684275e+33-3.13854867e+33j],\n",
       "       [-1.96078555e+33+5.40238352e+33j,  1.03406536e+33-2.00710683e+33j]])"
      ]
     },
     "execution_count": 54,
     "metadata": {},
     "output_type": "execute_result"
    }
   ],
   "source": [
    "X1_sol[k]"
   ]
  },
  {
   "cell_type": "code",
   "execution_count": 46,
   "id": "69e1e9b8",
   "metadata": {
    "scrolled": false
   },
   "outputs": [
    {
     "data": {
      "text/plain": [
       "2093452"
      ]
     },
     "execution_count": 46,
     "metadata": {},
     "output_type": "execute_result"
    }
   ],
   "source": [
    "k"
   ]
  },
  {
   "cell_type": "code",
   "execution_count": 47,
   "id": "d1e5a9f7",
   "metadata": {},
   "outputs": [],
   "source": [
    "L2_X1 = np.zeros(int((2093000)/1000))\n",
    "L2_X2 = np.zeros(int((2093000)/10\n",
    "                     00))\n",
    "L2_V1 = np.zeros(int((2093000)/1000))\n",
    "L2_V2 = np.zeros(int((2093000)/1000))\n",
    "L2_F1 = np.zeros(int((2093000)/1000))\n",
    "L2_F2 = np.zeros(int((2093000)/1000))\n",
    "Hamiltonians = np.zeros(int((2093000)/1000))\n",
    "\n",
    "for i in np.arange(2090000):\n",
    "\n",
    "    if i % 1000 == 0:\n",
    "        \n",
    "        L2_X1[int(i/1000)] = np.linalg.norm(X1_sol[i])\n",
    "        L2_X2[int(i/1000)] = np.linalg.norm(X2_sol[i])\n",
    "        L2_V1[int(i/1000)] = np.linalg.norm(V1_sol[i])\n",
    "        L2_V2[int(i/1000)] = np.linalg.norm(V2_sol[i])\n",
    "        \n",
    "        L2_F1[int(i/1000)] = np.linalg.norm(F1_sol[i])\n",
    "        L2_F2[int(i/1000)] = np.linalg.norm(F2_sol[i])\n",
    "        \n",
    "        Hamiltonians[int(i/1000)]= Energy[i]\n",
    "\n",
    "t = np.linspace(0,2093000*1e-4,int((2093000)/1000))"
   ]
  },
  {
   "cell_type": "code",
   "execution_count": 50,
   "id": "4911ced5",
   "metadata": {
    "scrolled": true
   },
   "outputs": [
    {
     "data": {
      "text/plain": [
       "2093"
      ]
     },
     "execution_count": 50,
     "metadata": {},
     "output_type": "execute_result"
    }
   ],
   "source": [
    "len(t)"
   ]
  },
  {
   "cell_type": "code",
   "execution_count": 1,
   "id": "6725ae79",
   "metadata": {},
   "outputs": [
    {
     "ename": "NameError",
     "evalue": "name 'plt' is not defined",
     "output_type": "error",
     "traceback": [
      "\u001b[1;31m---------------------------------------------------------------------------\u001b[0m",
      "\u001b[1;31mNameError\u001b[0m                                 Traceback (most recent call last)",
      "Cell \u001b[1;32mIn[1], line 1\u001b[0m\n\u001b[1;32m----> 1\u001b[0m fig \u001b[38;5;241m=\u001b[39m \u001b[43mplt\u001b[49m\u001b[38;5;241m.\u001b[39mfigure(figsize \u001b[38;5;241m=\u001b[39m (\u001b[38;5;241m20\u001b[39m,\u001b[38;5;241m12\u001b[39m))\n\u001b[0;32m      3\u001b[0m ax1 \u001b[38;5;241m=\u001b[39m fig\u001b[38;5;241m.\u001b[39madd_subplot(\u001b[38;5;241m3\u001b[39m,\u001b[38;5;241m3\u001b[39m,\u001b[38;5;241m1\u001b[39m)\n\u001b[0;32m      4\u001b[0m ax2 \u001b[38;5;241m=\u001b[39m fig\u001b[38;5;241m.\u001b[39madd_subplot(\u001b[38;5;241m3\u001b[39m,\u001b[38;5;241m3\u001b[39m,\u001b[38;5;241m2\u001b[39m)\n",
      "\u001b[1;31mNameError\u001b[0m: name 'plt' is not defined"
     ]
    }
   ],
   "source": [
    "fig = plt.figure(figsize = (20,12))\n",
    "\n",
    "ax1 = fig.add_subplot(3,3,1)\n",
    "ax2 = fig.add_subplot(3,3,2)\n",
    "ax3 = fig.add_subplot(3,3,3)\n",
    "ax4 = fig.add_subplot(3,3,4)\n",
    "ax5 = fig.add_subplot(3,3,5)\n",
    "ax6 = fig.add_subplot(3,3,6)\n",
    "ax7 = fig.add_subplot(3,2,5)\n",
    "\n",
    "ax1.plot(t[int(1.8e3):int(2.09e3)],L2_X1[int(1.8e3):int(2.09e3)])\n",
    "ax1.set_xlabel(\"time\")\n",
    "ax1.set_ylabel(\"L2_X1\")\n",
    "\n",
    "ax2.plot(t[int(1.8e3):int(2.09e3)],L2_X2[int(1.8e3):int(2.09e3)])\n",
    "ax2.set_xlabel(\"time\")\n",
    "ax2.set_ylabel(\"L2_X2\")\n",
    "\n",
    "ax3.plot(t[int(1.8e3):int(2.09e3)],L2_V1[int(1.8e3):int(2.09e3)])\n",
    "ax3.set_xlabel(\"time\")\n",
    "ax3.set_ylabel(\"L2_V1\")\n",
    "ax3.set_yscale(\"log\")\n",
    "\n",
    "ax4.plot(t[int(1.8e3):int(2.09e3)],L2_V2[int(1.8e3):int(2.09e3)])\n",
    "ax4.set_xlabel(\"time\")\n",
    "ax4.set_ylabel(\"L2_V2\")\n",
    "ax4.set_yscale(\"log\")\n",
    "\n",
    "ax5.plot(t[int(1.8e3):int(2.09e3)],L2_F1[int(1.8e3):int(2.09e3)])\n",
    "ax5.set_xlabel(\"time\")\n",
    "ax5.set_ylabel(\"L2_F1\")\n",
    "\n",
    "ax6.plot(t[int(1.8e3):int(2.09e3)],L2_F2[int(1.8e3):int(2.09e3)])\n",
    "ax6.set_xlabel(\"time\")\n",
    "ax6.set_ylabel(\"L2_F2\")\n",
    "\n",
    "ax7.plot(t[int(1.8e3):int(2.09e3)],Hamiltonians[int(1.8e3):int(2.09e3)])\n",
    "ax7.set_xlabel(\"time\")\n",
    "ax7.set_ylabel(\"Energy\")\n",
    "ax7.set_yscale(\"log\")\n"
   ]
  },
  {
   "cell_type": "code",
   "execution_count": null,
   "id": "f0e76dd5",
   "metadata": {},
   "outputs": [],
   "source": []
  }
 ],
 "metadata": {
  "kernelspec": {
   "display_name": "Python 3 (ipykernel)",
   "language": "python",
   "name": "python3"
  },
  "language_info": {
   "codemirror_mode": {
    "name": "ipython",
    "version": 3
   },
   "file_extension": ".py",
   "mimetype": "text/x-python",
   "name": "python",
   "nbconvert_exporter": "python",
   "pygments_lexer": "ipython3",
   "version": "3.10.9"
  }
 },
 "nbformat": 4,
 "nbformat_minor": 5
}
