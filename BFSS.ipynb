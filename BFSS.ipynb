{
 "cells": [
  {
   "cell_type": "code",
   "execution_count": 1,
   "id": "1684c0bf",
   "metadata": {},
   "outputs": [],
   "source": [
    "import sympy as sp\n",
    "import numpy as np"
   ]
  },
  {
   "cell_type": "code",
   "execution_count": 174,
   "id": "4b43db11",
   "metadata": {},
   "outputs": [],
   "source": [
    "N = 6\n",
    "\n",
    "g = sp.Symbol(\"g\")\n",
    "\n",
    "X1 = sp.MatrixSymbol(\"X_1\",N,N)\n",
    "X2 = sp.MatrixSymbol(\"X_2\",N,N)\n",
    "X3 = sp.MatrixSymbol(\"X_3\",N,N)\n",
    "X4 = sp.MatrixSymbol(\"X_4\",N,N)\n",
    "X5 = sp.MatrixSymbol(\"X_5\",N,N)\n",
    "X6 = sp.MatrixSymbol(\"X_6\",N,N)\n",
    "X7 = sp.MatrixSymbol(\"X_7\",N,N)\n",
    "X8 = sp.MatrixSymbol(\"X_8\",N,N)\n",
    "X9 = sp.MatrixSymbol(\"X_9\",N,N)\n",
    "\n",
    "X1_dot = sp.MatrixSymbol(r\"\\dot{X_1}\",N,N)\n",
    "X2_dot = sp.MatrixSymbol(r\"\\dot{X_2}\",N,N)\n",
    "X3_dot = sp.MatrixSymbol(r\"\\dot{X_3}\",N,N)\n",
    "X4_dot = sp.MatrixSymbol(r\"\\dot{X_4}\",N,N)\n",
    "X5_dot = sp.MatrixSymbol(r\"\\dot{X_5}\",N,N)\n",
    "X6_dot = sp.MatrixSymbol(r\"\\dot{X_6}\",N,N)\n",
    "X7_dot = sp.MatrixSymbol(r\"\\dot{X_7}\",N,N)\n",
    "X8_dot = sp.MatrixSymbol(r\"\\dot{X_8}\",N,N)\n",
    "X9_dot = sp.MatrixSymbol(r\"\\dot{X_9}\",N,N)\n",
    "\n",
    "phi1 = 1/sp.sqrt(2) * (X4 + sp.I*X5)\n",
    "phi2 = 1/sp.sqrt(2) * (X6 + sp.I*X7)\n",
    "phi3 = 1/sp.sqrt(2) * (X8 + sp.I*X9)\n",
    "\n",
    "phi1_dot = 1/sp.sqrt(2) * (X4_dot + sp.I*X5_dot)\n",
    "phi2_dot = 1/sp.sqrt(2) * (X6_dot + sp.I*X7_dot)\n",
    "phi3_dot = 1/sp.sqrt(2) * (X8_dot + sp.I*X9_dot)\n",
    "\n",
    "K = (\n",
    "    sp.Rational(1,2) *sp.trace(X1_dot**2 + X2_dot**2 + X3_dot**2) + \n",
    "    \n",
    "    sp.trace(phi1_dot.adjoint() * phi1_dot + phi2_dot.adjoint() * phi2_dot + phi3_dot.adjoint() * phi3_dot)   \n",
    ")\n",
    "\n",
    "V_gauge = (\n",
    "    -sp.Rational(1,2) * sp.trace((X2*X1 - X1*X2)**2 + (X3*X2 - X2*X3)**2) + \n",
    "    \n",
    "    sp.trace((phi1.adjoint()*X1 - X1*phi1.adjoint())*(X1*phi1.adjoint() - phi1.adjoint()*X1)) + \n",
    "    sp.trace((phi1.adjoint()*X2 - X2*phi1.adjoint())*(X2*phi1.adjoint() - phi1.adjoint()*X2)) +\n",
    "    sp.trace((phi1.adjoint()*X3 - X3*phi1.adjoint())*(X3*phi1.adjoint() - phi1.adjoint()*X3)) +\n",
    "    \n",
    "    sp.trace((phi2.adjoint()*X1 - X1*phi2.adjoint())*(X1*phi2.adjoint() - phi2.adjoint()*X1)) + \n",
    "    sp.trace((phi2.adjoint()*X2 - X2*phi2.adjoint())*(X2*phi2.adjoint() - phi2.adjoint()*X2)) +\n",
    "    sp.trace((phi2.adjoint()*X3 - X3*phi2.adjoint())*(X3*phi2.adjoint() - phi2.adjoint()*X3)) +\n",
    "    \n",
    "    sp.trace((phi3.adjoint()*X1 - X1*phi3.adjoint())*(X1*phi3.adjoint() - phi3.adjoint()*X1)) + \n",
    "    sp.trace((phi3.adjoint()*X2 - X2*phi3.adjoint())*(X2*phi3.adjoint() - phi3.adjoint()*X2)) +\n",
    "    sp.trace((phi3.adjoint()*X3 - X3*phi3.adjoint())*(X3*phi3.adjoint() - phi3.adjoint()*X3)) \n",
    ")\n",
    "\n",
    "V_D = (\n",
    "    sp.Rational(1,2) * (\n",
    "        \n",
    "        sp.trace(\n",
    "            (phi1*phi1.adjoint() - phi1.adjoint()*phi1) +\n",
    "            (phi2*phi2.adjoint() - phi2.adjoint()*phi2) +\n",
    "            (phi3*phi3.adjoint() - phi3.adjoint()*phi3)\n",
    "        )**2\n",
    "    )\n",
    ")\n",
    "\n",
    "V_F = (\n",
    "    2*sp.trace((phi1*phi2 - phi2*phi1)*(phi1*phi2 - phi2*phi1).adjoint()) +\n",
    "    2*sp.trace((phi3*phi1 - phi1*phi3)*(phi3*phi1 - phi1*phi3).adjoint()) +\n",
    "    2*sp.trace((phi2*phi3 - phi3*phi2)*(phi2*phi3 - phi3*phi2).adjoint())\n",
    ")\n",
    "\n",
    "L = K - g**2 * (V_gauge + V_D + V_F)"
   ]
  },
  {
   "cell_type": "code",
   "execution_count": 238,
   "id": "7794f24b",
   "metadata": {},
   "outputs": [
    {
     "data": {
      "text/latex": [
       "$\\displaystyle 0$"
      ],
      "text/plain": [
       "0"
      ]
     },
     "execution_count": 238,
     "metadata": {},
     "output_type": "execute_result"
    }
   ],
   "source": [
    "A = sp.MatrixSymbol(\"A\",N,N)\n",
    "B = sp.MatrixSymbol(\"B\",N,N)\n",
    "X = sp.MatrixSymbol(\"X\",N,N)\n",
    "sp.trace(A*X + B*X).diff(X)"
   ]
  },
  {
   "cell_type": "code",
   "execution_count": 216,
   "id": "22ada244",
   "metadata": {},
   "outputs": [
    {
     "data": {
      "text/latex": [
       "$\\displaystyle A^{T} + B^{T}$"
      ],
      "text/plain": [
       "A.T + B.T"
      ]
     },
     "execution_count": 216,
     "metadata": {},
     "output_type": "execute_result"
    }
   ],
   "source": [
    "sp.trace(A*X).diff(X) + sp.trace(B*X).diff(X)"
   ]
  },
  {
   "cell_type": "code",
   "execution_count": 209,
   "id": "499f78a1",
   "metadata": {},
   "outputs": [
    {
     "data": {
      "text/latex": [
       "$\\displaystyle 3 x^{2} + 2 x + 1$"
      ],
      "text/plain": [
       "3*x**2 + 2*x + 1"
      ]
     },
     "execution_count": 209,
     "metadata": {},
     "output_type": "execute_result"
    }
   ],
   "source": [
    "x = sp.Symbol(\"x\")\n",
    "expr = x**2 + x**3 + x\n",
    "expr.diff(x)"
   ]
  },
  {
   "cell_type": "code",
   "execution_count": null,
   "id": "d84fff68",
   "metadata": {},
   "outputs": [],
   "source": []
  }
 ],
 "metadata": {
  "kernelspec": {
   "display_name": "Python 3 (ipykernel)",
   "language": "python",
   "name": "python3"
  },
  "language_info": {
   "codemirror_mode": {
    "name": "ipython",
    "version": 3
   },
   "file_extension": ".py",
   "mimetype": "text/x-python",
   "name": "python",
   "nbconvert_exporter": "python",
   "pygments_lexer": "ipython3",
   "version": "3.10.9"
  }
 },
 "nbformat": 4,
 "nbformat_minor": 5
}
