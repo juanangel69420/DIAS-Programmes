{
 "cells": [
  {
   "cell_type": "code",
   "execution_count": 1,
   "id": "90aa8e7a",
   "metadata": {},
   "outputs": [],
   "source": [
    "import numpy as np\n",
    "import matplotlib.pyplot as plt\n",
    "import time"
   ]
  },
  {
   "cell_type": "code",
   "execution_count": null,
   "id": "5cbc964e",
   "metadata": {},
   "outputs": [],
   "source": [
    "N = 4\n",
    "record = 1000\n",
    "\n",
    "X_sols = np.loadtxt(\"C:/Users/cilli/DIAS.cpp/D0_Brane_Solutions/8x8/E_351_T1000/X_sols.txt\",dtype = tuple,delimiter = \":\")\n",
    "X_sols_ds = np.loadtxt(\"C:/Users/cilli/DIAS.cpp/D0_Brane_Solutions/8x8/E_351_T1000/X_sols_ds.txt\", dtype = tuple, delimiter = \":\")\n",
    "V_sols = np.loadtxt(\"C:/Users/cilli/DIAS.cpp/D0_Brane_Solutions/8x8/E_351_T1000/V_sols.txt\", dtype = tuple, delimiter = \":\")\n",
    "V_sols_ds = np.loadtxt(\"C:/Users/cilli/DIAS.cpp/D0_Brane_Solutions/8x8/E_351_T1000/V_sols_ds.txt\", dtype = tuple, delimiter = \":\")"
   ]
  }
 ],
 "metadata": {
  "kernelspec": {
   "display_name": "Python 3 (ipykernel)",
   "language": "python",
   "name": "python3"
  },
  "language_info": {
   "codemirror_mode": {
    "name": "ipython",
    "version": 3
   },
   "file_extension": ".py",
   "mimetype": "text/x-python",
   "name": "python",
   "nbconvert_exporter": "python",
   "pygments_lexer": "ipython3",
   "version": "3.10.9"
  }
 },
 "nbformat": 4,
 "nbformat_minor": 5
}
